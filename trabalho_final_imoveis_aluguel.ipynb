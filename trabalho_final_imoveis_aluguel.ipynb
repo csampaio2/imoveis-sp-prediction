{
 "cells": [
  {
   "cell_type": "markdown",
   "id": "4d913060",
   "metadata": {},
   "source": [
    "# Previsão de valores do aluguel de imóveis no município de São Paulo"
   ]
  },
  {
   "cell_type": "code",
   "execution_count": 68,
   "id": "f8b598ef",
   "metadata": {},
   "outputs": [],
   "source": [
    "import pandas as pd"
   ]
  },
  {
   "cell_type": "code",
   "execution_count": 69,
   "id": "ca881464",
   "metadata": {},
   "outputs": [
    {
     "data": {
      "application/vnd.microsoft.datawrangler.viewer.v0+json": {
       "columns": [
        {
         "name": "index",
         "rawType": "int64",
         "type": "integer"
        },
        {
         "name": "address",
         "rawType": "object",
         "type": "string"
        },
        {
         "name": "district",
         "rawType": "object",
         "type": "string"
        },
        {
         "name": "area",
         "rawType": "int64",
         "type": "integer"
        },
        {
         "name": "bedrooms",
         "rawType": "int64",
         "type": "integer"
        },
        {
         "name": "garage",
         "rawType": "int64",
         "type": "integer"
        },
        {
         "name": "type",
         "rawType": "object",
         "type": "string"
        },
        {
         "name": "rent",
         "rawType": "int64",
         "type": "integer"
        },
        {
         "name": "total",
         "rawType": "int64",
         "type": "integer"
        }
       ],
       "ref": "390a78cb-0625-473a-bd15-2c2032f7f9a8",
       "rows": [
        [
         "0",
         "Rua Herval",
         "Belenzinho",
         "21",
         "1",
         "0",
         "Studio e kitnet",
         "2400",
         "2939"
        ],
        [
         "1",
         "Avenida São Miguel",
         "Vila Marieta",
         "15",
         "1",
         "1",
         "Studio e kitnet",
         "1030",
         "1345"
        ],
        [
         "2",
         "Rua Oscar Freire",
         "Pinheiros",
         "18",
         "1",
         "0",
         "Apartamento",
         "4000",
         "4661"
        ],
        [
         "3",
         "Rua Júlio Sayago",
         "Vila Ré",
         "56",
         "2",
         "2",
         "Casa em condomínio",
         "1750",
         "1954"
        ],
        [
         "4",
         "Rua Barata Ribeiro",
         "Bela Vista",
         "19",
         "1",
         "0",
         "Studio e kitnet",
         "4000",
         "4654"
        ],
        [
         "5",
         "Rua Domingos Paiva",
         "Brás",
         "50",
         "2",
         "1",
         "Apartamento",
         "3800",
         "4587"
        ],
        [
         "6",
         "Rua Guararapes",
         "Brooklin Paulista",
         "72",
         "2",
         "1",
         "Apartamento",
         "3500",
         "5187"
        ],
        [
         "7",
         "Avenida Cásper Líbero",
         "Centro",
         "26",
         "1",
         "0",
         "Studio e kitnet",
         "1727",
         "2244"
        ],
        [
         "8",
         "Rua José Peres Campelo",
         "Piqueri",
         "32",
         "2",
         "0",
         "Apartamento",
         "1200",
         "1592"
        ],
        [
         "9",
         "Rua Guaperuvu",
         "Vila Aricanduva",
         "36",
         "1",
         "0",
         "Apartamento",
         "1200",
         "1501"
        ],
        [
         "10",
         "Rua dos Carmelitas",
         "Sé",
         "63",
         "2",
         "0",
         "Apartamento",
         "1500",
         "2020"
        ],
        [
         "11",
         "Rua Tabatinguera",
         "Sé",
         "34",
         "1",
         "0",
         "Apartamento",
         "1000",
         "1406"
        ],
        [
         "12",
         "Rua Henrique Sertório",
         "Tatuapé",
         "32",
         "1",
         "0",
         "Studio e kitnet",
         "2100",
         "2598"
        ],
        [
         "13",
         "Rua Herison",
         "Lauzane Paulista",
         "50",
         "3",
         "0",
         "Casa em condomínio",
         "1437",
         "1517"
        ],
        [
         "14",
         "Rua Orestes Barbosa",
         "Jardim Paraventi",
         "70",
         "2",
         "1",
         "Casa",
         "1600",
         "1768"
        ],
        [
         "15",
         "Rua Scuvero",
         "Cambuci",
         "75",
         "2",
         "0",
         "Casa",
         "2266",
         "2422"
        ],
        [
         "16",
         "Rua Doutor Tomaz de Lima",
         "Liberdade",
         "64",
         "2",
         "0",
         "Apartamento",
         "1530",
         "2049"
        ],
        [
         "17",
         "Rua Conselheiro Furtado",
         "Liberdade",
         "28",
         "1",
         "0",
         "Studio e kitnet",
         "2300",
         "2750"
        ],
        [
         "18",
         "Rua Guaraiuva",
         "Cidade Monções",
         "30",
         "1",
         "1",
         "Casa",
         "2394",
         "2538"
        ],
        [
         "19",
         "Rua Torres da Barra",
         "Água Branca",
         "32",
         "1",
         "0",
         "Apartamento",
         "1764",
         "2177"
        ],
        [
         "20",
         "Rua Guarapuava",
         "Mooca",
         "36",
         "1",
         "0",
         "Apartamento",
         "1850",
         "2281"
        ],
        [
         "21",
         "Rua dos Estudantes",
         "Sé",
         "30",
         "1",
         "0",
         "Apartamento",
         "1700",
         "2066"
        ],
        [
         "22",
         "Rua Fernando de Noronha",
         "Chácara Inglesa",
         "62",
         "2",
         "1",
         "Apartamento",
         "2700",
         "3754"
        ],
        [
         "23",
         "Avenida Condessa Elizabeth de Robiano",
         "Vila Moreira",
         "40",
         "2",
         "1",
         "Apartamento",
         "1900",
         "2233"
        ],
        [
         "24",
         "Rua Nadir",
         "Gopoúva",
         "54",
         "2",
         "1",
         "Apartamento",
         "2000",
         "2536"
        ],
        [
         "25",
         "Avenida dos Ourives",
         "Jardim São Savério",
         "63",
         "3",
         "1",
         "Apartamento",
         "1460",
         "2018"
        ],
        [
         "26",
         "Rua Elza Guimarães",
         "Vila Amalia (zona Norte)",
         "59",
         "3",
         "1",
         "Apartamento",
         "1500",
         "1958"
        ],
        [
         "27",
         "Avenida Cásper Líbero",
         "Centro",
         "25",
         "1",
         "0",
         "Studio e kitnet",
         "2100",
         "2571"
        ],
        [
         "28",
         "Rua Dom Macário",
         "Saúde",
         "54",
         "2",
         "0",
         "Apartamento",
         "1100",
         "1462"
        ],
        [
         "29",
         "Rua Marcelo Homem de Melo",
         "Quarta Parada",
         "62",
         "2",
         "0",
         "Casa",
         "2500",
         "2594"
        ],
        [
         "30",
         "Largo do Arouche",
         "Santa Efigênia",
         "80",
         "1",
         "0",
         "Apartamento",
         "2300",
         "2969"
        ],
        [
         "31",
         "Rua Ricardo Avenarius",
         "Paraíso do Morumbi",
         "24",
         "1",
         "0",
         "Apartamento",
         "900",
         "1245"
        ],
        [
         "32",
         "Rua Nova dos Portugueses",
         "Chora Menino",
         "100",
         "3",
         "2",
         "Casa",
         "2450",
         "2771"
        ],
        [
         "33",
         "Rua Itamonte",
         "Vila Medeiros",
         "48",
         "2",
         "1",
         "Apartamento",
         "1600",
         "1955"
        ],
        [
         "34",
         "Avenida Antônio Buono",
         "Vila Guarani(zona Leste)",
         "35",
         "1",
         "0",
         "Studio e kitnet",
         "1110",
         "1153"
        ],
        [
         "35",
         "Avenida Rangel Pestana",
         "Brás",
         "32",
         "1",
         "0",
         "Apartamento",
         "1900",
         "2249"
        ],
        [
         "36",
         "Rua Cônego Vicente Miguel Marino",
         "Barra Funda",
         "33",
         "1",
         "0",
         "Apartamento",
         "2200",
         "2624"
        ],
        [
         "37",
         "Rua Salvador Gaeta",
         "Vila Augusta",
         "68",
         "2",
         "2",
         "Casa",
         "2426",
         "2574"
        ],
        [
         "38",
         "Rua Casa do Ator",
         "Vila Olímpia",
         "69",
         "2",
         "1",
         "Apartamento",
         "2910",
         "3970"
        ],
        [
         "39",
         "Av.nove de Julho",
         "Bela Vista",
         "25",
         "1",
         "0",
         "Apartamento",
         "2500",
         "3008"
        ],
        [
         "40",
         "Rua Joaquim Afonso de Souza",
         "Vila Celeste",
         "110",
         "2",
         "0",
         "Casa",
         "1300",
         "1355"
        ],
        [
         "41",
         "Rua Glória do Goitá 335 Apt 112",
         "Jardim Independência",
         "29",
         "1",
         "0",
         "Studio e kitnet",
         "1180",
         "1411"
        ],
        [
         "42",
         "Rua Martim Burchard",
         "Brás",
         "44",
         "2",
         "0",
         "Apartamento",
         "2250",
         "2712"
        ],
        [
         "43",
         "Rua Tuiuti",
         "Tatuapé",
         "61",
         "2",
         "1",
         "Apartamento",
         "1900",
         "2882"
        ],
        [
         "44",
         "Rua das Palmeiras",
         "Vila Buarque",
         "11",
         "1",
         "0",
         "Studio e kitnet",
         "1560",
         "1904"
        ],
        [
         "45",
         "Rua São Lourenço",
         "Vila Vivaldi",
         "64",
         "2",
         "1",
         "Casa",
         "2500",
         "2715"
        ],
        [
         "46",
         "Rua João Mafra",
         "Vila Brasílio Machado",
         "56",
         "2",
         "2",
         "Apartamento",
         "1900",
         "2700"
        ],
        [
         "47",
         "Rua Sebastião Mariano",
         "Vila Carlos de Campos",
         "60",
         "2",
         "1",
         "Casa",
         "1600",
         "1668"
        ],
        [
         "48",
         "Avenida Vila Ema",
         "Vila Prudente",
         "56",
         "2",
         "1",
         "Apartamento",
         "1890",
         "2222"
        ],
        [
         "49",
         "Rua Almaden",
         "Vila Andrade",
         "62",
         "2",
         "1",
         "Apartamento",
         "3300",
         "4354"
        ]
       ],
       "shape": {
        "columns": 8,
        "rows": 11657
       }
      },
      "text/html": [
       "<div>\n",
       "<style scoped>\n",
       "    .dataframe tbody tr th:only-of-type {\n",
       "        vertical-align: middle;\n",
       "    }\n",
       "\n",
       "    .dataframe tbody tr th {\n",
       "        vertical-align: top;\n",
       "    }\n",
       "\n",
       "    .dataframe thead th {\n",
       "        text-align: right;\n",
       "    }\n",
       "</style>\n",
       "<table border=\"1\" class=\"dataframe\">\n",
       "  <thead>\n",
       "    <tr style=\"text-align: right;\">\n",
       "      <th></th>\n",
       "      <th>address</th>\n",
       "      <th>district</th>\n",
       "      <th>area</th>\n",
       "      <th>bedrooms</th>\n",
       "      <th>garage</th>\n",
       "      <th>type</th>\n",
       "      <th>rent</th>\n",
       "      <th>total</th>\n",
       "    </tr>\n",
       "  </thead>\n",
       "  <tbody>\n",
       "    <tr>\n",
       "      <th>0</th>\n",
       "      <td>Rua Herval</td>\n",
       "      <td>Belenzinho</td>\n",
       "      <td>21</td>\n",
       "      <td>1</td>\n",
       "      <td>0</td>\n",
       "      <td>Studio e kitnet</td>\n",
       "      <td>2400</td>\n",
       "      <td>2939</td>\n",
       "    </tr>\n",
       "    <tr>\n",
       "      <th>1</th>\n",
       "      <td>Avenida São Miguel</td>\n",
       "      <td>Vila Marieta</td>\n",
       "      <td>15</td>\n",
       "      <td>1</td>\n",
       "      <td>1</td>\n",
       "      <td>Studio e kitnet</td>\n",
       "      <td>1030</td>\n",
       "      <td>1345</td>\n",
       "    </tr>\n",
       "    <tr>\n",
       "      <th>2</th>\n",
       "      <td>Rua Oscar Freire</td>\n",
       "      <td>Pinheiros</td>\n",
       "      <td>18</td>\n",
       "      <td>1</td>\n",
       "      <td>0</td>\n",
       "      <td>Apartamento</td>\n",
       "      <td>4000</td>\n",
       "      <td>4661</td>\n",
       "    </tr>\n",
       "    <tr>\n",
       "      <th>3</th>\n",
       "      <td>Rua Júlio Sayago</td>\n",
       "      <td>Vila Ré</td>\n",
       "      <td>56</td>\n",
       "      <td>2</td>\n",
       "      <td>2</td>\n",
       "      <td>Casa em condomínio</td>\n",
       "      <td>1750</td>\n",
       "      <td>1954</td>\n",
       "    </tr>\n",
       "    <tr>\n",
       "      <th>4</th>\n",
       "      <td>Rua Barata Ribeiro</td>\n",
       "      <td>Bela Vista</td>\n",
       "      <td>19</td>\n",
       "      <td>1</td>\n",
       "      <td>0</td>\n",
       "      <td>Studio e kitnet</td>\n",
       "      <td>4000</td>\n",
       "      <td>4654</td>\n",
       "    </tr>\n",
       "    <tr>\n",
       "      <th>...</th>\n",
       "      <td>...</td>\n",
       "      <td>...</td>\n",
       "      <td>...</td>\n",
       "      <td>...</td>\n",
       "      <td>...</td>\n",
       "      <td>...</td>\n",
       "      <td>...</td>\n",
       "      <td>...</td>\n",
       "    </tr>\n",
       "    <tr>\n",
       "      <th>11652</th>\n",
       "      <td>Avenida Adolfo Pinheiro</td>\n",
       "      <td>Santo Amaro</td>\n",
       "      <td>94</td>\n",
       "      <td>2</td>\n",
       "      <td>1</td>\n",
       "      <td>Apartamento</td>\n",
       "      <td>4100</td>\n",
       "      <td>5778</td>\n",
       "    </tr>\n",
       "    <tr>\n",
       "      <th>11653</th>\n",
       "      <td>Rua Professor Alexandre Correia</td>\n",
       "      <td>Jardim Vitória Régia</td>\n",
       "      <td>350</td>\n",
       "      <td>4</td>\n",
       "      <td>4</td>\n",
       "      <td>Apartamento</td>\n",
       "      <td>11250</td>\n",
       "      <td>17480</td>\n",
       "    </tr>\n",
       "    <tr>\n",
       "      <th>11654</th>\n",
       "      <td>Rua Abílio Borin</td>\n",
       "      <td>Jardim Caravelas</td>\n",
       "      <td>84</td>\n",
       "      <td>1</td>\n",
       "      <td>2</td>\n",
       "      <td>Apartamento</td>\n",
       "      <td>4500</td>\n",
       "      <td>5467</td>\n",
       "    </tr>\n",
       "    <tr>\n",
       "      <th>11655</th>\n",
       "      <td>Rua Forte William</td>\n",
       "      <td>Jardim Fonte do Morumbi</td>\n",
       "      <td>76</td>\n",
       "      <td>1</td>\n",
       "      <td>0</td>\n",
       "      <td>Apartamento</td>\n",
       "      <td>9000</td>\n",
       "      <td>10200</td>\n",
       "    </tr>\n",
       "    <tr>\n",
       "      <th>11656</th>\n",
       "      <td>Rua Alexandre Dumas</td>\n",
       "      <td>Santo Amaro</td>\n",
       "      <td>110</td>\n",
       "      <td>3</td>\n",
       "      <td>1</td>\n",
       "      <td>Casa</td>\n",
       "      <td>3300</td>\n",
       "      <td>3440</td>\n",
       "    </tr>\n",
       "  </tbody>\n",
       "</table>\n",
       "<p>11657 rows × 8 columns</p>\n",
       "</div>"
      ],
      "text/plain": [
       "                               address                 district  area  \\\n",
       "0                           Rua Herval               Belenzinho    21   \n",
       "1                   Avenida São Miguel             Vila Marieta    15   \n",
       "2                     Rua Oscar Freire                Pinheiros    18   \n",
       "3                     Rua Júlio Sayago                  Vila Ré    56   \n",
       "4                   Rua Barata Ribeiro               Bela Vista    19   \n",
       "...                                ...                      ...   ...   \n",
       "11652          Avenida Adolfo Pinheiro              Santo Amaro    94   \n",
       "11653  Rua Professor Alexandre Correia     Jardim Vitória Régia   350   \n",
       "11654                 Rua Abílio Borin         Jardim Caravelas    84   \n",
       "11655                Rua Forte William  Jardim Fonte do Morumbi    76   \n",
       "11656              Rua Alexandre Dumas              Santo Amaro   110   \n",
       "\n",
       "       bedrooms  garage                type   rent  total  \n",
       "0             1       0     Studio e kitnet   2400   2939  \n",
       "1             1       1     Studio e kitnet   1030   1345  \n",
       "2             1       0         Apartamento   4000   4661  \n",
       "3             2       2  Casa em condomínio   1750   1954  \n",
       "4             1       0     Studio e kitnet   4000   4654  \n",
       "...         ...     ...                 ...    ...    ...  \n",
       "11652         2       1         Apartamento   4100   5778  \n",
       "11653         4       4         Apartamento  11250  17480  \n",
       "11654         1       2         Apartamento   4500   5467  \n",
       "11655         1       0         Apartamento   9000  10200  \n",
       "11656         3       1                Casa   3300   3440  \n",
       "\n",
       "[11657 rows x 8 columns]"
      ]
     },
     "execution_count": 69,
     "metadata": {},
     "output_type": "execute_result"
    }
   ],
   "source": [
    "df_imoveis = pd.read_csv('./dados/data.csv')\n",
    "df_imoveis"
   ]
  },
  {
   "cell_type": "markdown",
   "id": "7b28a6bf",
   "metadata": {},
   "source": [
    "## Análise dos dados"
   ]
  },
  {
   "cell_type": "code",
   "execution_count": 70,
   "id": "6081c26e",
   "metadata": {},
   "outputs": [
    {
     "name": "stdout",
     "output_type": "stream",
     "text": [
      "<class 'pandas.core.frame.DataFrame'>\n",
      "RangeIndex: 11657 entries, 0 to 11656\n",
      "Data columns (total 8 columns):\n",
      " #   Column    Non-Null Count  Dtype \n",
      "---  ------    --------------  ----- \n",
      " 0   address   11657 non-null  object\n",
      " 1   district  11657 non-null  object\n",
      " 2   area      11657 non-null  int64 \n",
      " 3   bedrooms  11657 non-null  int64 \n",
      " 4   garage    11657 non-null  int64 \n",
      " 5   type      11657 non-null  object\n",
      " 6   rent      11657 non-null  int64 \n",
      " 7   total     11657 non-null  int64 \n",
      "dtypes: int64(5), object(3)\n",
      "memory usage: 728.7+ KB\n"
     ]
    }
   ],
   "source": [
    "df_imoveis.info()"
   ]
  },
  {
   "cell_type": "code",
   "execution_count": 71,
   "id": "bdab5444",
   "metadata": {},
   "outputs": [
    {
     "data": {
      "application/vnd.microsoft.datawrangler.viewer.v0+json": {
       "columns": [
        {
         "name": "index",
         "rawType": "object",
         "type": "string"
        },
        {
         "name": "area",
         "rawType": "float64",
         "type": "float"
        },
        {
         "name": "bedrooms",
         "rawType": "float64",
         "type": "float"
        },
        {
         "name": "garage",
         "rawType": "float64",
         "type": "float"
        },
        {
         "name": "rent",
         "rawType": "float64",
         "type": "float"
        },
        {
         "name": "total",
         "rawType": "float64",
         "type": "float"
        }
       ],
       "ref": "d3ea7243-9c0f-45b9-ac19-da5c3d7c4d72",
       "rows": [
        [
         "count",
         "11657.0",
         "11657.0",
         "11657.0",
         "11657.0",
         "11657.0"
        ],
        [
         "mean",
         "84.65565754482286",
         "1.966286351548426",
         "1.0603928969717766",
         "3250.814789396929",
         "4080.030625375311"
        ],
        [
         "std",
         "74.02053628197318",
         "0.9313125390072654",
         "1.132348773143743",
         "2650.7115571790505",
         "3352.48027403938"
        ],
        [
         "min",
         "0.0",
         "0.0",
         "0.0",
         "500.0",
         "509.0"
        ],
        [
         "25%",
         "40.0",
         "1.0",
         "0.0",
         "1590.0",
         "1996.0"
        ],
        [
         "50%",
         "60.0",
         "2.0",
         "1.0",
         "2415.0",
         "3057.0"
        ],
        [
         "75%",
         "96.0",
         "3.0",
         "2.0",
         "3800.0",
         "4774.0"
        ],
        [
         "max",
         "580.0",
         "6.0",
         "6.0",
         "25000.0",
         "28700.0"
        ]
       ],
       "shape": {
        "columns": 5,
        "rows": 8
       }
      },
      "text/html": [
       "<div>\n",
       "<style scoped>\n",
       "    .dataframe tbody tr th:only-of-type {\n",
       "        vertical-align: middle;\n",
       "    }\n",
       "\n",
       "    .dataframe tbody tr th {\n",
       "        vertical-align: top;\n",
       "    }\n",
       "\n",
       "    .dataframe thead th {\n",
       "        text-align: right;\n",
       "    }\n",
       "</style>\n",
       "<table border=\"1\" class=\"dataframe\">\n",
       "  <thead>\n",
       "    <tr style=\"text-align: right;\">\n",
       "      <th></th>\n",
       "      <th>area</th>\n",
       "      <th>bedrooms</th>\n",
       "      <th>garage</th>\n",
       "      <th>rent</th>\n",
       "      <th>total</th>\n",
       "    </tr>\n",
       "  </thead>\n",
       "  <tbody>\n",
       "    <tr>\n",
       "      <th>count</th>\n",
       "      <td>11657.000000</td>\n",
       "      <td>11657.000000</td>\n",
       "      <td>11657.000000</td>\n",
       "      <td>11657.000000</td>\n",
       "      <td>11657.000000</td>\n",
       "    </tr>\n",
       "    <tr>\n",
       "      <th>mean</th>\n",
       "      <td>84.655658</td>\n",
       "      <td>1.966286</td>\n",
       "      <td>1.060393</td>\n",
       "      <td>3250.814789</td>\n",
       "      <td>4080.030625</td>\n",
       "    </tr>\n",
       "    <tr>\n",
       "      <th>std</th>\n",
       "      <td>74.020536</td>\n",
       "      <td>0.931313</td>\n",
       "      <td>1.132349</td>\n",
       "      <td>2650.711557</td>\n",
       "      <td>3352.480274</td>\n",
       "    </tr>\n",
       "    <tr>\n",
       "      <th>min</th>\n",
       "      <td>0.000000</td>\n",
       "      <td>0.000000</td>\n",
       "      <td>0.000000</td>\n",
       "      <td>500.000000</td>\n",
       "      <td>509.000000</td>\n",
       "    </tr>\n",
       "    <tr>\n",
       "      <th>25%</th>\n",
       "      <td>40.000000</td>\n",
       "      <td>1.000000</td>\n",
       "      <td>0.000000</td>\n",
       "      <td>1590.000000</td>\n",
       "      <td>1996.000000</td>\n",
       "    </tr>\n",
       "    <tr>\n",
       "      <th>50%</th>\n",
       "      <td>60.000000</td>\n",
       "      <td>2.000000</td>\n",
       "      <td>1.000000</td>\n",
       "      <td>2415.000000</td>\n",
       "      <td>3057.000000</td>\n",
       "    </tr>\n",
       "    <tr>\n",
       "      <th>75%</th>\n",
       "      <td>96.000000</td>\n",
       "      <td>3.000000</td>\n",
       "      <td>2.000000</td>\n",
       "      <td>3800.000000</td>\n",
       "      <td>4774.000000</td>\n",
       "    </tr>\n",
       "    <tr>\n",
       "      <th>max</th>\n",
       "      <td>580.000000</td>\n",
       "      <td>6.000000</td>\n",
       "      <td>6.000000</td>\n",
       "      <td>25000.000000</td>\n",
       "      <td>28700.000000</td>\n",
       "    </tr>\n",
       "  </tbody>\n",
       "</table>\n",
       "</div>"
      ],
      "text/plain": [
       "               area      bedrooms        garage          rent         total\n",
       "count  11657.000000  11657.000000  11657.000000  11657.000000  11657.000000\n",
       "mean      84.655658      1.966286      1.060393   3250.814789   4080.030625\n",
       "std       74.020536      0.931313      1.132349   2650.711557   3352.480274\n",
       "min        0.000000      0.000000      0.000000    500.000000    509.000000\n",
       "25%       40.000000      1.000000      0.000000   1590.000000   1996.000000\n",
       "50%       60.000000      2.000000      1.000000   2415.000000   3057.000000\n",
       "75%       96.000000      3.000000      2.000000   3800.000000   4774.000000\n",
       "max      580.000000      6.000000      6.000000  25000.000000  28700.000000"
      ]
     },
     "execution_count": 71,
     "metadata": {},
     "output_type": "execute_result"
    }
   ],
   "source": [
    "df_imoveis.describe()"
   ]
  },
  {
   "cell_type": "code",
   "execution_count": 72,
   "id": "e4b83213",
   "metadata": {},
   "outputs": [
    {
     "data": {
      "image/png": "[encoded data removed]",
      "text/plain": [
       "<Figure size 1500x600 with 2 Axes>"
      ]
     },
     "metadata": {},
     "output_type": "display_data"
    }
   ],
   "source": [
    "import numpy as np\n",
    "import matplotlib.pyplot as plt\n",
    "import seaborn as sns\n",
    "\n",
    "fig, axes = plt.subplots(1, 2, figsize=(15, 6))\n",
    "\n",
    "# Histograma (usando Matplotlib)\n",
    "axes[0].hist(df_imoveis.area, bins=10, color='skyblue', edgecolor='black')\n",
    "axes[0].set_title('Histograma da Área')\n",
    "axes[0].set_xlabel('Area')\n",
    "axes[0].set_ylabel('Frequência')\n",
    "\n",
    "# Gráfico de Densidade (KDE Plot - usando Seaborn)\n",
    "sns.kdeplot(data=df_imoveis, x='area', fill=True, color='purple', ax=axes[1])\n",
    "axes[1].set_title('Gráfico de Densidade da Área')\n",
    "axes[1].set_xlabel('Área')\n",
    "axes[1].set_ylabel('Densidade')\n",
    "\n",
    "plt.tight_layout()\n",
    "plt.show()\n"
   ]
  },
  {
   "cell_type": "code",
   "execution_count": 73,
   "id": "2417a793",
   "metadata": {},
   "outputs": [
    {
     "data": {
      "application/vnd.microsoft.datawrangler.viewer.v0+json": {
       "columns": [
        {
         "name": "index",
         "rawType": "object",
         "type": "string"
        },
        {
         "name": "area",
         "rawType": "float64",
         "type": "float"
        }
       ],
       "ref": "feaf495b-75e2-4885-baf0-62cd166028f3",
       "rows": [
        [
         "count",
         "11657.0"
        ],
        [
         "mean",
         "84.65565754482286"
        ],
        [
         "std",
         "74.02053628197318"
        ],
        [
         "min",
         "0.0"
        ],
        [
         "25%",
         "40.0"
        ],
        [
         "50%",
         "60.0"
        ],
        [
         "75%",
         "96.0"
        ],
        [
         "max",
         "580.0"
        ]
       ],
       "shape": {
        "columns": 1,
        "rows": 8
       }
      },
      "text/plain": [
       "count    11657.000000\n",
       "mean        84.655658\n",
       "std         74.020536\n",
       "min          0.000000\n",
       "25%         40.000000\n",
       "50%         60.000000\n",
       "75%         96.000000\n",
       "max        580.000000\n",
       "Name: area, dtype: float64"
      ]
     },
     "execution_count": 73,
     "metadata": {},
     "output_type": "execute_result"
    },
    {
     "data": {
      "image/png": "[encoded data removed]",
      "text/plain": [
       "<Figure size 1000x600 with 1 Axes>"
      ]
     },
     "metadata": {},
     "output_type": "display_data"
    }
   ],
   "source": [
    "plt.figure(figsize=(10, 6))\n",
    "sns.boxplot(x=df_imoveis['area'])\n",
    "df_imoveis.area.describe()"
   ]
  },
  {
   "cell_type": "code",
   "execution_count": 74,
   "id": "485aa9f6",
   "metadata": {},
   "outputs": [
    {
     "data": {
      "application/vnd.microsoft.datawrangler.viewer.v0+json": {
       "columns": [
        {
         "name": "index",
         "rawType": "int64",
         "type": "integer"
        },
        {
         "name": "address",
         "rawType": "object",
         "type": "string"
        },
        {
         "name": "district",
         "rawType": "object",
         "type": "string"
        },
        {
         "name": "area",
         "rawType": "int64",
         "type": "integer"
        },
        {
         "name": "bedrooms",
         "rawType": "int64",
         "type": "integer"
        },
        {
         "name": "garage",
         "rawType": "int64",
         "type": "integer"
        },
        {
         "name": "type",
         "rawType": "object",
         "type": "string"
        },
        {
         "name": "rent",
         "rawType": "int64",
         "type": "integer"
        },
        {
         "name": "total",
         "rawType": "int64",
         "type": "integer"
        }
       ],
       "ref": "28a8827d-6381-4d7d-a611-54accb211200",
       "rows": [
        [
         "51",
         "Rua Tanque Velho",
         "Vila Nivi",
         "45",
         "1",
         "0",
         "Casa",
         "500",
         "551"
        ],
        [
         "1188",
         "Viela Renaldo Laporta",
         "Vila Aurora (zona Norte)",
         "30",
         "1",
         "0",
         "Casa",
         "500",
         "521"
        ],
        [
         "4741",
         "Rua Manoel Oliveira Gonçalves",
         "Jardim Jaçanã",
         "30",
         "1",
         "0",
         "Casa",
         "500",
         "509"
        ],
        [
         "5901",
         "Rua Manuel José Rodrigues",
         "Sacoma",
         "40",
         "1",
         "0",
         "Casa",
         "500",
         "521"
        ],
        [
         "6428",
         "Rua Eugênia S Vitale",
         "Taboão",
         "30",
         "1",
         "0",
         "Studio e kitnet",
         "500",
         "594"
        ],
        [
         "7420",
         "Rua Manuel José Rodrigues",
         "Sacoma",
         "20",
         "1",
         "0",
         "Casa",
         "500",
         "521"
        ],
        [
         "10559",
         "Rua Arraial de São Bartolomeu",
         "Vila Carmosina",
         "70",
         "2",
         "0",
         "Casa",
         "500",
         "821"
        ]
       ],
       "shape": {
        "columns": 8,
        "rows": 7
       }
      },
      "text/html": [
       "<div>\n",
       "<style scoped>\n",
       "    .dataframe tbody tr th:only-of-type {\n",
       "        vertical-align: middle;\n",
       "    }\n",
       "\n",
       "    .dataframe tbody tr th {\n",
       "        vertical-align: top;\n",
       "    }\n",
       "\n",
       "    .dataframe thead th {\n",
       "        text-align: right;\n",
       "    }\n",
       "</style>\n",
       "<table border=\"1\" class=\"dataframe\">\n",
       "  <thead>\n",
       "    <tr style=\"text-align: right;\">\n",
       "      <th></th>\n",
       "      <th>address</th>\n",
       "      <th>district</th>\n",
       "      <th>area</th>\n",
       "      <th>bedrooms</th>\n",
       "      <th>garage</th>\n",
       "      <th>type</th>\n",
       "      <th>rent</th>\n",
       "      <th>total</th>\n",
       "    </tr>\n",
       "  </thead>\n",
       "  <tbody>\n",
       "    <tr>\n",
       "      <th>51</th>\n",
       "      <td>Rua Tanque Velho</td>\n",
       "      <td>Vila Nivi</td>\n",
       "      <td>45</td>\n",
       "      <td>1</td>\n",
       "      <td>0</td>\n",
       "      <td>Casa</td>\n",
       "      <td>500</td>\n",
       "      <td>551</td>\n",
       "    </tr>\n",
       "    <tr>\n",
       "      <th>1188</th>\n",
       "      <td>Viela Renaldo Laporta</td>\n",
       "      <td>Vila Aurora (zona Norte)</td>\n",
       "      <td>30</td>\n",
       "      <td>1</td>\n",
       "      <td>0</td>\n",
       "      <td>Casa</td>\n",
       "      <td>500</td>\n",
       "      <td>521</td>\n",
       "    </tr>\n",
       "    <tr>\n",
       "      <th>4741</th>\n",
       "      <td>Rua Manoel Oliveira Gonçalves</td>\n",
       "      <td>Jardim Jaçanã</td>\n",
       "      <td>30</td>\n",
       "      <td>1</td>\n",
       "      <td>0</td>\n",
       "      <td>Casa</td>\n",
       "      <td>500</td>\n",
       "      <td>509</td>\n",
       "    </tr>\n",
       "    <tr>\n",
       "      <th>5901</th>\n",
       "      <td>Rua Manuel José Rodrigues</td>\n",
       "      <td>Sacoma</td>\n",
       "      <td>40</td>\n",
       "      <td>1</td>\n",
       "      <td>0</td>\n",
       "      <td>Casa</td>\n",
       "      <td>500</td>\n",
       "      <td>521</td>\n",
       "    </tr>\n",
       "    <tr>\n",
       "      <th>6428</th>\n",
       "      <td>Rua Eugênia S Vitale</td>\n",
       "      <td>Taboão</td>\n",
       "      <td>30</td>\n",
       "      <td>1</td>\n",
       "      <td>0</td>\n",
       "      <td>Studio e kitnet</td>\n",
       "      <td>500</td>\n",
       "      <td>594</td>\n",
       "    </tr>\n",
       "    <tr>\n",
       "      <th>7420</th>\n",
       "      <td>Rua Manuel José Rodrigues</td>\n",
       "      <td>Sacoma</td>\n",
       "      <td>20</td>\n",
       "      <td>1</td>\n",
       "      <td>0</td>\n",
       "      <td>Casa</td>\n",
       "      <td>500</td>\n",
       "      <td>521</td>\n",
       "    </tr>\n",
       "    <tr>\n",
       "      <th>10559</th>\n",
       "      <td>Rua Arraial de São Bartolomeu</td>\n",
       "      <td>Vila Carmosina</td>\n",
       "      <td>70</td>\n",
       "      <td>2</td>\n",
       "      <td>0</td>\n",
       "      <td>Casa</td>\n",
       "      <td>500</td>\n",
       "      <td>821</td>\n",
       "    </tr>\n",
       "  </tbody>\n",
       "</table>\n",
       "</div>"
      ],
      "text/plain": [
       "                             address                  district  area  \\\n",
       "51                  Rua Tanque Velho                 Vila Nivi    45   \n",
       "1188           Viela Renaldo Laporta  Vila Aurora (zona Norte)    30   \n",
       "4741   Rua Manoel Oliveira Gonçalves             Jardim Jaçanã    30   \n",
       "5901       Rua Manuel José Rodrigues                    Sacoma    40   \n",
       "6428            Rua Eugênia S Vitale                    Taboão    30   \n",
       "7420       Rua Manuel José Rodrigues                    Sacoma    20   \n",
       "10559  Rua Arraial de São Bartolomeu            Vila Carmosina    70   \n",
       "\n",
       "       bedrooms  garage             type  rent  total  \n",
       "51            1       0             Casa   500    551  \n",
       "1188          1       0             Casa   500    521  \n",
       "4741          1       0             Casa   500    509  \n",
       "5901          1       0             Casa   500    521  \n",
       "6428          1       0  Studio e kitnet   500    594  \n",
       "7420          1       0             Casa   500    521  \n",
       "10559         2       0             Casa   500    821  "
      ]
     },
     "execution_count": 74,
     "metadata": {},
     "output_type": "execute_result"
    }
   ],
   "source": [
    "df_imoveis[df_imoveis.rent == 500]"
   ]
  },
  {
   "cell_type": "markdown",
   "id": "43b1823f",
   "metadata": {},
   "source": [
    "## Limpeza dos dados\n",
    "### Apagar todos os imóveis cuja área é menor do que o valor mais barato de aluguel"
   ]
  },
  {
   "cell_type": "code",
   "execution_count": 75,
   "id": "a361002a",
   "metadata": {},
   "outputs": [
    {
     "name": "stdout",
     "output_type": "stream",
     "text": [
      "address     Rua Manuel José Rodrigues\n",
      "district                       Sacoma\n",
      "area                               20\n",
      "bedrooms                            1\n",
      "garage                              0\n",
      "type                             Casa\n",
      "rent                              500\n",
      "total                             521\n",
      "Name: 7420, dtype: object\n"
     ]
    },
    {
     "data": {
      "application/vnd.microsoft.datawrangler.viewer.v0+json": {
       "columns": [
        {
         "name": "index",
         "rawType": "object",
         "type": "string"
        },
        {
         "name": "area",
         "rawType": "float64",
         "type": "float"
        },
        {
         "name": "bedrooms",
         "rawType": "float64",
         "type": "float"
        },
        {
         "name": "garage",
         "rawType": "float64",
         "type": "float"
        },
        {
         "name": "rent",
         "rawType": "float64",
         "type": "float"
        },
        {
         "name": "total",
         "rawType": "float64",
         "type": "float"
        }
       ],
       "ref": "4551f7ef-85ce-495e-8dff-7c0301ea80e0",
       "rows": [
        [
         "count",
         "11527.0",
         "11527.0",
         "11527.0",
         "11527.0",
         "11527.0"
        ],
        [
         "mean",
         "85.44157196148174",
         "1.976750238570313",
         "1.0709638240652382",
         "3267.6550707035653",
         "4102.887308059339"
        ],
        [
         "std",
         "74.06255732787771",
         "0.9304165273944772",
         "1.1333120867416733",
         "2654.6841300838264",
         "3358.231752929911"
        ],
        [
         "min",
         "20.0",
         "0.0",
         "0.0",
         "500.0",
         "509.0"
        ],
        [
         "25%",
         "41.0",
         "1.0",
         "0.0",
         "1600.0",
         "2010.0"
        ],
        [
         "50%",
         "60.0",
         "2.0",
         "1.0",
         "2440.0",
         "3076.0"
        ],
        [
         "75%",
         "97.0",
         "3.0",
         "2.0",
         "3835.0",
         "4812.0"
        ],
        [
         "max",
         "580.0",
         "6.0",
         "6.0",
         "25000.0",
         "28700.0"
        ]
       ],
       "shape": {
        "columns": 5,
        "rows": 8
       }
      },
      "text/html": [
       "<div>\n",
       "<style scoped>\n",
       "    .dataframe tbody tr th:only-of-type {\n",
       "        vertical-align: middle;\n",
       "    }\n",
       "\n",
       "    .dataframe tbody tr th {\n",
       "        vertical-align: top;\n",
       "    }\n",
       "\n",
       "    .dataframe thead th {\n",
       "        text-align: right;\n",
       "    }\n",
       "</style>\n",
       "<table border=\"1\" class=\"dataframe\">\n",
       "  <thead>\n",
       "    <tr style=\"text-align: right;\">\n",
       "      <th></th>\n",
       "      <th>area</th>\n",
       "      <th>bedrooms</th>\n",
       "      <th>garage</th>\n",
       "      <th>rent</th>\n",
       "      <th>total</th>\n",
       "    </tr>\n",
       "  </thead>\n",
       "  <tbody>\n",
       "    <tr>\n",
       "      <th>count</th>\n",
       "      <td>11527.000000</td>\n",
       "      <td>11527.000000</td>\n",
       "      <td>11527.000000</td>\n",
       "      <td>11527.000000</td>\n",
       "      <td>11527.000000</td>\n",
       "    </tr>\n",
       "    <tr>\n",
       "      <th>mean</th>\n",
       "      <td>85.441572</td>\n",
       "      <td>1.976750</td>\n",
       "      <td>1.070964</td>\n",
       "      <td>3267.655071</td>\n",
       "      <td>4102.887308</td>\n",
       "    </tr>\n",
       "    <tr>\n",
       "      <th>std</th>\n",
       "      <td>74.062557</td>\n",
       "      <td>0.930417</td>\n",
       "      <td>1.133312</td>\n",
       "      <td>2654.684130</td>\n",
       "      <td>3358.231753</td>\n",
       "    </tr>\n",
       "    <tr>\n",
       "      <th>min</th>\n",
       "      <td>20.000000</td>\n",
       "      <td>0.000000</td>\n",
       "      <td>0.000000</td>\n",
       "      <td>500.000000</td>\n",
       "      <td>509.000000</td>\n",
       "    </tr>\n",
       "    <tr>\n",
       "      <th>25%</th>\n",
       "      <td>41.000000</td>\n",
       "      <td>1.000000</td>\n",
       "      <td>0.000000</td>\n",
       "      <td>1600.000000</td>\n",
       "      <td>2010.000000</td>\n",
       "    </tr>\n",
       "    <tr>\n",
       "      <th>50%</th>\n",
       "      <td>60.000000</td>\n",
       "      <td>2.000000</td>\n",
       "      <td>1.000000</td>\n",
       "      <td>2440.000000</td>\n",
       "      <td>3076.000000</td>\n",
       "    </tr>\n",
       "    <tr>\n",
       "      <th>75%</th>\n",
       "      <td>97.000000</td>\n",
       "      <td>3.000000</td>\n",
       "      <td>2.000000</td>\n",
       "      <td>3835.000000</td>\n",
       "      <td>4812.000000</td>\n",
       "    </tr>\n",
       "    <tr>\n",
       "      <th>max</th>\n",
       "      <td>580.000000</td>\n",
       "      <td>6.000000</td>\n",
       "      <td>6.000000</td>\n",
       "      <td>25000.000000</td>\n",
       "      <td>28700.000000</td>\n",
       "    </tr>\n",
       "  </tbody>\n",
       "</table>\n",
       "</div>"
      ],
      "text/plain": [
       "               area      bedrooms        garage          rent         total\n",
       "count  11527.000000  11527.000000  11527.000000  11527.000000  11527.000000\n",
       "mean      85.441572      1.976750      1.070964   3267.655071   4102.887308\n",
       "std       74.062557      0.930417      1.133312   2654.684130   3358.231753\n",
       "min       20.000000      0.000000      0.000000    500.000000    509.000000\n",
       "25%       41.000000      1.000000      0.000000   1600.000000   2010.000000\n",
       "50%       60.000000      2.000000      1.000000   2440.000000   3076.000000\n",
       "75%       97.000000      3.000000      2.000000   3835.000000   4812.000000\n",
       "max      580.000000      6.000000      6.000000  25000.000000  28700.000000"
      ]
     },
     "execution_count": 75,
     "metadata": {},
     "output_type": "execute_result"
    }
   ],
   "source": [
    "print(df_imoveis.iloc[7420])\n",
    "df_imoveis = df_imoveis[df_imoveis.area >= 20]\n",
    "df_imoveis.describe()"
   ]
  },
  {
   "cell_type": "code",
   "execution_count": 76,
   "id": "f4f19612",
   "metadata": {},
   "outputs": [
    {
     "name": "stdout",
     "output_type": "stream",
     "text": [
      "Index(['address', 'district', 'type'], dtype='object')\n",
      "address(5306,)\n",
      "district(1195,)\n",
      "type(4,)\n"
     ]
    }
   ],
   "source": [
    "colunas_categoricas = df_imoveis.select_dtypes(include=['object','category']).columns\n",
    "print(colunas_categoricas)\n",
    "for col in colunas_categoricas:\n",
    "    print(f'{col}{df_imoveis[col].unique().shape}')"
   ]
  },
  {
   "cell_type": "code",
   "execution_count": 77,
   "id": "71e789c6",
   "metadata": {},
   "outputs": [],
   "source": [
    "#Limpa os espaços dos valores\n",
    "for col in colunas_categoricas:\n",
    "    df_imoveis.loc[:, col] = df_imoveis[col].str.strip()"
   ]
  },
  {
   "cell_type": "code",
   "execution_count": 78,
   "id": "bcba7591",
   "metadata": {},
   "outputs": [
    {
     "name": "stdout",
     "output_type": "stream",
     "text": [
      "Index(['address', 'district', 'type'], dtype='object')\n",
      "address(5306,)\n",
      "district(1181,)\n",
      "type(4,)\n"
     ]
    }
   ],
   "source": [
    "# Exibe a quantidade de valores unicos das colunas categóricas\n",
    "print(colunas_categoricas)\n",
    "for col in colunas_categoricas:\n",
    "    print(f'{col}{df_imoveis[col].unique().shape}')"
   ]
  },
  {
   "cell_type": "code",
   "execution_count": 79,
   "id": "37c4ba15",
   "metadata": {},
   "outputs": [
    {
     "name": "stdout",
     "output_type": "stream",
     "text": [
      "[]\n"
     ]
    },
    {
     "data": {
      "application/vnd.microsoft.datawrangler.viewer.v0+json": {
       "columns": [
        {
         "name": "index",
         "rawType": "object",
         "type": "string"
        },
        {
         "name": "0",
         "rawType": "int64",
         "type": "integer"
        }
       ],
       "ref": "90dbfa61-06cd-448f-a884-2a2df99dc9c3",
       "rows": [
        [
         "address",
         "0"
        ],
        [
         "district",
         "0"
        ],
        [
         "area",
         "0"
        ],
        [
         "bedrooms",
         "0"
        ],
        [
         "garage",
         "0"
        ],
        [
         "type",
         "0"
        ],
        [
         "rent",
         "0"
        ],
        [
         "total",
         "0"
        ]
       ],
       "shape": {
        "columns": 1,
        "rows": 8
       }
      },
      "text/plain": [
       "address     0\n",
       "district    0\n",
       "area        0\n",
       "bedrooms    0\n",
       "garage      0\n",
       "type        0\n",
       "rent        0\n",
       "total       0\n",
       "dtype: int64"
      ]
     },
     "execution_count": 79,
     "metadata": {},
     "output_type": "execute_result"
    }
   ],
   "source": [
    "#Verifica se tem lixo nos valores das colunas categoricas\n",
    "tem_lixo = [col for col in colunas_categoricas if df_imoveis[col].str.contains('\\\\?').any()]\n",
    "print(tem_lixo)\n",
    "\n",
    "df_imoveis.isna().sum()"
   ]
  },
  {
   "cell_type": "code",
   "execution_count": 80,
   "id": "f3d806c3",
   "metadata": {},
   "outputs": [],
   "source": [
    "# Remoção da coluna rent, será utilizado somente a coluna Total como target para o modelo\n",
    "df_imoveis = df_imoveis.drop(columns=['rent'], axis=1)"
   ]
  },
  {
   "cell_type": "code",
   "execution_count": 81,
   "id": "732a272f",
   "metadata": {},
   "outputs": [
    {
     "data": {
      "application/vnd.microsoft.datawrangler.viewer.v0+json": {
       "columns": [
        {
         "name": "index",
         "rawType": "int64",
         "type": "integer"
        },
        {
         "name": "address",
         "rawType": "object",
         "type": "string"
        },
        {
         "name": "district",
         "rawType": "object",
         "type": "string"
        },
        {
         "name": "area",
         "rawType": "int64",
         "type": "integer"
        },
        {
         "name": "bedrooms",
         "rawType": "int64",
         "type": "integer"
        },
        {
         "name": "garage",
         "rawType": "int64",
         "type": "integer"
        },
        {
         "name": "type",
         "rawType": "object",
         "type": "string"
        },
        {
         "name": "total",
         "rawType": "int64",
         "type": "integer"
        }
       ],
       "ref": "aac94a49-0a4e-4d25-b236-f6d1cd6063ad",
       "rows": [
        [
         "0",
         "Rua Herval",
         "Belenzinho",
         "21",
         "1",
         "0",
         "Studio e kitnet",
         "2939"
        ],
        [
         "3",
         "Rua Júlio Sayago",
         "Vila Ré",
         "56",
         "2",
         "2",
         "Casa em condomínio",
         "1954"
        ],
        [
         "5",
         "Rua Domingos Paiva",
         "Brás",
         "50",
         "2",
         "1",
         "Apartamento",
         "4587"
        ],
        [
         "6",
         "Rua Guararapes",
         "Brooklin Paulista",
         "72",
         "2",
         "1",
         "Apartamento",
         "5187"
        ],
        [
         "7",
         "Avenida Cásper Líbero",
         "Centro",
         "26",
         "1",
         "0",
         "Studio e kitnet",
         "2244"
        ],
        [
         "8",
         "Rua José Peres Campelo",
         "Piqueri",
         "32",
         "2",
         "0",
         "Apartamento",
         "1592"
        ],
        [
         "9",
         "Rua Guaperuvu",
         "Vila Aricanduva",
         "36",
         "1",
         "0",
         "Apartamento",
         "1501"
        ],
        [
         "10",
         "Rua dos Carmelitas",
         "Sé",
         "63",
         "2",
         "0",
         "Apartamento",
         "2020"
        ],
        [
         "11",
         "Rua Tabatinguera",
         "Sé",
         "34",
         "1",
         "0",
         "Apartamento",
         "1406"
        ],
        [
         "12",
         "Rua Henrique Sertório",
         "Tatuapé",
         "32",
         "1",
         "0",
         "Studio e kitnet",
         "2598"
        ],
        [
         "13",
         "Rua Herison",
         "Lauzane Paulista",
         "50",
         "3",
         "0",
         "Casa em condomínio",
         "1517"
        ],
        [
         "14",
         "Rua Orestes Barbosa",
         "Jardim Paraventi",
         "70",
         "2",
         "1",
         "Casa",
         "1768"
        ],
        [
         "15",
         "Rua Scuvero",
         "Cambuci",
         "75",
         "2",
         "0",
         "Casa",
         "2422"
        ],
        [
         "16",
         "Rua Doutor Tomaz de Lima",
         "Liberdade",
         "64",
         "2",
         "0",
         "Apartamento",
         "2049"
        ],
        [
         "17",
         "Rua Conselheiro Furtado",
         "Liberdade",
         "28",
         "1",
         "0",
         "Studio e kitnet",
         "2750"
        ],
        [
         "18",
         "Rua Guaraiuva",
         "Cidade Monções",
         "30",
         "1",
         "1",
         "Casa",
         "2538"
        ],
        [
         "19",
         "Rua Torres da Barra",
         "Água Branca",
         "32",
         "1",
         "0",
         "Apartamento",
         "2177"
        ],
        [
         "20",
         "Rua Guarapuava",
         "Mooca",
         "36",
         "1",
         "0",
         "Apartamento",
         "2281"
        ],
        [
         "21",
         "Rua dos Estudantes",
         "Sé",
         "30",
         "1",
         "0",
         "Apartamento",
         "2066"
        ],
        [
         "22",
         "Rua Fernando de Noronha",
         "Chácara Inglesa",
         "62",
         "2",
         "1",
         "Apartamento",
         "3754"
        ],
        [
         "23",
         "Avenida Condessa Elizabeth de Robiano",
         "Vila Moreira",
         "40",
         "2",
         "1",
         "Apartamento",
         "2233"
        ],
        [
         "24",
         "Rua Nadir",
         "Gopoúva",
         "54",
         "2",
         "1",
         "Apartamento",
         "2536"
        ],
        [
         "25",
         "Avenida dos Ourives",
         "Jardim São Savério",
         "63",
         "3",
         "1",
         "Apartamento",
         "2018"
        ],
        [
         "26",
         "Rua Elza Guimarães",
         "Vila Amalia (zona Norte)",
         "59",
         "3",
         "1",
         "Apartamento",
         "1958"
        ],
        [
         "27",
         "Avenida Cásper Líbero",
         "Centro",
         "25",
         "1",
         "0",
         "Studio e kitnet",
         "2571"
        ],
        [
         "28",
         "Rua Dom Macário",
         "Saúde",
         "54",
         "2",
         "0",
         "Apartamento",
         "1462"
        ],
        [
         "29",
         "Rua Marcelo Homem de Melo",
         "Quarta Parada",
         "62",
         "2",
         "0",
         "Casa",
         "2594"
        ],
        [
         "30",
         "Largo do Arouche",
         "Santa Efigênia",
         "80",
         "1",
         "0",
         "Apartamento",
         "2969"
        ],
        [
         "31",
         "Rua Ricardo Avenarius",
         "Paraíso do Morumbi",
         "24",
         "1",
         "0",
         "Apartamento",
         "1245"
        ],
        [
         "32",
         "Rua Nova dos Portugueses",
         "Chora Menino",
         "100",
         "3",
         "2",
         "Casa",
         "2771"
        ],
        [
         "33",
         "Rua Itamonte",
         "Vila Medeiros",
         "48",
         "2",
         "1",
         "Apartamento",
         "1955"
        ],
        [
         "34",
         "Avenida Antônio Buono",
         "Vila Guarani(zona Leste)",
         "35",
         "1",
         "0",
         "Studio e kitnet",
         "1153"
        ],
        [
         "35",
         "Avenida Rangel Pestana",
         "Brás",
         "32",
         "1",
         "0",
         "Apartamento",
         "2249"
        ],
        [
         "36",
         "Rua Cônego Vicente Miguel Marino",
         "Barra Funda",
         "33",
         "1",
         "0",
         "Apartamento",
         "2624"
        ],
        [
         "37",
         "Rua Salvador Gaeta",
         "Vila Augusta",
         "68",
         "2",
         "2",
         "Casa",
         "2574"
        ],
        [
         "38",
         "Rua Casa do Ator",
         "Vila Olímpia",
         "69",
         "2",
         "1",
         "Apartamento",
         "3970"
        ],
        [
         "39",
         "Av.nove de Julho",
         "Bela Vista",
         "25",
         "1",
         "0",
         "Apartamento",
         "3008"
        ],
        [
         "40",
         "Rua Joaquim Afonso de Souza",
         "Vila Celeste",
         "110",
         "2",
         "0",
         "Casa",
         "1355"
        ],
        [
         "41",
         "Rua Glória do Goitá 335 Apt 112",
         "Jardim Independência",
         "29",
         "1",
         "0",
         "Studio e kitnet",
         "1411"
        ],
        [
         "42",
         "Rua Martim Burchard",
         "Brás",
         "44",
         "2",
         "0",
         "Apartamento",
         "2712"
        ],
        [
         "43",
         "Rua Tuiuti",
         "Tatuapé",
         "61",
         "2",
         "1",
         "Apartamento",
         "2882"
        ],
        [
         "45",
         "Rua São Lourenço",
         "Vila Vivaldi",
         "64",
         "2",
         "1",
         "Casa",
         "2715"
        ],
        [
         "46",
         "Rua João Mafra",
         "Vila Brasílio Machado",
         "56",
         "2",
         "2",
         "Apartamento",
         "2700"
        ],
        [
         "47",
         "Rua Sebastião Mariano",
         "Vila Carlos de Campos",
         "60",
         "2",
         "1",
         "Casa",
         "1668"
        ],
        [
         "48",
         "Avenida Vila Ema",
         "Vila Prudente",
         "56",
         "2",
         "1",
         "Apartamento",
         "2222"
        ],
        [
         "49",
         "Rua Almaden",
         "Vila Andrade",
         "62",
         "2",
         "1",
         "Apartamento",
         "4354"
        ],
        [
         "50",
         "Avenida Rio Branco",
         "Campos Elíseos",
         "35",
         "1",
         "0",
         "Apartamento",
         "1580"
        ],
        [
         "51",
         "Rua Tanque Velho",
         "Vila Nivi",
         "45",
         "1",
         "0",
         "Casa",
         "551"
        ],
        [
         "52",
         "Rua Itiúba",
         "Vila Celeste",
         "47",
         "2",
         "0",
         "Casa",
         "1799"
        ],
        [
         "53",
         "Rua Hanna Abduch",
         "Vila Palmeiras",
         "80",
         "2",
         "0",
         "Casa",
         "2232"
        ]
       ],
       "shape": {
        "columns": 7,
        "rows": 11527
       }
      },
      "text/html": [
       "<div>\n",
       "<style scoped>\n",
       "    .dataframe tbody tr th:only-of-type {\n",
       "        vertical-align: middle;\n",
       "    }\n",
       "\n",
       "    .dataframe tbody tr th {\n",
       "        vertical-align: top;\n",
       "    }\n",
       "\n",
       "    .dataframe thead th {\n",
       "        text-align: right;\n",
       "    }\n",
       "</style>\n",
       "<table border=\"1\" class=\"dataframe\">\n",
       "  <thead>\n",
       "    <tr style=\"text-align: right;\">\n",
       "      <th></th>\n",
       "      <th>address</th>\n",
       "      <th>district</th>\n",
       "      <th>area</th>\n",
       "      <th>bedrooms</th>\n",
       "      <th>garage</th>\n",
       "      <th>type</th>\n",
       "      <th>total</th>\n",
       "    </tr>\n",
       "  </thead>\n",
       "  <tbody>\n",
       "    <tr>\n",
       "      <th>0</th>\n",
       "      <td>Rua Herval</td>\n",
       "      <td>Belenzinho</td>\n",
       "      <td>21</td>\n",
       "      <td>1</td>\n",
       "      <td>0</td>\n",
       "      <td>Studio e kitnet</td>\n",
       "      <td>2939</td>\n",
       "    </tr>\n",
       "    <tr>\n",
       "      <th>3</th>\n",
       "      <td>Rua Júlio Sayago</td>\n",
       "      <td>Vila Ré</td>\n",
       "      <td>56</td>\n",
       "      <td>2</td>\n",
       "      <td>2</td>\n",
       "      <td>Casa em condomínio</td>\n",
       "      <td>1954</td>\n",
       "    </tr>\n",
       "    <tr>\n",
       "      <th>5</th>\n",
       "      <td>Rua Domingos Paiva</td>\n",
       "      <td>Brás</td>\n",
       "      <td>50</td>\n",
       "      <td>2</td>\n",
       "      <td>1</td>\n",
       "      <td>Apartamento</td>\n",
       "      <td>4587</td>\n",
       "    </tr>\n",
       "    <tr>\n",
       "      <th>6</th>\n",
       "      <td>Rua Guararapes</td>\n",
       "      <td>Brooklin Paulista</td>\n",
       "      <td>72</td>\n",
       "      <td>2</td>\n",
       "      <td>1</td>\n",
       "      <td>Apartamento</td>\n",
       "      <td>5187</td>\n",
       "    </tr>\n",
       "    <tr>\n",
       "      <th>7</th>\n",
       "      <td>Avenida Cásper Líbero</td>\n",
       "      <td>Centro</td>\n",
       "      <td>26</td>\n",
       "      <td>1</td>\n",
       "      <td>0</td>\n",
       "      <td>Studio e kitnet</td>\n",
       "      <td>2244</td>\n",
       "    </tr>\n",
       "    <tr>\n",
       "      <th>...</th>\n",
       "      <td>...</td>\n",
       "      <td>...</td>\n",
       "      <td>...</td>\n",
       "      <td>...</td>\n",
       "      <td>...</td>\n",
       "      <td>...</td>\n",
       "      <td>...</td>\n",
       "    </tr>\n",
       "    <tr>\n",
       "      <th>11652</th>\n",
       "      <td>Avenida Adolfo Pinheiro</td>\n",
       "      <td>Santo Amaro</td>\n",
       "      <td>94</td>\n",
       "      <td>2</td>\n",
       "      <td>1</td>\n",
       "      <td>Apartamento</td>\n",
       "      <td>5778</td>\n",
       "    </tr>\n",
       "    <tr>\n",
       "      <th>11653</th>\n",
       "      <td>Rua Professor Alexandre Correia</td>\n",
       "      <td>Jardim Vitória Régia</td>\n",
       "      <td>350</td>\n",
       "      <td>4</td>\n",
       "      <td>4</td>\n",
       "      <td>Apartamento</td>\n",
       "      <td>17480</td>\n",
       "    </tr>\n",
       "    <tr>\n",
       "      <th>11654</th>\n",
       "      <td>Rua Abílio Borin</td>\n",
       "      <td>Jardim Caravelas</td>\n",
       "      <td>84</td>\n",
       "      <td>1</td>\n",
       "      <td>2</td>\n",
       "      <td>Apartamento</td>\n",
       "      <td>5467</td>\n",
       "    </tr>\n",
       "    <tr>\n",
       "      <th>11655</th>\n",
       "      <td>Rua Forte William</td>\n",
       "      <td>Jardim Fonte do Morumbi</td>\n",
       "      <td>76</td>\n",
       "      <td>1</td>\n",
       "      <td>0</td>\n",
       "      <td>Apartamento</td>\n",
       "      <td>10200</td>\n",
       "    </tr>\n",
       "    <tr>\n",
       "      <th>11656</th>\n",
       "      <td>Rua Alexandre Dumas</td>\n",
       "      <td>Santo Amaro</td>\n",
       "      <td>110</td>\n",
       "      <td>3</td>\n",
       "      <td>1</td>\n",
       "      <td>Casa</td>\n",
       "      <td>3440</td>\n",
       "    </tr>\n",
       "  </tbody>\n",
       "</table>\n",
       "<p>11527 rows × 7 columns</p>\n",
       "</div>"
      ],
      "text/plain": [
       "                               address                 district  area  \\\n",
       "0                           Rua Herval               Belenzinho    21   \n",
       "3                     Rua Júlio Sayago                  Vila Ré    56   \n",
       "5                   Rua Domingos Paiva                     Brás    50   \n",
       "6                       Rua Guararapes        Brooklin Paulista    72   \n",
       "7                Avenida Cásper Líbero                   Centro    26   \n",
       "...                                ...                      ...   ...   \n",
       "11652          Avenida Adolfo Pinheiro              Santo Amaro    94   \n",
       "11653  Rua Professor Alexandre Correia     Jardim Vitória Régia   350   \n",
       "11654                 Rua Abílio Borin         Jardim Caravelas    84   \n",
       "11655                Rua Forte William  Jardim Fonte do Morumbi    76   \n",
       "11656              Rua Alexandre Dumas              Santo Amaro   110   \n",
       "\n",
       "       bedrooms  garage                type  total  \n",
       "0             1       0     Studio e kitnet   2939  \n",
       "3             2       2  Casa em condomínio   1954  \n",
       "5             2       1         Apartamento   4587  \n",
       "6             2       1         Apartamento   5187  \n",
       "7             1       0     Studio e kitnet   2244  \n",
       "...         ...     ...                 ...    ...  \n",
       "11652         2       1         Apartamento   5778  \n",
       "11653         4       4         Apartamento  17480  \n",
       "11654         1       2         Apartamento   5467  \n",
       "11655         1       0         Apartamento  10200  \n",
       "11656         3       1                Casa   3440  \n",
       "\n",
       "[11527 rows x 7 columns]"
      ]
     },
     "execution_count": 81,
     "metadata": {},
     "output_type": "execute_result"
    }
   ],
   "source": [
    "df_imoveis"
   ]
  },
  {
   "cell_type": "markdown",
   "id": "49ae154a",
   "metadata": {},
   "source": [
    "## Criação de coluna de discretização do preço do aluguel"
   ]
  },
  {
   "cell_type": "code",
   "execution_count": 104,
   "id": "96e63b11",
   "metadata": {},
   "outputs": [
    {
     "data": {
      "application/vnd.microsoft.datawrangler.viewer.v0+json": {
       "columns": [
        {
         "name": "index",
         "rawType": "object",
         "type": "string"
        },
        {
         "name": "total",
         "rawType": "float64",
         "type": "float"
        }
       ],
       "ref": "800ab436-4958-46ce-a8b8-7066f80e21ac",
       "rows": [
        [
         "count",
         "11527.0"
        ],
        [
         "mean",
         "4102.887308059339"
        ],
        [
         "std",
         "3358.231752929911"
        ],
        [
         "min",
         "509.0"
        ],
        [
         "25%",
         "2010.0"
        ],
        [
         "50%",
         "3076.0"
        ],
        [
         "75%",
         "4812.0"
        ],
        [
         "max",
         "28700.0"
        ]
       ],
       "shape": {
        "columns": 1,
        "rows": 8
       }
      },
      "text/plain": [
       "count    11527.000000\n",
       "mean      4102.887308\n",
       "std       3358.231753\n",
       "min        509.000000\n",
       "25%       2010.000000\n",
       "50%       3076.000000\n",
       "75%       4812.000000\n",
       "max      28700.000000\n",
       "Name: total, dtype: float64"
      ]
     },
     "execution_count": 104,
     "metadata": {},
     "output_type": "execute_result"
    }
   ],
   "source": [
    "df_imoveis.total.describe()"
   ]
  },
  {
   "cell_type": "code",
   "execution_count": 105,
   "id": "9b8bf3fd",
   "metadata": {},
   "outputs": [
    {
     "name": "stdout",
     "output_type": "stream",
     "text": [
      "\n",
      "DataFrame com a nova coluna categórica:\n",
      "                 address           district  area  bedrooms  garage  \\\n",
      "0             Rua_Herval         Belenzinho    21         1       0   \n",
      "3       Rua_Júlio_Sayago            Vila_Ré    56         2       2   \n",
      "5     Rua_Domingos_Paiva               Brás    50         2       1   \n",
      "6         Rua_Guararapes  Brooklin_Paulista    72         2       1   \n",
      "7  Avenida_Cásper_Líbero             Centro    26         1       0   \n",
      "\n",
      "                 type  total price_level  \n",
      "0     Studio_e_kitnet   2939       Medio  \n",
      "3  Casa_em_condomínio   1954       Baixo  \n",
      "5         Apartamento   4587        Alto  \n",
      "6         Apartamento   5187  Muito Alto  \n",
      "7     Studio_e_kitnet   2244       Medio  \n"
     ]
    }
   ],
   "source": [
    "# Definindo os limites (bins) e os rótulos das categorias\n",
    "bins = [509, 2010, 3076, 4812, 28700]\n",
    "labels = ['Baixo', 'Medio', 'Alto', 'Muito Alto']\n",
    "\n",
    "# Usa pd.cut() para categorizar os preços\n",
    "df_imoveis['price_level'] = pd.cut(\n",
    "    df_imoveis['total'],\n",
    "    bins=bins,\n",
    "    labels=labels,\n",
    "    include_lowest=True\n",
    ")\n",
    "\n",
    "print(\"\\nDataFrame com a nova coluna categórica:\")\n",
    "print(df_imoveis.head())"
   ]
  },
  {
   "cell_type": "markdown",
   "id": "e180e726",
   "metadata": {},
   "source": [
    "## Distribuição dos dados"
   ]
  },
  {
   "cell_type": "code",
   "execution_count": 82,
   "id": "d52a5ca8",
   "metadata": {},
   "outputs": [
    {
     "name": "stdout",
     "output_type": "stream",
     "text": [
      "A Moda da coluna \"address\" é \"Rua da Consolação\"\n",
      "A Moda da coluna \"district\" é \"Bela Vista\"\n",
      "A Moda da coluna \"type\" é \"Apartamento\"\n"
     ]
    }
   ],
   "source": [
    "#Exibe a Moda das colunas calegóricas\n",
    "for col in colunas_categoricas: print(f'A Moda da coluna \"{col}\" é \"{df_imoveis[col].mode()[0]}\"')"
   ]
  },
  {
   "cell_type": "code",
   "execution_count": 83,
   "id": "10dd90dc",
   "metadata": {},
   "outputs": [
    {
     "name": "stdout",
     "output_type": "stream",
     "text": [
      "address\n",
      "Rua da Consolação                  49\n",
      "Rua Bela Cintra                    47\n",
      "Avenida Brigadeiro Luís Antônio    35\n",
      "Avenida Ipiranga                   32\n",
      "Avenida Nove de Julho              29\n",
      "Name: count, dtype: int64\n",
      "\n",
      "district\n",
      "Bela Vista         342\n",
      "Vila Mariana       227\n",
      "Jardim Paulista    220\n",
      "Centro             177\n",
      "Consolação         156\n",
      "Name: count, dtype: int64\n",
      "\n",
      "type\n",
      "Apartamento           7172\n",
      "Casa                  2823\n",
      "Studio e kitnet       1294\n",
      "Casa em condomínio     238\n",
      "Name: count, dtype: int64\n",
      "\n"
     ]
    }
   ],
   "source": [
    "# Exibe os 5 primeiros valores das colunas categoricas\n",
    "for col in colunas_categoricas: print(f'{df_imoveis[col].value_counts()[:5]}\\n')"
   ]
  },
  {
   "cell_type": "markdown",
   "id": "760a8780",
   "metadata": {},
   "source": [
    "## Divisão entre previsores (X) e classe (y)"
   ]
  },
  {
   "cell_type": "code",
   "execution_count": 84,
   "id": "4cff36a5",
   "metadata": {},
   "outputs": [
    {
     "name": "stdout",
     "output_type": "stream",
     "text": [
      "X_imoveis=                               address                 district  area  \\\n",
      "0                           Rua Herval               Belenzinho    21   \n",
      "3                     Rua Júlio Sayago                  Vila Ré    56   \n",
      "5                   Rua Domingos Paiva                     Brás    50   \n",
      "6                       Rua Guararapes        Brooklin Paulista    72   \n",
      "7                Avenida Cásper Líbero                   Centro    26   \n",
      "...                                ...                      ...   ...   \n",
      "11652          Avenida Adolfo Pinheiro              Santo Amaro    94   \n",
      "11653  Rua Professor Alexandre Correia     Jardim Vitória Régia   350   \n",
      "11654                 Rua Abílio Borin         Jardim Caravelas    84   \n",
      "11655                Rua Forte William  Jardim Fonte do Morumbi    76   \n",
      "11656              Rua Alexandre Dumas              Santo Amaro   110   \n",
      "\n",
      "       bedrooms  garage                type  \n",
      "0             1       0     Studio e kitnet  \n",
      "3             2       2  Casa em condomínio  \n",
      "5             2       1         Apartamento  \n",
      "6             2       1         Apartamento  \n",
      "7             1       0     Studio e kitnet  \n",
      "...         ...     ...                 ...  \n",
      "11652         2       1         Apartamento  \n",
      "11653         4       4         Apartamento  \n",
      "11654         1       2         Apartamento  \n",
      "11655         1       0         Apartamento  \n",
      "11656         3       1                Casa  \n",
      "\n",
      "[11527 rows x 6 columns]\n",
      "y_imoveis=0         2939\n",
      "3         1954\n",
      "5         4587\n",
      "6         5187\n",
      "7         2244\n",
      "         ...  \n",
      "11652     5778\n",
      "11653    17480\n",
      "11654     5467\n",
      "11655    10200\n",
      "11656     3440\n",
      "Name: total, Length: 11527, dtype: int64\n"
     ]
    }
   ],
   "source": [
    "# Previsores (features)\n",
    "X_imoveis = df_imoveis.iloc[:, 0:6]\n",
    "print(f'{X_imoveis=}')\n",
    "\n",
    "# Classe (target)\n",
    "y_imoveis = df_imoveis.iloc[:,6]\n",
    "print(f'{y_imoveis=}')"
   ]
  },
  {
   "cell_type": "markdown",
   "id": "7b833823",
   "metadata": {},
   "source": [
    "##  Codificação de variáveis categóricas"
   ]
  },
  {
   "cell_type": "code",
   "execution_count": 85,
   "id": "bb01b872",
   "metadata": {},
   "outputs": [],
   "source": [
    "from sklearn.compose import ColumnTransformer\n",
    "from sklearn.preprocessing import StandardScaler, OneHotEncoder"
   ]
  },
  {
   "cell_type": "code",
   "execution_count": 86,
   "id": "2f0e2523",
   "metadata": {},
   "outputs": [
    {
     "data": {
      "application/vnd.microsoft.datawrangler.viewer.v0+json": {
       "columns": [
        {
         "name": "index",
         "rawType": "int64",
         "type": "integer"
        },
        {
         "name": "address",
         "rawType": "object",
         "type": "string"
        },
        {
         "name": "district",
         "rawType": "object",
         "type": "string"
        },
        {
         "name": "area",
         "rawType": "int64",
         "type": "integer"
        },
        {
         "name": "bedrooms",
         "rawType": "int64",
         "type": "integer"
        },
        {
         "name": "garage",
         "rawType": "int64",
         "type": "integer"
        },
        {
         "name": "type",
         "rawType": "object",
         "type": "string"
        }
       ],
       "ref": "b98d87e5-5729-4ba9-b46a-9ea9d67a41ad",
       "rows": [
        [
         "0",
         "Rua Herval",
         "Belenzinho",
         "21",
         "1",
         "0",
         "Studio e kitnet"
        ],
        [
         "3",
         "Rua Júlio Sayago",
         "Vila Ré",
         "56",
         "2",
         "2",
         "Casa em condomínio"
        ],
        [
         "5",
         "Rua Domingos Paiva",
         "Brás",
         "50",
         "2",
         "1",
         "Apartamento"
        ],
        [
         "6",
         "Rua Guararapes",
         "Brooklin Paulista",
         "72",
         "2",
         "1",
         "Apartamento"
        ],
        [
         "7",
         "Avenida Cásper Líbero",
         "Centro",
         "26",
         "1",
         "0",
         "Studio e kitnet"
        ],
        [
         "8",
         "Rua José Peres Campelo",
         "Piqueri",
         "32",
         "2",
         "0",
         "Apartamento"
        ],
        [
         "9",
         "Rua Guaperuvu",
         "Vila Aricanduva",
         "36",
         "1",
         "0",
         "Apartamento"
        ],
        [
         "10",
         "Rua dos Carmelitas",
         "Sé",
         "63",
         "2",
         "0",
         "Apartamento"
        ],
        [
         "11",
         "Rua Tabatinguera",
         "Sé",
         "34",
         "1",
         "0",
         "Apartamento"
        ],
        [
         "12",
         "Rua Henrique Sertório",
         "Tatuapé",
         "32",
         "1",
         "0",
         "Studio e kitnet"
        ],
        [
         "13",
         "Rua Herison",
         "Lauzane Paulista",
         "50",
         "3",
         "0",
         "Casa em condomínio"
        ],
        [
         "14",
         "Rua Orestes Barbosa",
         "Jardim Paraventi",
         "70",
         "2",
         "1",
         "Casa"
        ],
        [
         "15",
         "Rua Scuvero",
         "Cambuci",
         "75",
         "2",
         "0",
         "Casa"
        ],
        [
         "16",
         "Rua Doutor Tomaz de Lima",
         "Liberdade",
         "64",
         "2",
         "0",
         "Apartamento"
        ],
        [
         "17",
         "Rua Conselheiro Furtado",
         "Liberdade",
         "28",
         "1",
         "0",
         "Studio e kitnet"
        ],
        [
         "18",
         "Rua Guaraiuva",
         "Cidade Monções",
         "30",
         "1",
         "1",
         "Casa"
        ],
        [
         "19",
         "Rua Torres da Barra",
         "Água Branca",
         "32",
         "1",
         "0",
         "Apartamento"
        ],
        [
         "20",
         "Rua Guarapuava",
         "Mooca",
         "36",
         "1",
         "0",
         "Apartamento"
        ],
        [
         "21",
         "Rua dos Estudantes",
         "Sé",
         "30",
         "1",
         "0",
         "Apartamento"
        ],
        [
         "22",
         "Rua Fernando de Noronha",
         "Chácara Inglesa",
         "62",
         "2",
         "1",
         "Apartamento"
        ],
        [
         "23",
         "Avenida Condessa Elizabeth de Robiano",
         "Vila Moreira",
         "40",
         "2",
         "1",
         "Apartamento"
        ],
        [
         "24",
         "Rua Nadir",
         "Gopoúva",
         "54",
         "2",
         "1",
         "Apartamento"
        ],
        [
         "25",
         "Avenida dos Ourives",
         "Jardim São Savério",
         "63",
         "3",
         "1",
         "Apartamento"
        ],
        [
         "26",
         "Rua Elza Guimarães",
         "Vila Amalia (zona Norte)",
         "59",
         "3",
         "1",
         "Apartamento"
        ],
        [
         "27",
         "Avenida Cásper Líbero",
         "Centro",
         "25",
         "1",
         "0",
         "Studio e kitnet"
        ],
        [
         "28",
         "Rua Dom Macário",
         "Saúde",
         "54",
         "2",
         "0",
         "Apartamento"
        ],
        [
         "29",
         "Rua Marcelo Homem de Melo",
         "Quarta Parada",
         "62",
         "2",
         "0",
         "Casa"
        ],
        [
         "30",
         "Largo do Arouche",
         "Santa Efigênia",
         "80",
         "1",
         "0",
         "Apartamento"
        ],
        [
         "31",
         "Rua Ricardo Avenarius",
         "Paraíso do Morumbi",
         "24",
         "1",
         "0",
         "Apartamento"
        ],
        [
         "32",
         "Rua Nova dos Portugueses",
         "Chora Menino",
         "100",
         "3",
         "2",
         "Casa"
        ],
        [
         "33",
         "Rua Itamonte",
         "Vila Medeiros",
         "48",
         "2",
         "1",
         "Apartamento"
        ],
        [
         "34",
         "Avenida Antônio Buono",
         "Vila Guarani(zona Leste)",
         "35",
         "1",
         "0",
         "Studio e kitnet"
        ],
        [
         "35",
         "Avenida Rangel Pestana",
         "Brás",
         "32",
         "1",
         "0",
         "Apartamento"
        ],
        [
         "36",
         "Rua Cônego Vicente Miguel Marino",
         "Barra Funda",
         "33",
         "1",
         "0",
         "Apartamento"
        ],
        [
         "37",
         "Rua Salvador Gaeta",
         "Vila Augusta",
         "68",
         "2",
         "2",
         "Casa"
        ],
        [
         "38",
         "Rua Casa do Ator",
         "Vila Olímpia",
         "69",
         "2",
         "1",
         "Apartamento"
        ],
        [
         "39",
         "Av.nove de Julho",
         "Bela Vista",
         "25",
         "1",
         "0",
         "Apartamento"
        ],
        [
         "40",
         "Rua Joaquim Afonso de Souza",
         "Vila Celeste",
         "110",
         "2",
         "0",
         "Casa"
        ],
        [
         "41",
         "Rua Glória do Goitá 335 Apt 112",
         "Jardim Independência",
         "29",
         "1",
         "0",
         "Studio e kitnet"
        ],
        [
         "42",
         "Rua Martim Burchard",
         "Brás",
         "44",
         "2",
         "0",
         "Apartamento"
        ],
        [
         "43",
         "Rua Tuiuti",
         "Tatuapé",
         "61",
         "2",
         "1",
         "Apartamento"
        ],
        [
         "45",
         "Rua São Lourenço",
         "Vila Vivaldi",
         "64",
         "2",
         "1",
         "Casa"
        ],
        [
         "46",
         "Rua João Mafra",
         "Vila Brasílio Machado",
         "56",
         "2",
         "2",
         "Apartamento"
        ],
        [
         "47",
         "Rua Sebastião Mariano",
         "Vila Carlos de Campos",
         "60",
         "2",
         "1",
         "Casa"
        ],
        [
         "48",
         "Avenida Vila Ema",
         "Vila Prudente",
         "56",
         "2",
         "1",
         "Apartamento"
        ],
        [
         "49",
         "Rua Almaden",
         "Vila Andrade",
         "62",
         "2",
         "1",
         "Apartamento"
        ],
        [
         "50",
         "Avenida Rio Branco",
         "Campos Elíseos",
         "35",
         "1",
         "0",
         "Apartamento"
        ],
        [
         "51",
         "Rua Tanque Velho",
         "Vila Nivi",
         "45",
         "1",
         "0",
         "Casa"
        ],
        [
         "52",
         "Rua Itiúba",
         "Vila Celeste",
         "47",
         "2",
         "0",
         "Casa"
        ],
        [
         "53",
         "Rua Hanna Abduch",
         "Vila Palmeiras",
         "80",
         "2",
         "0",
         "Casa"
        ]
       ],
       "shape": {
        "columns": 6,
        "rows": 11527
       }
      },
      "text/html": [
       "<div>\n",
       "<style scoped>\n",
       "    .dataframe tbody tr th:only-of-type {\n",
       "        vertical-align: middle;\n",
       "    }\n",
       "\n",
       "    .dataframe tbody tr th {\n",
       "        vertical-align: top;\n",
       "    }\n",
       "\n",
       "    .dataframe thead th {\n",
       "        text-align: right;\n",
       "    }\n",
       "</style>\n",
       "<table border=\"1\" class=\"dataframe\">\n",
       "  <thead>\n",
       "    <tr style=\"text-align: right;\">\n",
       "      <th></th>\n",
       "      <th>address</th>\n",
       "      <th>district</th>\n",
       "      <th>area</th>\n",
       "      <th>bedrooms</th>\n",
       "      <th>garage</th>\n",
       "      <th>type</th>\n",
       "    </tr>\n",
       "  </thead>\n",
       "  <tbody>\n",
       "    <tr>\n",
       "      <th>0</th>\n",
       "      <td>Rua Herval</td>\n",
       "      <td>Belenzinho</td>\n",
       "      <td>21</td>\n",
       "      <td>1</td>\n",
       "      <td>0</td>\n",
       "      <td>Studio e kitnet</td>\n",
       "    </tr>\n",
       "    <tr>\n",
       "      <th>3</th>\n",
       "      <td>Rua Júlio Sayago</td>\n",
       "      <td>Vila Ré</td>\n",
       "      <td>56</td>\n",
       "      <td>2</td>\n",
       "      <td>2</td>\n",
       "      <td>Casa em condomínio</td>\n",
       "    </tr>\n",
       "    <tr>\n",
       "      <th>5</th>\n",
       "      <td>Rua Domingos Paiva</td>\n",
       "      <td>Brás</td>\n",
       "      <td>50</td>\n",
       "      <td>2</td>\n",
       "      <td>1</td>\n",
       "      <td>Apartamento</td>\n",
       "    </tr>\n",
       "    <tr>\n",
       "      <th>6</th>\n",
       "      <td>Rua Guararapes</td>\n",
       "      <td>Brooklin Paulista</td>\n",
       "      <td>72</td>\n",
       "      <td>2</td>\n",
       "      <td>1</td>\n",
       "      <td>Apartamento</td>\n",
       "    </tr>\n",
       "    <tr>\n",
       "      <th>7</th>\n",
       "      <td>Avenida Cásper Líbero</td>\n",
       "      <td>Centro</td>\n",
       "      <td>26</td>\n",
       "      <td>1</td>\n",
       "      <td>0</td>\n",
       "      <td>Studio e kitnet</td>\n",
       "    </tr>\n",
       "    <tr>\n",
       "      <th>...</th>\n",
       "      <td>...</td>\n",
       "      <td>...</td>\n",
       "      <td>...</td>\n",
       "      <td>...</td>\n",
       "      <td>...</td>\n",
       "      <td>...</td>\n",
       "    </tr>\n",
       "    <tr>\n",
       "      <th>11652</th>\n",
       "      <td>Avenida Adolfo Pinheiro</td>\n",
       "      <td>Santo Amaro</td>\n",
       "      <td>94</td>\n",
       "      <td>2</td>\n",
       "      <td>1</td>\n",
       "      <td>Apartamento</td>\n",
       "    </tr>\n",
       "    <tr>\n",
       "      <th>11653</th>\n",
       "      <td>Rua Professor Alexandre Correia</td>\n",
       "      <td>Jardim Vitória Régia</td>\n",
       "      <td>350</td>\n",
       "      <td>4</td>\n",
       "      <td>4</td>\n",
       "      <td>Apartamento</td>\n",
       "    </tr>\n",
       "    <tr>\n",
       "      <th>11654</th>\n",
       "      <td>Rua Abílio Borin</td>\n",
       "      <td>Jardim Caravelas</td>\n",
       "      <td>84</td>\n",
       "      <td>1</td>\n",
       "      <td>2</td>\n",
       "      <td>Apartamento</td>\n",
       "    </tr>\n",
       "    <tr>\n",
       "      <th>11655</th>\n",
       "      <td>Rua Forte William</td>\n",
       "      <td>Jardim Fonte do Morumbi</td>\n",
       "      <td>76</td>\n",
       "      <td>1</td>\n",
       "      <td>0</td>\n",
       "      <td>Apartamento</td>\n",
       "    </tr>\n",
       "    <tr>\n",
       "      <th>11656</th>\n",
       "      <td>Rua Alexandre Dumas</td>\n",
       "      <td>Santo Amaro</td>\n",
       "      <td>110</td>\n",
       "      <td>3</td>\n",
       "      <td>1</td>\n",
       "      <td>Casa</td>\n",
       "    </tr>\n",
       "  </tbody>\n",
       "</table>\n",
       "<p>11527 rows × 6 columns</p>\n",
       "</div>"
      ],
      "text/plain": [
       "                               address                 district  area  \\\n",
       "0                           Rua Herval               Belenzinho    21   \n",
       "3                     Rua Júlio Sayago                  Vila Ré    56   \n",
       "5                   Rua Domingos Paiva                     Brás    50   \n",
       "6                       Rua Guararapes        Brooklin Paulista    72   \n",
       "7                Avenida Cásper Líbero                   Centro    26   \n",
       "...                                ...                      ...   ...   \n",
       "11652          Avenida Adolfo Pinheiro              Santo Amaro    94   \n",
       "11653  Rua Professor Alexandre Correia     Jardim Vitória Régia   350   \n",
       "11654                 Rua Abílio Borin         Jardim Caravelas    84   \n",
       "11655                Rua Forte William  Jardim Fonte do Morumbi    76   \n",
       "11656              Rua Alexandre Dumas              Santo Amaro   110   \n",
       "\n",
       "       bedrooms  garage                type  \n",
       "0             1       0     Studio e kitnet  \n",
       "3             2       2  Casa em condomínio  \n",
       "5             2       1         Apartamento  \n",
       "6             2       1         Apartamento  \n",
       "7             1       0     Studio e kitnet  \n",
       "...         ...     ...                 ...  \n",
       "11652         2       1         Apartamento  \n",
       "11653         4       4         Apartamento  \n",
       "11654         1       2         Apartamento  \n",
       "11655         1       0         Apartamento  \n",
       "11656         3       1                Casa  \n",
       "\n",
       "[11527 rows x 6 columns]"
      ]
     },
     "execution_count": 86,
     "metadata": {},
     "output_type": "execute_result"
    }
   ],
   "source": [
    "X_imoveis"
   ]
  },
  {
   "cell_type": "code",
   "execution_count": 88,
   "id": "87e7c1bd",
   "metadata": {},
   "outputs": [],
   "source": [
    "# Identificar colunas categóricas e numéricas\n",
    "col_categoricas = ['address', 'district', 'type', 'bedrooms', 'garage']\n",
    "cols_numericas = ['area']"
   ]
  },
  {
   "cell_type": "code",
   "execution_count": 89,
   "id": "f954e090",
   "metadata": {},
   "outputs": [],
   "source": [
    "#Substitui os espaços dos valores por underline\n",
    "for col in colunas_categoricas:\n",
    "    df_imoveis.loc[:, col] = df_imoveis[col].str.replace(' ','_')"
   ]
  },
  {
   "cell_type": "code",
   "execution_count": 90,
   "id": "96178535",
   "metadata": {},
   "outputs": [],
   "source": [
    "# Cria o transformer\n",
    "preprocessador = ColumnTransformer(transformers=[('num', StandardScaler(), cols_numericas),\n",
    "                                                 ('cat', OneHotEncoder(), col_categoricas)])"
   ]
  },
  {
   "cell_type": "code",
   "execution_count": 91,
   "id": "8cb191ed",
   "metadata": {},
   "outputs": [
    {
     "data": {
      "text/plain": [
       "<Compressed Sparse Row sparse matrix of dtype 'float64'\n",
       "\twith 69162 stored elements and shape (11527, 6506)>"
      ]
     },
     "execution_count": 91,
     "metadata": {},
     "output_type": "execute_result"
    }
   ],
   "source": [
    "#Transforma os dados\n",
    "matriz_csr = preprocessador.fit_transform(df_imoveis)\n",
    "matriz_csr"
   ]
  },
  {
   "cell_type": "code",
   "execution_count": 92,
   "id": "6935eebc",
   "metadata": {},
   "outputs": [
    {
     "name": "stdout",
     "output_type": "stream",
     "text": [
      "['area_scaled', 'address_25_de_Março', 'address_Aclimação,_São_Paulo_-_Sp,_04109-120,_Brasil', 'address_Alameda_Afonso_Bocchiglieri', 'address_Alameda_Afonso_Schmidt', 'address_Alameda_Amazonas', 'address_Alameda_América', 'address_Alameda_Arlíndo_Farias', 'address_Alameda_Barretos', 'address_Alameda_Barros', 'address_Alameda_Barão_de_Limeira', 'address_Alameda_Barão_de_Piracicaba', 'address_Alameda_Bertioga', 'address_Alameda_Brilhante', 'address_Alameda_Calicut', 'address_Alameda_Campestre', 'address_Alameda_Campinas', 'address_Alameda_Canto_dos_Passaros', 'address_Alameda_Casa_Branca', 'address_Alameda_Casa_Branca_-_Jardim_Paulista,_São_Paulo_-_Sp,_Brasil', 'address_Alameda_Cauaxi', 'address_Alameda_Cleveland', 'address_Alameda_Conde_de_Porto_Alegre', 'address_Alameda_Coral', 'address_Alameda_Cores_da_Mata', 'address_Alameda_Dinamarca', 'address_Alameda_Dino_Bueno', 'address_Alameda_Eduardo_Prado', 'address_Alameda_Equador', 'address_Alameda_Fernão_Cardim', 'address_Alameda_Franca', 'address_Alameda_Glete', 'address_Alameda_Grajau', 'address_Alameda_Grajaú', 'address_Alameda_Gregório_Bogossian_Sobrinho', 'address_Alameda_Iraé', 'address_Alameda_Itanhaém', 'address_Alameda_Itapecuru', 'address_Alameda_Itu', 'address_Alameda_Itupiranga', 'address_Alameda_Jade', 'address_Alameda_Jauaperi', 'address_Alameda_Jaú', 'address_Alameda_Jaú_-_Jardim_Paulista,_São_Paulo_-_Sp,_Brasil', 'address_Alameda_Joaquim_Eugênio_de_Lima', 'address_Alameda_Lorena', 'address_Alameda_Madeira', 'address_Alameda_Mamoré', 'address_Alameda_Mar_Mediterrâneo', 'address_Alameda_Mauro_Zelante', 'address_Alameda_Ministro_Rocha_Azevedo', 'address_Alameda_Nothmann', 'address_Alameda_Olga', 'address_Alameda_Paineira_Vermelha', 'address_Alameda_Peruíbe', 'address_Alameda_Purús', 'address_Alameda_Ribeiro_da_Silva', 'address_Alameda_Ribeirão_Preto', 'address_Alameda_Riberio_da_Silva', 'address_Alameda_Rio_Claro', 'address_Alameda_Rio_Negro', 'address_Alameda_Santo_Amaro', 'address_Alameda_Santos', 'address_Alameda_Sarapuí', 'address_Alameda_Sarutaiá', 'address_Alameda_Sombreiro', 'address_Alameda_São_Bernardo', 'address_Alameda_São_Caetano', 'address_Alameda_Terras_Altas', 'address_Alameda_Tietê', 'address_Alameda_Topázio', 'address_Alameda_Tutóia', 'address_Alameda_Yayá', 'address_Alameda_das_Boninas', 'address_Alameda_das_Camélias', 'address_Alameda_das_Dalias', 'address_Alameda_das_Dracenas', 'address_Alameda_das_Sempre-vivas', 'address_Alameda_das_Tulípas', 'address_Alameda_dos_Aicás', 'address_Alameda_dos_Anapurus', 'address_Alameda_dos_Antúrios', 'address_Alameda_dos_Apetupás', 'address_Alameda_dos_Arapanés', 'address_Alameda_dos_Araés', 'address_Alameda_dos_Girassóis', 'address_Alameda_dos_Guaiós', 'address_Alameda_dos_Guaramomis', 'address_Alameda_dos_Jurupis', 'address_Alameda_dos_Maracatins', 'address_Alameda_dos_Nhambiquaras', 'address_Alameda_dos_Pinheiros', 'address_Alameda_dos_Tacaunas', 'address_Alameda_dos_Tupiniquins', 'address_Alameda_dos_Uapês', 'address_Alfredo_Pujol', 'address_Aliança_Liberal', 'address_Augusta', 'address_Av._Benjamin_Harris_Hunicutt', 'address_Av._Brigadeiro_Luís_Antonio', 'address_Av._Chibarás', 'address_Av._Damasceno_Vieira', 'address_Av._Dr._Guilherme_Dumont_Vilares', 'address_Av._Francisco_Matarazzo', 'address_Av._Gen._Valdomiro_de_Lima', 'address_Av._Imperatriz_Leopoldina', 'address_Av._Padre_Arlindo_Vieira', 'address_Av._Padre_Lebret', 'address_Av._Salgado_Filho', 'address_Av._São_João', 'address_Av._Ver._José_Diniz_-_Santo_Amaro,_São_Paulo_-_Sp,_Brasil', 'address_Av._Vila_Ema', 'address_Av._Vila_Ema_-_Vila_Ema,_São_Paulo_-_Sp,_Brasil', 'address_Av._Washington_Luis,_1226', 'address_Av.nove_de_Julho', 'address_Av_Amador_Aguiar', 'address_Av_Dr_Assis_Ribeiro', 'address_Av_Dr_Bernardino_B_F_Carvalho', 'address_Av_Eng._Armando_de_Arruda_Pereira', 'address_Av_Ipiranga', 'address_Av_Leonardo_da_Vinte', 'address_Av_Prestes_Maia', 'address_Av_Santa_Inês', 'address_Av_Santo_Antonio', 'address_Avenida_11_de_Junho', 'address_Avenida_23_de_Maio', 'address_Avenida_Abílio_Pereira_de_Almeida', 'address_Avenida_Adolfo_Coelho', 'address_Avenida_Adolfo_Pinheiro', 'address_Avenida_Afonso_Mariano_Fagundes', 'address_Avenida_Agami', 'address_Avenida_Agenor_Couto_de_Magalhães', 'address_Avenida_Agua_Funda', 'address_Avenida_Ajarani', 'address_Avenida_Albert_Bartholome', 'address_Avenida_Alberto_Augusto_Alves', 'address_Avenida_Alberto_Fontana', 'address_Avenida_Alberto_Ramos', 'address_Avenida_Alberto_de_Faria_Cardoso', 'address_Avenida_Alcântara_Machado', 'address_Avenida_Alexandre_Grandisoli', 'address_Avenida_Alfredo_Maluf', 'address_Avenida_Amador_Aguiar', 'address_Avenida_Amador_Bueno_da_Veiga', 'address_Avenida_Andrade_Neves', 'address_Avenida_André_Luíz', 'address_Avenida_André_Ramalho', 'address_Avenida_Angélica', 'address_Avenida_Antártica', 'address_Avenida_Antônio_Buono', 'address_Avenida_Antônio_Carlos_Costa', 'address_Avenida_Antônio_Manograsso', 'address_Avenida_Antônio_de_Souza_Noschese', 'address_Avenida_Aparecida_do_Rio_Negro', 'address_Avenida_Aprigio_Bezerra_da_Silva', 'address_Avenida_Aprígio_Bezerra_da_Silva', 'address_Avenida_Aratãs', 'address_Avenida_Aricanduva', 'address_Avenida_Arquiteto_Vilanova_Artigas', 'address_Avenida_Arraias_do_Araguaia', 'address_Avenida_Arruda_Botelho', 'address_Avenida_Aruanã', 'address_Avenida_Assaré', 'address_Avenida_Atlântica', 'address_Avenida_Avelino_Alves_Machado', 'address_Avenida_Açocê', 'address_Avenida_Baltazar_Santana', 'address_Avenida_Barro_Branco', 'address_Avenida_Bartholomeu_de_Carlos', 'address_Avenida_Bartolomeu_de_Carlos', 'address_Avenida_Barão_de_Monte_Mor', 'address_Avenida_Barão_do_Rego_Barros', 'address_Avenida_Basiléia', 'address_Avenida_Belisário_Pena', 'address_Avenida_Benigno_Carrera', 'address_Avenida_Benjamin_Harris_Hunicutt', 'address_Avenida_Benjamin_Harris_Hunnicutt', 'address_Avenida_Bernardino_de_Campos', 'address_Avenida_Bolonha', 'address_Avenida_Boschetti', 'address_Avenida_Bosque_da_Saúde', 'address_Avenida_Brasil', 'address_Avenida_Braz_Leme', 'address_Avenida_Brigadeiro_Faria_Lima', 'address_Avenida_Brigadeiro_Luís_Antônio', 'address_Avenida_Brumado_de_Minas', 'address_Avenida_Buenos_Aires', 'address_Avenida_Bussocaba', 'address_Avenida_Caminho_do_Mar', 'address_Avenida_Campista', 'address_Avenida_Candida_Oliveira_das_Dores', 'address_Avenida_Cangaíba', 'address_Avenida_Capistrano_de_Abreu', 'address_Avenida_Capitão_Anselmo_Barcelos', 'address_Avenida_Capitão_Mário_Toledo_de_Camargo', 'address_Avenida_Carinas', 'address_Avenida_Carlos_Drummond_de_Andrade', 'address_Avenida_Carlos_Ferreira_Endres', 'address_Avenida_Carlos_Liviero', 'address_Avenida_Casa_Verde', 'address_Avenida_Cauaxi', 'address_Avenida_Ceci', 'address_Avenida_Celso_Garcia', 'address_Avenida_Cerejeiras', 'address_Avenida_Chibarás', 'address_Avenida_Cipriano_Rodrigues', 'address_Avenida_Cipriano_Rodrigues_492_Apto_3_Bl2', 'address_Avenida_Comandante_Antônio_Paiva_Sampaio', 'address_Avenida_Conceição', 'address_Avenida_Condessa_Elisabeth_de_Robiano', 'address_Avenida_Condessa_Elizabeth_de_Robiano', 'address_Avenida_Conselheiro_Carrão', 'address_Avenida_Conselheiro_Rodrigues_Alves', 'address_Avenida_Copacabana', 'address_Avenida_Corifeu_de_Azevedo_Marques', 'address_Avenida_Coronel_Francisco_Júlio_César_Alfieri', 'address_Avenida_Coronel_José_Pires_de_Andrade', 'address_Avenida_Coronel_Sezefredo_Fagundes', 'address_Avenida_Cotovia', 'address_Avenida_Cristo_Rei', 'address_Avenida_Cupecê', 'address_Avenida_Curió', 'address_Avenida_Cásper_Líbero', 'address_Avenida_Cândido_Portinari', 'address_Avenida_Cônego_José_Salomon', 'address_Avenida_Damasceno_Vieira', 'address_Avenida_Dedo_de_Deus', 'address_Avenida_Delmar', 'address_Avenida_Deputado_Emílio_Carlos', 'address_Avenida_Diogo_de_Azevedo', 'address_Avenida_Direitos_Humanos', 'address_Avenida_Divino_Salvador', 'address_Avenida_Diógenes_Ribeiro_de_Lima', 'address_Avenida_Domingos_Odália_Filho', 'address_Avenida_Dona_Blandina_Ignez_Júlio', 'address_Avenida_Dona_Emília_de_Castro_Martins', 'address_Avenida_Dona_Helena_Pereira_de_Moraes', 'address_Avenida_Doutor_Alberto_Benedetti', 'address_Avenida_Doutor_Alberto_de_Oliveira_Lima', 'address_Avenida_Doutor_Altino_Arantes', 'address_Avenida_Doutor_Antônio_Álvaro', 'address_Avenida_Doutor_Assis_Ribeiro', 'address_Avenida_Doutor_Augusto_de_Toledo', 'address_Avenida_Doutor_Bernardino_Brito_Fonseca_de_Carvalho', 'address_Avenida_Doutor_Cardoso_de_Melo', 'address_Avenida_Doutor_Cândido_Motta_Filho', 'address_Avenida_Doutor_Felipe_Pinel', 'address_Avenida_Doutor_Francisco_Mesquita', 'address_Avenida_Doutor_Francisco_Ranieri', 'address_Avenida_Doutor_Gentil_de_Moura', 'address_Avenida_Doutor_Guilherme_Dumont_Vilares', 'address_Avenida_Doutor_Guilherme_Dumont_Villares', 'address_Avenida_Doutor_Hugo_Beolchi', 'address_Avenida_Doutor_José_Higino', 'address_Avenida_Doutor_José_Maciel', 'address_Avenida_Doutor_Lino_de_Moraes_Leme', 'address_Avenida_Doutor_Luís_Rocha_Miranda', 'address_Avenida_Doutor_Orêncio_Vidigal', 'address_Avenida_Doutor_Ricardo_Jafet', 'address_Avenida_Doutor_Rudge_Ramos', 'address_Avenida_Doutor_Timóteo_Penteado', 'address_Avenida_Doutor_Washington_Luíz', 'address_Avenida_Doutora_Ruth_Cardoso', 'address_Avenida_Dr._Vieira_de_Carvalho', 'address_Avenida_Duque_Caxias', 'address_Avenida_Duque_de_Caxias', 'address_Avenida_Duquesa_Goiás', 'address_Avenida_Duquesa_de_Goiás', 'address_Avenida_Dória', 'address_Avenida_Ede', 'address_Avenida_Edmundo_Amaral', 'address_Avenida_Eliseu_de_Almeida', 'address_Avenida_Elísio_Teixeira_Leite', 'address_Avenida_Embaixador_Cavalcanti_de_Lacerda', 'address_Avenida_Emílio_Ribas', 'address_Avenida_Engenheiro_Alberto_de_Zagottis', 'address_Avenida_Engenheiro_Armando_de_Arruda_Pereira', 'address_Avenida_Engenheiro_Caetano_Álvares', 'address_Avenida_Engenheiro_Eusébio_Stevaux', 'address_Avenida_Engenheiro_George_Corbisier', 'address_Avenida_Engenheiro_Heitor_Antônio_Eiras_Garcia', 'address_Avenida_Engenheiro_José_Salles', 'address_Avenida_Engenheiro_Luiz_Carlos_Berrini', 'address_Avenida_Engenheiro_Saraiva_de_Oliveira', 'address_Avenida_Engenheiro_Thomaz_Magalhães', 'address_Avenida_Engenho_Novo', 'address_Avenida_Ernesto_Souza_Cruz', 'address_Avenida_Escola_Politécnica', 'address_Avenida_Escragnolle_Dória', 'address_Avenida_Esperança', 'address_Avenida_Estado', 'address_Avenida_Estados_Unidos', 'address_Avenida_Etiópia', 'address_Avenida_Euclides', 'address_Avenida_Eulália', 'address_Avenida_Eusébio_Matoso', 'address_Avenida_Fagundes_Filho', 'address_Avenida_Feliciano_Correia', 'address_Avenida_Fim_de_Semana', 'address_Avenida_Flor_de_Vila_Formosa', 'address_Avenida_Flora', 'address_Avenida_Fortaleza_da_Conceição', 'address_Avenida_Francesco_Del_Cossa', 'address_Avenida_Francisco_Matarazzo', 'address_Avenida_Francisco_Rodrigues', 'address_Avenida_Francisco_Vieira_Bueno', 'address_Avenida_Francisco_de_Carvalho', 'address_Avenida_Franz_Voegeli', 'address_Avenida_Fuad_Lutfalla', 'address_Avenida_Gago_Coutinho', 'address_Avenida_Gaivota_Preta', 'address_Avenida_General_Ataliba_Leonel', 'address_Avenida_General_Edgar_Facó', 'address_Avenida_General_Olímpio_da_Silveira', 'address_Avenida_General_Pedro_Pinho', 'address_Avenida_General_Valdomiro_de_Lima', 'address_Avenida_Getsemani', 'address_Avenida_Giovanni_Gronchi', 'address_Avenida_Gregório_Bezerra', 'address_Avenida_Guapira', 'address_Avenida_Guarapiranga', 'address_Avenida_Guarulhos', 'address_Avenida_Guilherme', 'address_Avenida_Guilherme_Giorgi', 'address_Avenida_Guilherme_Mankel', 'address_Avenida_Guilhermina_Vieira', 'address_Avenida_Heitor_Penteado', 'address_Avenida_Henrique_Morize', 'address_Avenida_Henriqueta_Mendes_Guerra', 'address_Avenida_Hildebrando_de_Lima', 'address_Avenida_Hilário_Pereira_de_Souza', 'address_Avenida_Horácio_Lafer', 'address_Avenida_Ibijaú', 'address_Avenida_Ibirapuera', 'address_Avenida_Ibiúna', 'address_Avenida_Imirim', 'address_Avenida_Imperador', 'address_Avenida_Imperatriz_Leopoldina', 'address_Avenida_Inajar_de_Souza', 'address_Avenida_Industrial', 'address_Avenida_Intercontinental', 'address_Avenida_Interlagos', 'address_Avenida_Inácio_Cunha_Leme', 'address_Avenida_Ipiranga', 'address_Avenida_Ipiranga,_1284_-_Santa_Ifigênia,_São_Paulo_-_Sp,_01039-000,_Brasil', 'address_Avenida_Iraí', 'address_Avenida_Ireré', 'address_Avenida_Irerê', 'address_Avenida_Israel_Fonseca', 'address_Avenida_Itaberaba', 'address_Avenida_Itaboraí', 'address_Avenida_Itacira', 'address_Avenida_Itaquera', 'address_Avenida_Jabaquara', 'address_Avenida_Jacobus_Baldi', 'address_Avenida_Jacutinga', 'address_Avenida_Jaguaribe', 'address_Avenida_Jaguaré', 'address_Avenida_Jaime_Torres', 'address_Avenida_Jamaris', 'address_Avenida_Jandira', 'address_Avenida_Jardim_Japão', 'address_Avenida_Jaçanã', 'address_Avenida_Jerimanduba', 'address_Avenida_Joaquina_Ramalho', 'address_Avenida_Jorge_João_Saad', 'address_Avenida_José_André_de_Moraes', 'address_Avenida_José_Antônio_Cabral', 'address_Avenida_José_Barbosa_de_Siqueira', 'address_Avenida_José_Dini', 'address_Avenida_José_Estevão_de_Magalhães', 'address_Avenida_José_Galante', 'address_Avenida_José_Joaquim_Seabra', 'address_Avenida_José_Júlio', 'address_Avenida_José_Lopes_Lázaro', 'address_Avenida_José_Lopez_Lázaro', 'address_Avenida_José_Lourenço', 'address_Avenida_José_Muniz_Ribeiro', 'address_Avenida_João_Barreto_de_Menezes', 'address_Avenida_João_Batista', 'address_Avenida_João_Batista_Di_Vitoriano', 'address_Avenida_João_Caiaffa', 'address_Avenida_João_Del_Papa', 'address_Avenida_João_Dias', 'address_Avenida_João_Paulo_Ii', 'address_Avenida_João_Paulo_da_Silva', 'address_Avenida_João_Peixoto_Viegas', 'address_Avenida_João_Pessoa', 'address_Avenida_João_Simão_de_Castro', 'address_Avenida_João_de_Andrade', 'address_Avenida_João_de_Barros', 'address_Avenida_Juan_Cabrerizo', 'address_Avenida_Junta_Mizumoto', 'address_Avenida_Jurandir', 'address_Avenida_Jurema', 'address_Avenida_Jurucê', 'address_Avenida_Jônia', 'address_Avenida_Júlio_Buono', 'address_Avenida_Júlio_Prestes', 'address_Avenida_Júlio_de_Mesquita', 'address_Avenida_Kenkiti_Simomoto', 'address_Avenida_Kennedy', 'address_Avenida_Koki_Koga', 'address_Avenida_Lacerda_Franco', 'address_Avenida_Lasar_Segall', 'address_Avenida_Lauro_Xerfan', 'address_Avenida_Leblon', 'address_Avenida_Lemos_Monteiro', 'address_Avenida_Leonardo_da_Vinci', 'address_Avenida_Leonor', 'address_Avenida_Leôncio_de_Magalhães', 'address_Avenida_Lins_de_Vasconcelos', 'address_Avenida_Luiz_Dumont_Villares', 'address_Avenida_Líder', 'address_Avenida_Macuco', 'address_Avenida_Madame_Curie', 'address_Avenida_Maestro_Alfredo_Belardi', 'address_Avenida_Maestro_Villa-lobos', 'address_Avenida_Major_Roberto_dos_Santos', 'address_Avenida_Mandaqui', 'address_Avenida_Manoel_Pedro_Pímentel', 'address_Avenida_Manoel_de_Nóbrega', 'address_Avenida_Manoel_dos_Reis_Araújo', 'address_Avenida_Manuel_Pímentel', 'address_Avenida_Marari', 'address_Avenida_Marcondes_de_Brito', 'address_Avenida_Marcos_Penteado_de_Ulhoa_Rodrigues', 'address_Avenida_Marcos_Penteado_de_Ulhôa_Rodrigues', 'address_Avenida_Marechal_Eurico_Gaspar_Dutra', 'address_Avenida_Marechal_Fiuza_de_Castro', 'address_Avenida_Marechal_Juarez_Távora', 'address_Avenida_Marechal_Mario_Guedes', 'address_Avenida_Marginal', 'address_Avenida_Marginal_Direita_Anchieta', 'address_Avenida_Maria_Gebin_de_Moraes', 'address_Avenida_Maria_José_Vasconcellos_Mankel', 'address_Avenida_Mariana_Caligiori_Ronchetti', 'address_Avenida_Mariana_Ubaldina_do_Espírito_Santo', 'address_Avenida_Marques_de_São_Vicente', 'address_Avenida_Marquês_de_São_Vicente', 'address_Avenida_Martins_Júnior', 'address_Avenida_Mascote', 'address_Avenida_Mauro_Marques_da_Silva', 'address_Avenida_Mazzei', 'address_Avenida_Melchert', 'address_Avenida_Mendes_da_Rocha', 'address_Avenida_Mendonça_Drumond', 'address_Avenida_Menotti_Laudisio', 'address_Avenida_Mercedes', 'address_Avenida_Miguel_Estefno', 'address_Avenida_Miguel_Estéfno', 'address_Avenida_Miguel_Frias_E_Vasconcelos', 'address_Avenida_Miguel_Stéfano', 'address_Avenida_Miguel_Yunes', 'address_Avenida_Ministro_Osvaldo_Aranha', 'address_Avenida_Ministro_Petrônio_Portela', 'address_Avenida_Miruna', 'address_Avenida_Moaci', 'address_Avenida_Moema', 'address_Avenida_Mofarrej', 'address_Avenida_Monte_Celeste', 'address_Avenida_Monteiro_Lobato', 'address_Avenida_Montemagno', 'address_Avenida_Morais_Costa', 'address_Avenida_Moreira_Guimarães', 'address_Avenida_Mutinga', 'address_Avenida_Muzambinho', 'address_Avenida_Mário_Lopes_Leão', 'address_Avenida_Nelson_Palma_Travassos', 'address_Avenida_Nhandú', 'address_Avenida_Nicolau_Resende', 'address_Avenida_Norberto_Mayer', 'address_Avenida_Nordestina', 'address_Avenida_Nossa_Senhora_da_Assunção', 'address_Avenida_Nossa_Senhora_de_Fátima', 'address_Avenida_Nossa_Senhora_do_Lorêto', 'address_Avenida_Nossa_Senhora_do_Sabará', 'address_Avenida_Nossa_Senhora_do_Ó', 'address_Avenida_Nova_Cantareira', 'address_Avenida_Nova_Independência', 'address_Avenida_Nove_de_Julho', 'address_Avenida_Novo_Osasco', 'address_Avenida_Odair_Santanelli', 'address_Avenida_Odila', 'address_Avenida_Oiapoque', 'address_Avenida_Olavo_Bilac', 'address_Avenida_Onze_de_Agosto', 'address_Avenida_Onze_de_Junho', 'address_Avenida_Otacílio_Tomanik', 'address_Avenida_Othon_Luiz_Silveira', 'address_Avenida_Otávio_Braga_de_Mesquita', 'address_Avenida_Ourives', 'address_Avenida_Padre_Antônio_José_dos_Santos', 'address_Avenida_Padre_Arlindo_Vieira', 'address_Avenida_Padre_José_Maria', 'address_Avenida_Padre_Lebret', 'address_Avenida_Padre_Lourenço', 'address_Avenida_Padre_Pereira_de_Andrade', 'address_Avenida_Padre_Vicente_Melillo', 'address_Avenida_Padres_Olivetanos', 'address_Avenida_Paes_de_Barros', 'address_Avenida_Parada_Pinto', 'address_Avenida_Parkinson', 'address_Avenida_Pascoal_da_Rocha_Falcão', 'address_Avenida_Pasteur', 'address_Avenida_Patente', 'address_Avenida_Pau_Brasil', 'address_Avenida_Paula_Ferreira', 'address_Avenida_Paulista', 'address_Avenida_Pavão', 'address_Avenida_Pedro_Bueno', 'address_Avenida_Pedroso_da_Silveira', 'address_Avenida_Piassanguaba', 'address_Avenida_Piraíba', 'address_Avenida_Pires_do_Rio', 'address_Avenida_Politécnica', 'address_Avenida_Pompéia', 'address_Avenida_Portugal', 'address_Avenida_Praia_Grande', 'address_Avenida_Presidente_Humberto_de_A._Castelo_Branco', 'address_Avenida_Presidente_Humberto_de_Alencar_Castelo_Branco', 'address_Avenida_Presidente_Joao_Goulart', 'address_Avenida_Presidente_Juscelino_Kubitschek', 'address_Avenida_Prestes_Maia', 'address_Avenida_Professor_Abraão_de_Morais', 'address_Avenida_Professor_Alfonso_Bovero', 'address_Avenida_Professor_Ascendino_Reis', 'address_Avenida_Professor_Francisco_Morato', 'address_Avenida_Professor_Gióia_Martins', 'address_Avenida_Professor_José_Maria_Alkmin', 'address_Avenida_Professor_Luiz_Ignácio_Anhaia_Mello', 'address_Avenida_Professor_Miguel_Franchini_Neto', 'address_Avenida_Professor_Sylla_Mattos', 'address_Avenida_Professor_Vicente_Rao', 'address_Avenida_Professora_Ida_Kolb', 'address_Avenida_Professora_Virgília_Rodrigues_Alves_de_Carvalho_Pinto', 'address_Avenida_Príncipe_de_Gales', 'address_Avenida_Radialista_Manoel_de_Nóbrega', 'address_Avenida_Raimundo_Pereira_de_Magalhães', 'address_Avenida_Ramalho_Ortigão', 'address_Avenida_Rangel_Pestana', 'address_Avenida_Rebouças', 'address_Avenida_Regente_Feijó', 'address_Avenida_Renata', 'address_Avenida_Rio_Bonito', 'address_Avenida_Rio_Branco', 'address_Avenida_Rio_de_Janeiro', 'address_Avenida_Roque_Petroni_Júnior', 'address_Avenida_Rotary', 'address_Avenida_Rouxinol', 'address_Avenida_Rubem_Berta', 'address_Avenida_Rubens_Fraga_de_Toledo_Arruda', 'address_Avenida_Rubens_Montanaro_de_Borba', 'address_Avenida_Rudge', 'address_Avenida_Sabiá', 'address_Avenida_Sagitário', 'address_Avenida_Salgado_Filho', 'address_Avenida_Salgado_Filho,_Vila_Rio_de_Janeiro', 'address_Avenida_Sanatório', 'address_Avenida_Santa_Catarina', 'address_Avenida_Santa_Inês', 'address_Avenida_Santa_Marina', 'address_Avenida_Santo_Albano', 'address_Avenida_Santo_Amaro', 'address_Avenida_Santo_Antônio', 'address_Avenida_Santos_Dumont', 'address_Avenida_Sapopemba', 'address_Avenida_Sarah_Veloso', \"address_Avenida_Sargento_Geraldo_Sant'ana\", 'address_Avenida_Sargento_Geraldo_Sant’ana', 'address_Avenida_Sargento_José_Siqueira', 'address_Avenida_Saulle_Pagnoncelli', 'address_Avenida_Sebastião_Davino_dos_Reis', 'address_Avenida_Sebastião_Davino_dos_Réis', 'address_Avenida_Sebastião_Henriques', 'address_Avenida_Secundino_Domingues', 'address_Avenida_Senador_Casemiro_da_Rocha', 'address_Avenida_Senador_Casimiro_da_Rocha', 'address_Avenida_Senador_José_Ermírio_de_Moraes', 'address_Avenida_Senador_Queirós', 'address_Avenida_Senador_Teotônio_Vilela', 'address_Avenida_Senador_Vergueiro', 'address_Avenida_Sete_de_Setembro', 'address_Avenida_São_João', 'address_Avenida_São_João_Batista', 'address_Avenida_São_Luís', 'address_Avenida_São_Miguel', 'address_Avenida_São_Paulo_Paraná', 'address_Avenida_São_Remo', 'address_Avenida_Sílvio_Sciumbata', 'address_Avenida_Tarumã', 'address_Avenida_Teresa_Cristina', 'address_Avenida_Thomas_Edison', 'address_Avenida_Thomás_Edison', 'address_Avenida_Tietê', 'address_Avenida_Tiradentes', 'address_Avenida_Tomás_de_Sousa', 'address_Avenida_Trindade', 'address_Avenida_Trumain', 'address_Avenida_Tucumã', 'address_Avenida_Tucunaré', 'address_Avenida_Túlio_Teodoro_de_Campos', 'address_Avenida_Ultramarino', 'address_Avenida_Valdemar_Ferreira', 'address_Avenida_Valter_Boveri', 'address_Avenida_Varsóvia', 'address_Avenida_Vereador_Abel_Ferreira', 'address_Avenida_Vereador_Antônio_Grotkowski', 'address_Avenida_Vereador_José_Diniz', 'address_Avenida_Vereador_João_de_Luca', 'address_Avenida_Victor_Civita', 'address_Avenida_Vieira_de_Carvalho', 'address_Avenida_Vila_Ema', 'address_Avenida_Voluntários_da_Pátria', 'address_Avenida_Waldemar_Carlos_Pereira', 'address_Avenida_Washington_Luís', 'address_Avenida_Xavier_Pinheiro', 'address_Avenida_Yara', 'address_Avenida_Yervant_Kissajikian', 'address_Avenida_Zumkeller', 'address_Avenida_da_Aclimação', 'address_Avenida_da_Liberdade', 'address_Avenida_da_Paz', 'address_Avenida_da_Água_Funda', 'address_Avenida_das_Ameixeiras', 'address_Avenida_das_Cerejeiras', 'address_Avenida_das_Flores', 'address_Avenida_do_Anastácio', 'address_Avenida_do_Café', 'address_Avenida_do_Cursino', 'address_Avenida_do_Estado', 'address_Avenida_do_Guacá', 'address_Avenida_do_Oratório', 'address_Avenida_do_Rio_Bonito', 'address_Avenida_do_Taboão', 'address_Avenida_dos_Andradas', 'address_Avenida_dos_Autonomistas', 'address_Avenida_dos_Carinás', 'address_Avenida_dos_Eucaliptos', 'address_Avenida_dos_Imarés', 'address_Avenida_dos_Minuanos', 'address_Avenida_dos_Ourives', 'address_Avenida_dos_Parques', 'address_Avenida_Água_Fria', 'address_Avenida_Água_Funda', 'address_Avenida_Águas_de_São_Pedro', 'address_Avenida_Águia_de_Haia', 'address_Avenida_Álvaro_Machado_Pedrosa', 'address_Avenida_Álvaro_Ramos', 'address_Avenida_Ítalo_Brasileiro_Piva', 'address_Avenida_Ômega', 'address_Bela_Vista,_São_Paulo_-_Sp,_01321-001,_Brasil', 'address_Brooklin,_São_Paulo_-_Sp,_04564-000,_Brasil', 'address_Campo_Belo,_São_Paulo_-_Sp,_04610-001,_Brasil', 'address_Caraíbas', 'address_Cayowaá', 'address_Centro_Histórico_de_São_Paulo,_São_Paulo_-_Sp,_01031-001,_Brasil', 'address_Clodomiro_de_Oliveira', 'address_Crítios', 'address_Dias_Leme', 'address_Domingos_Lopes_da_Silva', 'address_Dona_Maria_Pera', 'address_Dr_Djalma_Pinheiro_Frranco', 'address_Emiliano_Di_Cavalcanti', 'address_Est._Velha_da_Penha,_88_-_Tatuapé,_São_Paulo_-_Sp,_03090-020,_Brasil_-_Cond._Residencial_Aldeia_dos_Pássaros', 'address_Estação_da_Lapa', 'address_Estrada_Itaquera_Guaianazes', 'address_Estrada_Velha_da_Penha', 'address_Estrada_da_Bela_Vista', 'address_Estrada_das_Lágrimas', 'address_Estrada_das_Rosas', 'address_Estrada_das_Violetas', 'address_Estrada_do_Caminho_Velho', 'address_Estrada_do_Jaguaré', 'address_Estrada_do_Sabão', 'address_Fábia', 'address_Helion_Póvoa', 'address_Ibituruna', 'address_Igati', 'address_Indianópolis,_São_Paulo_-_Sp,_04077-020,_Brasil', 'address_Indianópolis,_São_Paulo_-_Sp,_04524-020,_Brasil', 'address_Jaguaré,_São_Paulo_-_Sp,_05334-080,_Brasil', 'address_Jardim_Gracinda,_Guarulhos_-_Sp,_07082-290,_Brasil', 'address_João_Barreto_de_Menezes', 'address_Largo_Arouche', 'address_Largo_General_Osório', 'address_Largo_Padre_Péricles', 'address_Largo_Santa_Cecília', 'address_Largo_Senador_Raul_Cardoso', 'address_Largo_São_José_do_Maranhão', 'address_Largo_da_Pólvora', 'address_Largo_do_Arouche', 'address_Largo_do_Paissandu', 'address_Largo_do_Redentor', 'address_Largo_do_Redentor_/_Esquina_Com_Pires_da_Mota', 'address_Mafalda', 'address_Manoel_Dutra', 'address_Marcelo_Muller', 'address_Marcos_Pereira', 'address_Maria_Curupaiti', 'address_Ministro_Godói', 'address_Moema,_São_Paulo_-_Sp,_04524-000,_Brasil', 'address_Parque_Dom_Pedro_I', 'address_Parque_Dom_Pedro_Ii', 'address_Parque_Domingos_Luís', 'address_Parque_do_Morumbi,_São_Paulo_-_Sp,_05706-290,_Brasil', 'address_Passagem_Breno_Caldas', 'address_Passagem_Francisco_Gomes_de_Morães', 'address_Passagem_João_Batista_de_Araújo', 'address_Peixoto_Gomide', 'address_Praca_Marechal', 'address_Praça_Alberto_Lion', 'address_Praça_Alexandre_Fleming', 'address_Praça_Alexandre_de_Gusmão', 'address_Praça_Almirante_Pena_Botto', 'address_Praça_Américo_Jacomino', 'address_Praça_Antônio_Constantino', 'address_Praça_Aracariguama', 'address_Praça_Barão_de_Itaqui', 'address_Praça_Benedito_Calixto', 'address_Praça_Carlos_Gomes', 'address_Praça_Conceição_do_Herval', 'address_Praça_Conde_Pedro_Leonelli', 'address_Praça_Cosmorama_-_Osmar_Temperani', 'address_Praça_Dirceu_de_Lima', 'address_Praça_Dom_Francisco_de_Souza', 'address_Praça_Dom_Gastão_Liberal_Pinto', 'address_Praça_Dom_José_Gaspar', 'address_Praça_Doutor_Mario_Margarida', 'address_Praça_Doutor_Mario_Margarido', 'address_Praça_Doutor_Mário_Margarido', 'address_Praça_Doutor_Pereira_do_Rego', 'address_Praça_Estrela_do_Norte', 'address_Praça_Floriano_Peixoto', 'address_Praça_Franklin_Roosevelt', 'address_Praça_General_Araripe_de_Faria', 'address_Praça_General_Porto_Carreiro', 'address_Praça_Hilário_da_Conceição', 'address_Praça_Ituzaingó', 'address_Praça_Japuba', 'address_Praça_João_Correa_Lemos', 'address_Praça_Júlio_Mesquita', 'address_Praça_Júlio_Prestes', 'address_Praça_Louveira', 'address_Praça_Marechal_Deodoro', 'address_Praça_Miguel_Ortega', 'address_Praça_Ministro_Costa_Manso', 'address_Praça_Mário_Ortiz', 'address_Praça_Nami_Jafet', 'address_Praça_Padre_Mário_Fontana', 'address_Praça_Padroeira_do_Brasil', 'address_Praça_Pedro_Lessa', 'address_Praça_Princesa_Isabel', 'address_Praça_Professor_José_Azevedo_Antunes', 'address_Praça_Quatorze_Bis', 'address_Praça_Santa_Adelaide', 'address_Praça_Santa_Therezinha', 'address_Praça_Silveiras', 'address_Praça_Tristão_da_Cunha', 'address_Praça_Visconde_de_Sousa_Fontes', 'address_Praça_Volta_Redonda', 'address_Praça_Xavier_da_Silveira', 'address_Praça_da_Bandeira', 'address_Praça_da_República', 'address_R._Afonso_Braz_-_Vila_Nova_Conceição,_São_Paulo_-_Sp,_Brasil', 'address_R._Agulha', 'address_R._Antônio_Guganis', 'address_R._Bela_Cintra', 'address_R._Bonnard,_2-_Alphaville_Empresarial,_Barueri_-_Sp,_06414,_Brasil', 'address_R._Carneiro_da_Cunha', 'address_R._Conselheiro_Moreira_de_Barros_-_Santana,_São_Paulo_-_Sp,_Brasil', 'address_R._Coronel_Bento_Bicudo_1167', 'address_R._Dr._Almeida_Lima,_835_-_Mooca,_São_Paulo_-_Sp,_03164-000,_Brasil', 'address_R._Dr._Almeida_Lima_-_Brás,_São_Paulo_-_Sp,_03046-010,_Brasil', 'address_R._Durvalino_Blanco,_32_-_Vila_Aurora_(zona_Norte),_São_Paulo_-_Sp,_02410-002,_Brasil', 'address_R._Evans,_178_-_São_Paulo_-_Sp,_03648-020,_Brasil', 'address_R._Evans,_São_Paulo_-_Sp,_03648-020,_Brasil', 'address_R._Fábio_Lopes_dos_Santos_Luz', 'address_R._Girassol_-_Vila_Madalena,_São_Paulo_-_Sp,_Brasil', 'address_R._Jaguaribe', 'address_R._Jorge_Alves_Ferreira', 'address_R._Joseph_Nigri', 'address_R._João_Adolfo', 'address_R._João_Baldinato', 'address_R._João_Rossi', 'address_R._João_Simões_de_Souza_-_Parque_Reboucas,_São_Paulo_-_Sp,_05734-140,_Brasil', 'address_R._Justino_Nigro', 'address_R._Mal._Barbacena', 'address_R._Nossa_Sra._Operária,_286_-_Vila_Guilherme,_São_Paulo_-_Sp,_02060-010,_Brasil', 'address_R._Onofre_Silveira', 'address_R._Palmares', 'address_R._Pedro_Tezin,_350_-_Bortolândia,_São_Paulo_-_Sp,_02352-130,_Brasil', 'address_R._Santo_Amaro_-_Bela_Vista,_São_Paulo_-_Sp,_Brasil', 'address_R._Santo_Antônio', 'address_R._Santo_Elías', 'address_R._Soror_Angélica', 'address_R._Tabatinguera', 'address_R._dos_Democratas', 'address_R_Emília_Pilon', 'address_R_Joao_Cachoeira', 'address_R_Kenkiti_Shimomoto', 'address_R_Nereu_Rangel_Pestana', 'address_R_Santa_Amélia', 'address_R_Vinte_E_Quaro_de_Dezembro', 'address_Rodovia_Raposo_Tavares', 'address_Rodovia_Regis_Bittencourt', 'address_Rua_17_de_Janeiro', 'address_Rua_21_de_Abril', 'address_Rua_24_de_Maio', 'address_Rua_29_de_Outubro', 'address_Rua_8', 'address_Rua_Abadiânia', 'address_Rua_Abagiba', 'address_Rua_Abaitara', 'address_Rua_Abaíbas', 'address_Rua_Abdo_Ambuba', 'address_Rua_Abel_Grimmer', 'address_Rua_Abel_Ramos', 'address_Rua_Abelardo_Pinto', 'address_Rua_Abelardo_Pinto_Piolin', 'address_Rua_Abernesia', 'address_Rua_Abolição', 'address_Rua_Abrahão_Calux', 'address_Rua_Abrahão_Jorge_Miguel', 'address_Rua_Abrahão_Mussa', 'address_Rua_Abraão_Miguel_do_Carmo', 'address_Rua_Aburá', 'address_Rua_Abílio', 'address_Rua_Abílio_Barbosa_Lima', 'address_Rua_Abílio_Borin', 'address_Rua_Abílio_Pedro_Ramos', 'address_Rua_Abílio_Soares', 'address_Rua_Acarapereira', 'address_Rua_Acaraú', 'address_Rua_Acarembó', 'address_Rua_Acarituba', 'address_Rua_Achiles_Beline', 'address_Rua_Achiles_Belline', 'address_Rua_Achilles_Masetti', 'address_Rua_Acruás', 'address_Rua_Acuruí', 'address_Rua_Ada_Negri', 'address_Rua_Adalberto_Kemeny', 'address_Rua_Adalberto_Kurt', 'address_Rua_Adalgisa', 'address_Rua_Adaury_Ribeiro_de_Godoy', 'address_Rua_Adele_Zarzur', 'address_Rua_Adelino_de_Almeida_Castilho', 'address_Rua_Adis-abeba', 'address_Rua_Adolfino_de_Arruda_Castanho', 'address_Rua_Adolfo_Bastos', 'address_Rua_Adolfo_Casais_Monteiro', 'address_Rua_Adolfo_Gordo', 'address_Rua_Adolfo_Lima_Barros', 'address_Rua_Adolfo_Reile', 'address_Rua_Adolfo_Schnabel', 'address_Rua_Adolpho_Bozzi', 'address_Rua_Adriano_Theodósio_Serra', 'address_Rua_Adília_Mercado_Madureira', 'address_Rua_Afonso_Araújo_Almeida', 'address_Rua_Afonso_Bandeira_de_Melo', 'address_Rua_Afonso_Braz', 'address_Rua_Afonso_Celso', 'address_Rua_Afonso_Célso_Figueiredo', 'address_Rua_Afonso_Morsch', 'address_Rua_Afonso_Pena', 'address_Rua_Afonso_Sardinha', 'address_Rua_Afonso_Xiii', 'address_Rua_Afonso_de_Freitas', 'address_Rua_Afonso_de_Oliveira_Santos', 'address_Rua_Agamenon_Magalhães', 'address_Rua_Agente_Gomes', 'address_Rua_Agissê', 'address_Rua_Agop_Kerimian', 'address_Rua_Agostinho_Beltrano', 'address_Rua_Agostinho_Cantu', 'address_Rua_Agostinho_Correia', 'address_Rua_Agostinho_Gomes', 'address_Rua_Agostinho_Gualda_Martin', 'address_Rua_Agostinho_Lattari', 'address_Rua_Agostinho_Navarro', 'address_Rua_Agostinho_Rodrigues_Filho', 'address_Rua_Agrimensor_Sugaya', 'address_Rua_Aguapeí', 'address_Rua_Aguaraiba', 'address_Rua_Aguaçaí', 'address_Rua_Agudos_Grandes', 'address_Rua_Aguiar_de_Barros', 'address_Rua_Aguirre_Proença', 'address_Rua_Aiamá', 'address_Rua_Ailson_Simões', 'address_Rua_Aimberê', 'address_Rua_Aimutong', 'address_Rua_Ajururés', 'address_Rua_Akron', 'address_Rua_Alabama', 'address_Rua_Alagoas', 'address_Rua_Alambique', 'address_Rua_Alaor_Bronzone', 'address_Rua_Alayde_de_Souza_Costa', 'address_Rua_Alba', 'address_Rua_Alban_Berg', 'address_Rua_Alberico_Galvão_Bueno', 'address_Rua_Albertina_Viêira_da_Silva_Gordo', 'address_Rua_Alberto_Afonso_Martins', 'address_Rua_Alberto_Arnoldi', 'address_Rua_Alberto_Cortez', 'address_Rua_Alberto_Filipini', 'address_Rua_Alberto_Gomes_Leite', 'address_Rua_Alberto_Hinoto_Bento', 'address_Rua_Alberto_José_da_Mota', 'address_Rua_Alberto_Leal', 'address_Rua_Alberto_Lohnhoff', 'address_Rua_Alberto_Moreira_Batista_Filho', 'address_Rua_Alberto_Quatrine_Bianchi', 'address_Rua_Alberto_Savoy', 'address_Rua_Albina_Barbosa', 'address_Rua_Albino_Boldasso_Gabril', 'address_Rua_Albion', 'address_Rua_Alcantarilla', 'address_Rua_Alceu_Antônio_da_Luz', 'address_Rua_Alcides_Alves', 'address_Rua_Alcino_Braga', 'address_Rua_Alcântara_Machado', 'address_Rua_Aldeia_Paracanti', 'address_Rua_Aldeia_Vinte_de_Setembro', 'address_Rua_Aldeia_da_Formiga', 'address_Rua_Alegre', 'address_Rua_Alegria', 'address_Rua_Alencar_Araripe', 'address_Rua_Alerina', 'address_Rua_Alessandro_Alberti', 'address_Rua_Alessandro_Manzoni', 'address_Rua_Alesso_Baldovinetti', 'address_Rua_Alexandre_Bening', 'address_Rua_Alexandre_Benois', 'address_Rua_Alexandre_Calame', 'address_Rua_Alexandre_Dumas', 'address_Rua_Alexandre_Farnésio', 'address_Rua_Alexandre_Gusmão', 'address_Rua_Alexandre_Jorge_da_Cruz', 'address_Rua_Alexandre_Levi', 'address_Rua_Alexandre_Leví', 'address_Rua_Alexandre_Mortali', 'address_Rua_Alexandre_Rapin', 'address_Rua_Alexandre_Ribeiro', 'address_Rua_Alexandre_Rider', 'address_Rua_Alexandre_Teixeira', 'address_Rua_Alexandrino_da_Silveira_Bueno', 'address_Rua_Alexandrino_da_Silveira_Bueno,_São_Paulo_-_Sp,_Brasil', 'address_Rua_Alferes_Frazão', 'address_Rua_Alferes_Magalhães', 'address_Rua_Alfredo_Gali', 'address_Rua_Alfredo_Jorel', 'address_Rua_Alfredo_Mendes_da_Silva', 'address_Rua_Alfredo_Pujol', 'address_Rua_Algarobeira', 'address_Rua_Aliança', 'address_Rua_Alicante', 'address_Rua_Alice_Blanche', 'address_Rua_Alice_Garcia_Vega', 'address_Rua_Alice_Manholer_Piteri', 'address_Rua_Almaden', 'address_Rua_Almansa', 'address_Rua_Almaquio_Dinis', 'address_Rua_Almeida_Brandão', 'address_Rua_Almeida_Ferraz', 'address_Rua_Almeida_Lisboa', 'address_Rua_Almir_Rodrigues', 'address_Rua_Almirante_Ari_Parreiras', 'address_Rua_Almirante_Brasil', 'address_Rua_Almirante_Calheiros', 'address_Rua_Almirante_José_Saldanha_da_Gama', 'address_Rua_Almirante_Marques_Leão', 'address_Rua_Almirante_Marques_de_Leão', 'address_Rua_Almirante_Noronha', 'address_Rua_Almirante_Sousa_Braga', 'address_Rua_Almiro_Bernardo', 'address_Rua_Almo_Abrahão_Bertazzo', 'address_Rua_Alméria', 'address_Rua_Almério_de_Albuquerque_Melo', 'address_Rua_Alonso_Calhamares', 'address_Rua_Alonso_Peres', 'address_Rua_Alora', 'address_Rua_Alsácia', 'address_Rua_Alto_Garças', 'address_Rua_Alto_Santa_Maria', 'address_Rua_Alto_Taquari', 'address_Rua_Aluísio_Azevedo', 'address_Rua_Alva', 'address_Rua_Alvaro_de_Carvalho', 'address_Rua_Alvaro_de_Menezes', 'address_Rua_Alves_Cardoso', 'address_Rua_Alves_Guimarães', 'address_Rua_Alves_Ribeiro', 'address_Rua_Alves_de_Almeida', 'address_Rua_Alvorada', 'address_Rua_Alvorada_do_Norte', 'address_Rua_Alzira', 'address_Rua_Aléssio_de_Paolis', 'address_Rua_Amadis', 'address_Rua_Amador_Bueno', 'address_Rua_Amador_de_Barros_Júnior', 'address_Rua_Amambaí', 'address_Rua_Amandaú', 'address_Rua_Amapá', 'address_Rua_Amapá_Grande', 'address_Rua_Amarais', 'address_Rua_Amaral_Gama', 'address_Rua_Amaral_Gurgel', 'address_Rua_Amaro_Guerra', 'address_Rua_Amauri', 'address_Rua_Amazonas', 'address_Rua_Amazonas_da_Silva', 'address_Rua_Ambrizette', 'address_Rua_Ambrosina_de_Macedo', 'address_Rua_Ameixeiras', 'address_Rua_Ampére', 'address_Rua_Amália_Figueiroa', 'address_Rua_Amália_de_Noronha', 'address_Rua_Amâncio_Pedro_de_Oliveira', 'address_Rua_Amândio_Monteiro', 'address_Rua_Amélia_Almeida_Lucas', 'address_Rua_Américo_Alves_Pereira_Filho', 'address_Rua_Américo_Brasiliense', 'address_Rua_Américo_Garibaldi', 'address_Rua_Américo_Lopes', 'address_Rua_Américo_Samarone', 'address_Rua_Américo_Sugai', 'address_Rua_Américo_Vespucci', 'address_Rua_Ana_Benvinda_de_Andrade', 'address_Rua_Ana_Cintra', 'address_Rua_Ana_Demerson', 'address_Rua_Ana_Doll_de_Morais', 'address_Rua_Ana_Soares_Barcelos', 'address_Rua_Ana_de_Barros', 'address_Rua_Anacleto', 'address_Rua_Anambés', 'address_Rua_Anamá', 'address_Rua_Anastácio_de_Souza_Pinto', 'address_Rua_Anatole_de_Baudot', 'address_Rua_Ancara', 'address_Rua_Andaquara', 'address_Rua_Andaraí', 'address_Rua_Andaçu', 'address_Rua_Andradas', 'address_Rua_Andrade_Reis', 'address_Rua_Andrea_Del_Castagno', 'address_Rua_André_Bloc', 'address_Rua_André_Domingues', 'address_Rua_André_Maia', 'address_Rua_André_Natale', 'address_Rua_André_Saraiva', 'address_Rua_André_Saraíva', 'address_Rua_André_Spitaleti', 'address_Rua_André_Thomas', 'address_Rua_André_de_Almeida', 'address_Rua_Andréa_Amati', 'address_Rua_Andréa_Del_Castagno', 'address_Rua_Anete_Queiroz_Lacerda', 'address_Rua_Angatuba', 'address_Rua_Angaturama', 'address_Rua_Angola', 'address_Rua_Angá', 'address_Rua_Anhaia', 'address_Rua_Anhanguera', 'address_Rua_Anhangüera', 'address_Rua_Anhembi', 'address_Rua_Anhumas', 'address_Rua_Anjo_Custódio', 'address_Rua_Anjos_do_Mar', 'address_Rua_Anny', 'address_Rua_Antares', 'address_Rua_Antenas', 'address_Rua_Antero_de_Quental', 'address_Rua_Antonieta', 'address_Rua_Antonieta_Leitão', 'address_Rua_Antonieta_de_Morais', 'address_Rua_Antonio_Avelino_Neves', 'address_Rua_Antonio_Eduardo', 'address_Rua_Antonio_Palmieri', 'address_Rua_Antonio_de_Aguiar', 'address_Rua_Antunes_Maciel', 'address_Rua_Antão_Leme_da_Silva', 'address_Rua_Antíoco', 'address_Rua_Antônia_Maria_de_Barros', 'address_Rua_Antônia_Soveral', 'address_Rua_Antônia_Teresa_de_Paula_Matias', 'address_Rua_Antônieta_Francolino', 'address_Rua_Antônieta_Leitão', 'address_Rua_Antônio_Abude', 'address_Rua_Antônio_Aggio', 'address_Rua_Antônio_Amaral', 'address_Rua_Antônio_André_Rodrigues', 'address_Rua_Antônio_Armando', 'address_Rua_Antônio_Artoni', 'address_Rua_Antônio_Baião', 'address_Rua_Antônio_Bastos', 'address_Rua_Antônio_Benedito_Machado_Florence', 'address_Rua_Antônio_Bento', 'address_Rua_Antônio_Borba', 'address_Rua_Antônio_Camardo', 'address_Rua_Antônio_Canero', 'address_Rua_Antônio_Cardoso', 'address_Rua_Antônio_Cardoso_Franco', 'address_Rua_Antônio_Carlos', 'address_Rua_Antônio_Carlos_dos_Santos', 'address_Rua_Antônio_Chagas', 'address_Rua_Antônio_Clemente', 'address_Rua_Antônio_Covello', 'address_Rua_Antônio_Dare', 'address_Rua_Antônio_Dias_da_Silva', 'address_Rua_Antônio_Dias_da_Silva_Casa_N°_2', 'address_Rua_Antônio_Domingues_de_Carvalho', 'address_Rua_Antônio_Flaquer', 'address_Rua_Antônio_Florêncio_dos_Santos', 'address_Rua_Antônio_Fonseca', 'address_Rua_Antônio_Fontoura_Xavier', 'address_Rua_Antônio_Félix_Pacheco', 'address_Rua_Antônio_Fóster', 'address_Rua_Antônio_Gebara', 'address_Rua_Antônio_Genzini_190_Apto_63', 'address_Rua_Antônio_Gil', 'address_Rua_Antônio_Gil_-_Cidade_Ademar,_São_Paulo_-_Sp,_Brasil', 'address_Rua_Antônio_Gomes', 'address_Rua_Antônio_Gomes_Ferreira', 'address_Rua_Antônio_Guarmerino', 'address_Rua_Antônio_Guedes_da_Silva', 'address_Rua_Antônio_Henriques_Cardoso', 'address_Rua_Antônio_Hélio_de_Azevedo_Marques', 'address_Rua_Antônio_José_Loureiro', 'address_Rua_Antônio_José_Parra_Primeiro', 'address_Rua_Antônio_José_Vaz', 'address_Rua_Antônio_João', 'address_Rua_Antônio_João_Fiore', 'address_Rua_Antônio_Júlio_dos_Santos', 'address_Rua_Antônio_La_Giudice', 'address_Rua_Antônio_Lôbo', 'address_Rua_Antônio_Marcondes', 'address_Rua_Antônio_Miranda', 'address_Rua_Antônio_Morais_Barros', 'address_Rua_Antônio_Neto_Caldeira', 'address_Rua_Antônio_Olinto', 'address_Rua_Antônio_Pereira_Mendes', 'address_Rua_Antônio_Peres_Paniágua', 'address_Rua_Antônio_Pinto_do_Rêgo_Freitas', 'address_Rua_Antônio_Pires', 'address_Rua_Antônio_Pires_de_Campos', 'address_Rua_Antônio_Pontes_Câmara', 'address_Rua_Antônio_Píres', 'address_Rua_Antônio_Ribeiro_de_Morais', 'address_Rua_Antônio_Rodrigues_Passos', 'address_Rua_Antônio_Rodrigues_dos_Ouros', 'address_Rua_Antônio_Russo', 'address_Rua_Antônio_Salema', 'address_Rua_Antônio_Sampaio_Ferraz', 'address_Rua_Antônio_Sarkis,_49_-_Vila_Galvao,_Guarulhos_-_Sp,_Brasil', 'address_Rua_Antônio_Simplício', 'address_Rua_Antônio_Tavares', 'address_Rua_Antônio_Tavares_Velho', 'address_Rua_Antônio_Tenreiro', 'address_Rua_Antônio_Vera_Cruz', 'address_Rua_Antônio_Vieira_de_Medeiros', 'address_Rua_Antônio_Vivaldi', 'address_Rua_Antônio_Viêira', 'address_Rua_Antônio_Viêira_dos_Santos', 'address_Rua_Antônio_Xavier_de_Matos', 'address_Rua_Antônio_da_Cunha_Coelho', 'address_Rua_Antônio_da_Silva_Lobo_Júnior', 'address_Rua_Antônio_das_Chagas', 'address_Rua_Antônio_de_Almeida_Naves', 'address_Rua_Antônio_de_Barros', 'address_Rua_Antônio_de_Couros', 'address_Rua_Antônio_de_Godói', 'address_Rua_Antônio_de_Jussieu', 'address_Rua_Antônio_de_Lotufo', 'address_Rua_Antônio_de_Macedo_Soares', 'address_Rua_Antônio_de_Mariz', 'address_Rua_Antônio_de_Proença', 'address_Rua_Antônio_de_Sousa_Delmundo', 'address_Rua_Antônio_do_Campo', 'address_Rua_Anália_Franco', 'address_Rua_Anápolis', 'address_Rua_Aníbal_de_Matos', 'address_Rua_Anísio_Moreira', 'address_Rua_Apa', 'address_Rua_Aparecida_Ramos_Fuchida', 'address_Rua_Apeninos', 'address_Rua_Apiacás', 'address_Rua_Apinajés', 'address_Rua_Apotribu', 'address_Rua_Aprigio_Rego_Lopes', 'address_Rua_Apuru', 'address_Rua_Apuá', 'address_Rua_Aquiles_Jovane', 'address_Rua_Aracirama', 'address_Rua_Aracuípe', 'address_Rua_Araguaia', 'address_Rua_Araguaia_Feitosa_Martins', 'address_Rua_Araguari', 'address_Rua_Araim', 'address_Rua_Aramanaí', 'address_Rua_Arapaçu', 'address_Rua_Arapuru', 'address_Rua_Arapá', 'address_Rua_Arapés', 'address_Rua_Araquã', 'address_Rua_Araranguá', 'address_Rua_Ararapirá', 'address_Rua_Aratiba', 'address_Rua_Arcelino_Aguiar', 'address_Rua_Arcipreste_Ezequias', 'address_Rua_Arco-verde', 'address_Rua_Argonautas', 'address_Rua_Aristhéa_Rosa_Amaral', 'address_Rua_Aristides_Jofre', 'address_Rua_Aristides_Viadana', 'address_Rua_Aristides_da_Silveira_Lobo', 'address_Rua_Aristódemo_Gazzotti', 'address_Rua_Arisugawa', 'address_Rua_Arizona', 'address_Rua_Arlindo_Alberto', 'address_Rua_Arlindo_Veiga_dos_Santos', 'address_Rua_Armando_Barreto', 'address_Rua_Armando_Bonilha', \"address_Rua_Armando_D'almeida\", 'address_Rua_Armando_Pinelli', 'address_Rua_Armando_Ramos_Filho', 'address_Rua_Armazém', 'address_Rua_Arminda', 'address_Rua_Armindo_Guaraná', 'address_Rua_Arnaldo_Alvernaz_Nunes', 'address_Rua_Arnaldo_Cintra', \"address_Rua_Arnaldo_Pedroso_D'horta\", 'address_Rua_Arno_Nadel', 'address_Rua_Arnoldo_Baldoino_Welter', 'address_Rua_Arnoldo_Baldoíno_Welter', 'address_Rua_Aroaba', 'address_Rua_Arpuí', 'address_Rua_Arquitas', 'address_Rua_Arquiteto_Heitor_de_Melo', 'address_Rua_Arquiteto_Jaime_Fonseca_Rodrigues', 'address_Rua_Arraial_de_São_Bartolomeu', 'address_Rua_Arroio_Grande', 'address_Rua_Arruda_Alvim', 'address_Rua_Arruda_Ferreira', 'address_Rua_Artemis', 'address_Rua_Arthur_Azevedo', 'address_Rua_Arthur_Baptistucci', 'address_Rua_Arthur_Bliss', 'address_Rua_Arthur_Eloy', 'address_Rua_Arthur_Luiz_Adriano', 'address_Rua_Artur', 'address_Rua_Artur_Barreiros', 'address_Rua_Artur_Bernardes', 'address_Rua_Artur_Cerqueira_Mendes', 'address_Rua_Artur_Dias', 'address_Rua_Artur_Ferreira_de_Abreu', 'address_Rua_Artur_Napoleão', 'address_Rua_Artur_Prado', 'address_Rua_Artur_Rodrigues_Alcântara', 'address_Rua_Artur_Sabóia', 'address_Rua_Artur_Tescaro', 'address_Rua_Artur_de_Azevedo', 'address_Rua_Arão_Adler', 'address_Rua_Ascencional', 'address_Rua_Ascenso_Dias_Leme', 'address_Rua_Ascenso_Ribeiro', 'address_Rua_Ascânio', 'address_Rua_Asdrúbal_do_Nascimento', 'address_Rua_Assano', 'address_Rua_Assuero_Roque', 'address_Rua_Assungui', 'address_Rua_Assunta_Dores_de_Sica', 'address_Rua_Astorga', 'address_Rua_Astrolábio', 'address_Rua_Atalanta', 'address_Rua_Ataliba_Leonel', 'address_Rua_Atibaia', 'address_Rua_Atica', 'address_Rua_Atos_Damasceno', 'address_Rua_Atuaí', 'address_Rua_Atílio_Lofredo', 'address_Rua_Atílio_Piffer', 'address_Rua_Atílio_Vivacqua', 'address_Rua_Atílio_Viváqua', 'address_Rua_Augusta', 'address_Rua_Augusta_Santel', 'address_Rua_Augusto_Blasi', 'address_Rua_Augusto_Farina', 'address_Rua_Augusto_José_Pereira', 'address_Rua_Augusto_Reginato', 'address_Rua_Augusto_Soares', 'address_Rua_Augusto_Tolle', 'address_Rua_Augusto_Viana_de_Castelo', 'address_Rua_Augusto_de_Mendonça', 'address_Rua_Augusto_dos_Anjos', 'address_Rua_Aulinda_Queiroz_de_Matos', 'address_Rua_Aureliano_Coutinho', 'address_Rua_Aureliano_Leal_-_Santana,_São_Paulo_-_Sp,_Brasil', 'address_Rua_Aureliano_do_Amaral', 'address_Rua_Aurora', 'address_Rua_Aurora_Paulistana', 'address_Rua_Aurélia', 'address_Rua_Avanhandava', 'address_Rua_Avelino_Lopes', 'address_Rua_Avinhao', 'address_Rua_Azevedo_Júnior', 'address_Rua_Azevedo_Macedo', 'address_Rua_Azevedo_Marques', 'address_Rua_Azevedo_Soares', 'address_Rua_Aziz_Jabur_Maluf', 'address_Rua_Azém_Abdalla_Azém', 'address_Rua_Açafrão', 'address_Rua_Açaizal', 'address_Rua_Açatunga', 'address_Rua_Açaí', 'address_Rua_Aída_Gomes_Tolêdo', 'address_Rua_B._B._Varela', 'address_Rua_Bacada', 'address_Rua_Bacaetava', 'address_Rua_Bacairis', 'address_Rua_Bacarira', 'address_Rua_Baceúnas', 'address_Rua_Bacia_do_Suacuí', 'address_Rua_Backer', 'address_Rua_Bactória', 'address_Rua_Bacurau', 'address_Rua_Baetinga', 'address_Rua_Baguassu', 'address_Rua_Bagé', 'address_Rua_Bahia', 'address_Rua_Balaio', 'address_Rua_Balsa', 'address_Rua_Baltazar_Brum', 'address_Rua_Baltazar_Lisboa', 'address_Rua_Baltazar_Soares', 'address_Rua_Baltazar_da_Silveira', 'address_Rua_Baltazar_da_Veiga', 'address_Rua_Balthazar_da_Veiga', 'address_Rua_Baluarte', 'address_Rua_Bandeira_Paulista', 'address_Rua_Bandeirantes', 'address_Rua_Banharão', 'address_Rua_Baracuxi', 'address_Rua_Barao_de_Iguape', 'address_Rua_Barata_Ribeiro', 'address_Rua_Barbacena', 'address_Rua_Baronesa_Itu', 'address_Rua_Baronesa_de_Bela_Vista', 'address_Rua_Baronesa_de_Itu', 'address_Rua_Barra_Funda', 'address_Rua_Barra_Mansa', 'address_Rua_Barra_dos_Bugres', 'address_Rua_Barralhara', 'address_Rua_Barreiro_da_Raiz', 'address_Rua_Barreto_Muniz', 'address_Rua_Barretos', 'address_Rua_Barros_Sobrinho', 'address_Rua_Barroso_Neto', 'address_Rua_Barrânia', 'address_Rua_Bartholomeu_do_Canto', 'address_Rua_Bartira', 'address_Rua_Bartolomeu_Diniz', 'address_Rua_Bartolomeu_Feio', 'address_Rua_Bartolomeu_Gusmão', 'address_Rua_Bartolomeu_Rodrigues', 'address_Rua_Bartolomeu_Sabino_de_Melo', 'address_Rua_Bartolomeu_de_Gusmão', 'address_Rua_Bartolomeu_de_Torales', 'address_Rua_Bartolomé_Carducho', 'address_Rua_Barão_Bananal', 'address_Rua_Barão_Campos_Gerais', 'address_Rua_Barão_Jaceguai', 'address_Rua_Barão_Serro_Largo', 'address_Rua_Barão_Triunfo', 'address_Rua_Barão_de_Campinas', 'address_Rua_Barão_de_Campos_Gerais', 'address_Rua_Barão_de_Capanema', 'address_Rua_Barão_de_Iguape', 'address_Rua_Barão_de_Itapetininga', 'address_Rua_Barão_de_Jaceguai', 'address_Rua_Barão_de_Jaguara', 'address_Rua_Barão_de_Juparanã', 'address_Rua_Barão_de_Loreto', 'address_Rua_Barão_de_Melgaço', 'address_Rua_Barão_de_Monte_Santo', 'address_Rua_Barão_de_Santo_Ângelo', 'address_Rua_Barão_de_Tatuí', 'address_Rua_Barão_de_Tefé', 'address_Rua_Barão_de_Tramandaí', 'address_Rua_Barão_de_Vallim', 'address_Rua_Barão_do_Bananal', 'address_Rua_Barão_do_Rio_Branco', 'address_Rua_Barão_do_Serro_Largo', 'address_Rua_Barão_do_Triunfo', 'address_Rua_Basílio_Alves_Morango', 'address_Rua_Basílio_da_Cunha', 'address_Rua_Batataes', 'address_Rua_Batinga', 'address_Rua_Batista_Caetano', 'address_Rua_Batuns', 'address_Rua_Baturité', 'address_Rua_Baucis', 'address_Rua_Baxiúva', 'address_Rua_Bazílio_da_Silva', 'address_Rua_Baía_Grande', 'address_Rua_Bela_Cintra', 'address_Rua_Bela_Cintra,_32_-_Consolação,_São_Paulo_-_Sp,_Brasil', 'address_Rua_Bela_Flor', 'address_Rua_Bela_Vista_do_Paraíso', 'address_Rua_Belchior_de_Azevedo', 'address_Rua_Belfort_Matos', 'address_Rua_Belila', 'address_Rua_Belo_Horizonte', 'address_Rua_Bem_Vinda_Apparecida_de_Abreu_Leme', 'address_Rua_Benedetto_Bonfigli', 'address_Rua_Benedita_Aparecida_Nogueira', 'address_Rua_Benedito_Coelho_Netto', 'address_Rua_Benedito_Faber', 'address_Rua_Benedito_Fernandes', 'address_Rua_Benedito_Lapin', 'address_Rua_Benedito_Otoni', 'address_Rua_Benedito_Pereira_de_Borba', 'address_Rua_Benedito_Sebastião_de_Faria', 'address_Rua_Benfica', 'address_Rua_Benito_Fioretto', 'address_Rua_Benjamin_Capusso', 'address_Rua_Benjamin_Carr', 'address_Rua_Benjamin_Costa', 'address_Rua_Benjamin_Pereira', 'address_Rua_Bennet', 'address_Rua_Benta_Pereira', 'address_Rua_Bento_Arruda', 'address_Rua_Bento_Barbosa', 'address_Rua_Bento_Branco_de_Andrade_Filho', 'address_Rua_Bento_Freitas', 'address_Rua_Bento_Frias', 'address_Rua_Bento_Gonçalves', 'address_Rua_Bento_Manuel', 'address_Rua_Bento_Ribeiro', 'address_Rua_Bento_Vieira', 'address_Rua_Bentureli', 'address_Rua_Benvenuto_Cellini', 'address_Rua_Benvinda_Aparecida_de_Abreu_Leme', 'address_Rua_Beranizia_de_Paula_Oliveira', 'address_Rua_Bergamota', 'address_Rua_Berlioz', 'address_Rua_Bernardina_Gonçalves_Hahne', 'address_Rua_Bernardino_Vergueiro', 'address_Rua_Bernardino_de_Campos', 'address_Rua_Bernardo_Sanches', 'address_Rua_Bernardo_de_Fonseca', 'address_Rua_Bernardo_de_Quadros', 'address_Rua_Bernardo_dos_Santos', 'address_Rua_Bertioga', 'address_Rua_Beta', 'address_Rua_Betânia', 'address_Rua_Bias_Fortes', 'address_Rua_Bica_de_Pedra', 'address_Rua_Bicudo_Cortês', 'address_Rua_Bicudo_de_Brito', 'address_Rua_Bimbarra', 'address_Rua_Birigui', 'address_Rua_Bismarque', 'address_Rua_Bispo_Eugênio_Demazemod_388_Apto_61', 'address_Rua_Bitencourt_Sampaio', 'address_Rua_Boa_Vista', 'address_Rua_Boacica', 'address_Rua_Boavas', 'address_Rua_Bolívar_Ribeiro_Boaventura', 'address_Rua_Bom_Jesus', 'address_Rua_Bom_Pastor', 'address_Rua_Bom_Sucesso', 'address_Rua_Bonifácio_Veronese', 'address_Rua_Bonnard', 'address_Rua_Booker_Pittman', 'address_Rua_Borba_Gato', 'address_Rua_Borges', 'address_Rua_Borges_Ladário', 'address_Rua_Borges_Lagoa', 'address_Rua_Borges_de_Figueiredo', 'address_Rua_Botocudos', 'address_Rua_Botucatu', 'address_Rua_Botuí', 'address_Rua_Boçoroca', 'address_Rua_Bragança_Paulista', 'address_Rua_Branca_Raposo', 'address_Rua_Branco_de_Araújo', 'address_Rua_Brasil', 'address_Rua_Brasília', 'address_Rua_Braúlio_Guedes', 'address_Rua_Brentano', 'address_Rua_Bresser', 'address_Rua_Breves', 'address_Rua_Brigadeiro_Galvão', 'address_Rua_Brigadeiro_Gama_Barcelos', 'address_Rua_Brigadeiro_Gavião_Peixoto', 'address_Rua_Brigadeiro_Godinho_dos_Santos', 'address_Rua_Brigadeiro_Tobias', 'address_Rua_Brigadeiro_Vilela_Júnior', 'address_Rua_Brigadeiro_Xavier_de_Brito', 'address_Rua_Brodosqui', 'address_Rua_Bruna', 'address_Rua_Bruno_Cavalcanti_Feder', 'address_Rua_Bruxelas', 'address_Rua_Brás_Cardoso', 'address_Rua_Brás_Cubas', 'address_Rua_Brás_Lourenço', 'address_Rua_Brás_Sangiovanni', 'address_Rua_Brás_de_Arzão', 'address_Rua_Bucuituba', 'address_Rua_Bueno_Brandão', 'address_Rua_Bueno_de_Andrade', 'address_Rua_Buquira', 'address_Rua_Buritis', 'address_Rua_Butiá', 'address_Rua_Buturuna', 'address_Rua_Bárbara_Heliodora', 'address_Rua_Bélgica', 'address_Rua_C', 'address_Rua_Cabo_Antônio_Pinton', 'address_Rua_Cabo_João_Teruel_Fregoni', 'address_Rua_Cabrue', 'address_Rua_Cachoeira', 'address_Rua_Cachoeira_da_Ilha', 'address_Rua_Cachoeira_do_Arari', 'address_Rua_Cachoeira_do_Sul', 'address_Rua_Cachoeiro_de_Itapemirim', 'address_Rua_Caconde', 'address_Rua_Caetano_Pinto', 'address_Rua_Caetano_de_Oliveira', 'address_Rua_Caetanos', 'address_Rua_Caetanópolis', 'address_Rua_Caeté-açu', 'address_Rua_Caicó', 'address_Rua_Caio_Prado', 'address_Rua_Caioaba', 'address_Rua_Caiowa', 'address_Rua_Caiowaa', 'address_Rua_Caitezal', 'address_Rua_Caiubi', 'address_Rua_Cajaíba', 'address_Rua_Cajuru', 'address_Rua_Califórnia', 'address_Rua_Calixto_da_Mota', 'address_Rua_Calógero_Calía', 'address_Rua_Camajó', 'address_Rua_Camaragibe', 'address_Rua_Camarajé', 'address_Rua_Camargo', 'address_Rua_Camargo_Aranha', 'address_Rua_Camarés', 'address_Rua_Cambaquara', 'address_Rua_Cambembé', 'address_Rua_Cambuci_do_Vale', 'address_Rua_Camburiu', 'address_Rua_Camilo', 'address_Rua_Camilo_Carrera', 'address_Rua_Caminha_de_Amorim', 'address_Rua_Caminho_do_Engenho', 'address_Rua_Caminho_do_Pilar', 'address_Rua_Campelo', 'address_Rua_Campevas', 'address_Rua_Campo_Belo_do_Sul', 'address_Rua_Campo_Comprido', 'address_Rua_Campo_Grande', 'address_Rua_Campo_Largo', 'address_Rua_Campo_Santo', 'address_Rua_Campos', 'address_Rua_Campos_Belos', 'address_Rua_Campos_Bicudo', 'address_Rua_Campos_Sales', 'address_Rua_Campos_Vergueiro', 'address_Rua_Campêlo', 'address_Rua_Camundo', 'address_Rua_Camé', 'address_Rua_Camélias', 'address_Rua_Cananéia', 'address_Rua_Cancioneiro_Popular', 'address_Rua_Cancioneiro_de_Évora', 'address_Rua_Candiolina_Matos_de_Santana', 'address_Rua_Canindezinho', 'address_Rua_Canto_da_Tarde', 'address_Rua_Canto_do_Junco', 'address_Rua_Cantori', 'address_Rua_Canumá', 'address_Rua_Canuto_Abreu', 'address_Rua_Canuto_Borelli', 'address_Rua_Canuto_Saraiva', 'address_Rua_Canuto_do_Val', 'address_Rua_Canário', 'address_Rua_Caparaó', 'address_Rua_Capiacaci', 'address_Rua_Capibaribe', 'address_Rua_Capimirim', 'address_Rua_Capiri', 'address_Rua_Capistrano_de_Abreu', 'address_Rua_Capital_Federal', 'address_Rua_Capitao_Avelino_Carneiro', 'address_Rua_Capitão-mor_Jerônimo_Leitão', 'address_Rua_Capitão-mor_Passos', 'address_Rua_Capitão_Alberto_Mendes_Júnior', 'address_Rua_Capitão_Alceu_Vieira', 'address_Rua_Capitão_Alceu_Viêira', 'address_Rua_Capitão_Ferraiuolo', 'address_Rua_Capitão_Fidélis', 'address_Rua_Capitão_Francisco_Lipi', 'address_Rua_Capitão_José_Amaral', 'address_Rua_Capitão_José_Amaral_112_-_Apto_1_•_Freguesia_do_Ó_•_São_Paulo_-_Sp', 'address_Rua_Capitão_José_Machado', 'address_Rua_Capitão_João_Cesário', 'address_Rua_Capitão_João_Rosa_da_Cruz', 'address_Rua_Capitão_Leovigildo_Silvério_Gomes_dos_Reis', 'address_Rua_Capitão_Lorena', 'address_Rua_Capitão_Luís_Ramos', 'address_Rua_Capitão_Nascimento', 'address_Rua_Capitão_Otávio_Machado', 'address_Rua_Capitão_Pacheco_E_Chaves', 'address_Rua_Capitão_Rabelo', 'address_Rua_Capitão_Raimundo_Barros_Nascimento', 'address_Rua_Capitão_Rubens', 'address_Rua_Capitão_Teófilo', 'address_Rua_Capitão_Zacarias_Bernardino_Mota', 'address_Rua_Capote_Valente', 'address_Rua_Capricho', 'address_Rua_Caquito', 'address_Rua_Caracaxá', 'address_Rua_Caramboleira', 'address_Rua_Caramuru', 'address_Rua_Carapebus', 'address_Rua_Carapocaia', 'address_Rua_Caraputinga', 'address_Rua_Caraíbas', 'address_Rua_Carbonífera', 'address_Rua_Cardeal_Arcoverde', 'address_Rua_Cardeal_Enrico_Dante', 'address_Rua_Cardoso_de_Almeida', 'address_Rua_Careaçu', 'address_Rua_Carlo_Carra', 'address_Rua_Carlo_Pallavicino', 'address_Rua_Carlos_Belmiro_Correia', 'address_Rua_Carlos_Bigatti', 'address_Rua_Carlos_Comenale', 'address_Rua_Carlos_Dias_Fernandes', 'address_Rua_Carlos_Leite_dos_Santos', 'address_Rua_Carlos_Lima_Morel', 'address_Rua_Carlos_Luís_da_Silva', 'address_Rua_Carlos_Magalhães', 'address_Rua_Carlos_Pavan', 'address_Rua_Carlos_Petit', 'address_Rua_Carlos_Pinto_Alves', 'address_Rua_Carlos_Sampaio', 'address_Rua_Carlos_Steinen', 'address_Rua_Carlos_Venturi', 'address_Rua_Carlos_Vicari', 'address_Rua_Carlos_Villalva', 'address_Rua_Carlos_Weber', 'address_Rua_Carlos_de_Mesquita', 'address_Rua_Carlos_dos_Santos', 'address_Rua_Carmem_Aguilar_Perez', 'address_Rua_Carmo_do_Rio_Verde', 'address_Rua_Carnaíba', 'address_Rua_Carneiro_Leão', 'address_Rua_Carneiro_da_Cunha', 'address_Rua_Carolina_Soares', 'address_Rua_Caruaru', 'address_Rua_Carubinha', 'address_Rua_Caruso', 'address_Rua_Carvalho_de_Freitas', 'address_Rua_Casa_Forte', 'address_Rua_Casa_do_Ator', 'address_Rua_Cascavel', 'address_Rua_Castelo_do_Piauí', 'address_Rua_Castilho', 'address_Rua_Castro_Alves', 'address_Rua_Cataguaz', 'address_Rua_Cataguazes', 'address_Rua_Cataguás', 'address_Rua_Catanduva', 'address_Rua_Catarina_Vieira', 'address_Rua_Catuaba', 'address_Rua_Catulo_da_Paixão_Cearense', 'address_Rua_Catumbi', 'address_Rua_Catuquina', 'address_Rua_Catuípe', 'address_Rua_Catão', 'address_Rua_Caucaia_do_Alto', 'address_Rua_Cauré', 'address_Rua_Cavour', 'address_Rua_Cavour_399_Apto_124_B/a', 'address_Rua_Caxiúna', 'address_Rua_Cayowaá', 'address_Rua_Caçador_de_Esmeraldas', 'address_Rua_Caçaquera', 'address_Rua_Cecilia', 'address_Rua_Cecília_Davy', 'address_Rua_Cecília_Meireles', 'address_Rua_Celeste_Fernandes_Dalphorno', 'address_Rua_Celeste_de_Souza_Cardi', 'address_Rua_Celso_Ramos', 'address_Rua_Celso_Vieira', 'address_Rua_Celso_de_Azevedo_Marques', 'address_Rua_Cembira', 'address_Rua_Cenerino_Branco_de_Araújo', 'address_Rua_Centenário_do_Sul', 'address_Rua_Center', 'address_Rua_Central', 'address_Rua_Cerqueira_César', 'address_Rua_Cerquilho', 'address_Rua_Cerro_Cora', 'address_Rua_Cerro_Corá', 'address_Rua_Cerro_Largo', 'address_Rua_Cerro_de_Mateus_Simões', 'address_Rua_Cervantes', 'address_Rua_Cesar_Vallejo', 'address_Rua_Cesario_Ramalho', 'address_Rua_Cesário_Ramalho', 'address_Rua_Cezar_Zama', 'address_Rua_Chafic_Maluf', 'address_Rua_Chagu', 'address_Rua_Chamantá', 'address_Rua_Changua', 'address_Rua_Chapada_de_Minas', 'address_Rua_Charles_Chaplin', 'address_Rua_Charles_Darwin', 'address_Rua_Charles_Hoyt', 'address_Rua_Charles_Lampe', 'address_Rua_Charles_Spencer_Chaplin', 'address_Rua_Chico_Pontes', 'address_Rua_Chile', 'address_Rua_Chiquinha_Rodrigues', 'address_Rua_Chui', 'address_Rua_Chácara_do_Carvalho', 'address_Rua_Cidade_Lion', 'address_Rua_Cidade_de_Bagdá', 'address_Rua_Cinco_de_Outubro', 'address_Rua_Cipriano_Barata', 'address_Rua_Ciridião_Durval', 'address_Rua_Ciro_Costa', 'address_Rua_Ciro_dos_Anjos', 'address_Rua_Cisplatina', 'address_Rua_Clara_de_Oliveira', 'address_Rua_Clarence', 'address_Rua_Claudina_Júlia_de_Oliveira', 'address_Rua_Claudino_Barbosa', 'address_Rua_Claudino_Inácio_Joaquim', 'address_Rua_Claudino_José_Branco', 'address_Rua_Claudino_Pinto', 'address_Rua_Claudionor_Barbieri', 'address_Rua_Clemente_Alvares', 'address_Rua_Clemente_Pereira', 'address_Rua_Clemente_Álvares', 'address_Rua_Clementine_Brenne', 'address_Rua_Clementino', 'address_Rua_Cleonice_Cândida_Fanani', 'address_Rua_Clodomiro_Amazonas', 'address_Rua_Clodomiro_de_Oliveira', 'address_Rua_Clovis_de_Oliveira', 'address_Rua_Cláudia', 'address_Rua_Cláudio', 'address_Rua_Cláudio_Aparecido_Oliveira', 'address_Rua_Cláudio_Mendonça', 'address_Rua_Cláudio_Rodrigues_Lopes', 'address_Rua_Clélia', 'address_Rua_Clímaco_Barbosa', 'address_Rua_Clóvis_Beviláqua', 'address_Rua_Cocais', 'address_Rua_Cocáis', 'address_Rua_Coelho_Barradas', 'address_Rua_Coelho_Neto', 'address_Rua_Colômbia', 'address_Rua_Colônia_da_Glória', 'address_Rua_Comendador_Armando_Pereira', 'address_Rua_Comendador_Elias_Assi', 'address_Rua_Comendador_Francisco_Pettinati', 'address_Rua_Comendador_Gabriel_Calfat', 'address_Rua_Comendador_Gil_Pinheiro', 'address_Rua_Comendador_Miguel_Calfat', 'address_Rua_Comendador_Roberto_Ugolini', 'address_Rua_Comendador_Vicente_Lentini', 'address_Rua_Comendador_Yamamoto', 'address_Rua_Comprida', 'address_Rua_Conceição_Marcondes_Silva', 'address_Rua_Conceição_da_Barra', 'address_Rua_Conceição_do_Castelo', 'address_Rua_Conception_Arenal', 'address_Rua_Conchilia', 'address_Rua_Conde_Juliano', 'address_Rua_Conde_Luiz_Eduardo_Matarazzo', 'address_Rua_Conde_Luiz_Zunta', 'address_Rua_Conde_Prates', 'address_Rua_Conde_Sarzedas', 'address_Rua_Conde_Siciliano', 'address_Rua_Conde_Vicente_de_Azevedo', 'address_Rua_Conde_de_Irajá', 'address_Rua_Conde_de_Itu', 'address_Rua_Conde_de_Porto_Alegre', 'address_Rua_Conde_de_Porto_Alegre,_606,_Campo_Belo', 'address_Rua_Conde_de_Sarzedas', 'address_Rua_Conde_de_São_Joaquim', 'address_Rua_Conde_de_São_Joaquim_340', 'address_Rua_Condessa_de_São_Joaquim', 'address_Rua_Condessa_do_Pinhal', 'address_Rua_Condeúba', 'address_Rua_Congonhas', 'address_Rua_Conrado_Mazzeo', 'address_Rua_Conselheiro_Brotero', 'address_Rua_Conselheiro_Cotegipe', 'address_Rua_Conselheiro_Crispiniano', 'address_Rua_Conselheiro_Cândido_de_Oliveira', 'address_Rua_Conselheiro_Elias_de_Carvalho', 'address_Rua_Conselheiro_Furtado', 'address_Rua_Conselheiro_João_Alfredo', 'address_Rua_Conselheiro_Lafaiette', 'address_Rua_Conselheiro_Lafayette', 'address_Rua_Conselheiro_Moreira_de_Barros', 'address_Rua_Conselheiro_Nébias', 'address_Rua_Conselheiro_Pedro_Luís', 'address_Rua_Conselheiro_Ramalho', 'address_Rua_Conselheiro_Rodrigues_Alves', 'address_Rua_Conselheiro_Saraiva', 'address_Rua_Consolação', 'address_Rua_Constantino_Sérgio', 'address_Rua_Constantino_de_Sousa', 'address_Rua_Convenção_de_Itu', 'address_Rua_Copacabana', 'address_Rua_Corcovado', 'address_Rua_Cordilheiras', 'address_Rua_Coremu', 'address_Rua_Corgie_Assad_Abdalla', 'address_Rua_Corinto', 'address_Rua_Corinto_de_Toledo', 'address_Rua_Coriolano', 'address_Rua_Coriolano_Durand', 'address_Rua_Corneteiro_Jesus', 'address_Rua_Cornélio_Schimidt', 'address_Rua_Coronel_Amaro_Sobrinho', 'address_Rua_Coronel_Antônio_de_Sá_Barreto', 'address_Rua_Coronel_Artur_Godói', 'address_Rua_Coronel_Bento_Bicudo', 'address_Rua_Coronel_Bento_Pires', 'address_Rua_Coronel_Camisão', 'address_Rua_Coronel_Carlos_Oliva', 'address_Rua_Coronel_Cintra', 'address_Rua_Coronel_Conrado_Siqueira_Campos', 'address_Rua_Coronel_Deraldo_Jordão', 'address_Rua_Coronel_Diogo', 'address_Rua_Coronel_Donato', 'address_Rua_Coronel_Euclides_Machado', 'address_Rua_Coronel_Euclídes_Machado', 'address_Rua_Coronel_Fawcett', 'address_Rua_Coronel_Francisco_Amaro', 'address_Rua_Coronel_Francisco_Inácio', 'address_Rua_Coronel_Francisco_Júlio_César_Alfieri', 'address_Rua_Coronel_Francisco_de_Oliveira_Simões', 'address_Rua_Coronel_Graça_Martins', 'address_Rua_Coronel_Gustavo_Santiago', 'address_Rua_Coronel_Higino_Borges_dos_Santos', 'address_Rua_Coronel_Homero_da_Silveira', 'address_Rua_Coronel_Irineu_de_Castro', 'address_Rua_Coronel_Joaquim_Antônio_Dias', 'address_Rua_Coronel_Jordão', 'address_Rua_Coronel_José_Lopes_de_Toledo', 'address_Rua_Coronel_Joviniano_Brandão', 'address_Rua_Coronel_João_Gabi', 'address_Rua_Coronel_Junqueira_Franco', 'address_Rua_Coronel_Lisboa', 'address_Rua_Coronel_Luiz_Lobo', 'address_Rua_Coronel_Luís_Barroso', 'address_Rua_Coronel_Luís_Schimidt', 'address_Rua_Coronel_Luís_de_Faria_E_Sousa', 'address_Rua_Coronel_Marcílio_Franco', 'address_Rua_Coronel_Marques', 'address_Rua_Coronel_Marques_Ribeiro', 'address_Rua_Coronel_Meireles', 'address_Rua_Coronel_Meireles_462_Casa_11_Penha_Vila_Lais', 'address_Rua_Coronel_Melo_de_Oliveira', 'address_Rua_Coronel_Morais', 'address_Rua_Coronel_Mursa', 'address_Rua_Coronel_Octávio_Azeredo', 'address_Rua_Coronel_Oscar_Porto', 'address_Rua_Coronel_Paulo_Souza_Barros', 'address_Rua_Coronel_Pedro_Dias_de_Campos', 'address_Rua_Coronel_Rodovalho', 'address_Rua_Coronel_Vieira_de_Castro', 'address_Rua_Coronel_Virgilio_dos_Santos', 'address_Rua_Coronel_Xavier_de_Toledo', 'address_Rua_Correggio', 'address_Rua_Correia_Dias', 'address_Rua_Correia_da_Câmara', 'address_Rua_Correia_de_Almeida', 'address_Rua_Correia_de_Lacerda', 'address_Rua_Correia_de_Lemos', 'address_Rua_Corrientes', 'address_Rua_Corumbaiba', 'address_Rua_Corypheu_de_Azevedo_Marques', 'address_Rua_Costa_Aguiar', 'address_Rua_Costa_Barros', 'address_Rua_Costa_Carvalho', 'address_Rua_Costeira', 'address_Rua_Cotonificio_Adelina', 'address_Rua_Cotoxó', 'address_Rua_Crato', 'address_Rua_Cravinhos', 'address_Rua_Cristiano_Viana', 'address_Rua_Cristianópolis', 'address_Rua_Cristofaro_Mantegazza', 'address_Rua_Cristovão_Bezerra_Dantas', 'address_Rua_Cristovão_Pereira', 'address_Rua_Cristóforo_Mantegazza', 'address_Rua_Cristóvão_Arraes', 'address_Rua_Cristóvão_Bezerra_Dantas', 'address_Rua_Cristóvão_Colombo', 'address_Rua_Cristóvão_Pereira', 'address_Rua_Critios', 'address_Rua_Crixás', 'address_Rua_Croata', 'address_Rua_Crubixa', 'address_Rua_Cruz_de_Malta', 'address_Rua_Crítios', 'address_Rua_Cubatão', 'address_Rua_Cuiabá', 'address_Rua_Cumbé', 'address_Rua_Cunha_Gago', 'address_Rua_Cunha_Horta', 'address_Rua_Cunha_Matos', 'address_Rua_Cupiara', 'address_Rua_Curiangos', 'address_Rua_Curituba', 'address_Rua_Curiá', 'address_Rua_Curumataí', 'address_Rua_Curupace', 'address_Rua_Curupá', 'address_Rua_Curuçá', 'address_Rua_Custódio_de_Mendonça', 'address_Rua_Custódio_de_Oliveira', 'address_Rua_Cuxiponés', 'address_Rua_Cásper_Líbero', 'address_Rua_Cândida_Franco_de_Barros', 'address_Rua_Cândido_Lacerda', 'address_Rua_Cândido_Portinari', 'address_Rua_Cândido_Vale', 'address_Rua_Célio', 'address_Rua_César_Augusto_da_Silva', 'address_Rua_César_Guimarães', 'address_Rua_César_Pena_Ramos', 'address_Rua_César_Penna_Ramos', 'address_Rua_César_Vallejo', 'address_Rua_Céu_Tropical', 'address_Rua_Cézar_Pierangeli', 'address_Rua_Cícero_Dantas', 'address_Rua_Cícero_Fernandes_de_Lyra', 'address_Rua_Cônego_Amaral_Mello', 'address_Rua_Cônego_Antônio_Lessa', 'address_Rua_Cônego_Arnaldo_Caiaffa', 'address_Rua_Cônego_Eugênio_Leite', 'address_Rua_Cônego_José_Norberto', 'address_Rua_Cônego_Ladeira', 'address_Rua_Cônego_Luís_Gonzaga_Biazi', 'address_Rua_Cônego_Luís_Viêira_da_Silva', 'address_Rua_Cônego_Sangirardi', 'address_Rua_Cônego_Vicente', 'address_Rua_Cônego_Vicente_Miguel_Marino', 'address_Rua_Damiro_de_Oliveira_Volpe', 'address_Rua_Damião_Fernandes', 'address_Rua_Damião_da_Silva', 'address_Rua_Damásio_Mascarenhas', 'address_Rua_Danaides', 'address_Rua_Daniel_José_Pereira', 'address_Rua_Daniel_Vieira', 'address_Rua_Daniel_Vieira,_239,_Vila_Gauca', 'address_Rua_Daniel_de_Toledo', 'address_Rua_Dankmar_Adler', 'address_Rua_Dante_Alighieri', 'address_Rua_Dante_Pellacani', 'address_Rua_Danton_Vampre', 'address_Rua_Danúbio_Azul', 'address_Rua_Darwin', 'address_Rua_Darzan', 'address_Rua_Davi_Hume', 'address_Rua_David_Ben_Gurion', 'address_Rua_David_Eid', 'address_Rua_David_Gebara', 'address_Rua_Debret', 'address_Rua_Degroux', 'address_Rua_Delegado_Everton', 'address_Rua_Delegado_Moraes_Novaes', 'address_Rua_Delfina_da_Cunha', 'address_Rua_Demerval_da_Fonseca', 'address_Rua_Demini', 'address_Rua_Democracia', 'address_Rua_Democratas', 'address_Rua_Demétrio_Ribeiro', 'address_Rua_Demóstenes', 'address_Rua_Deodate_Pereira_Rezende', 'address_Rua_Deolinda_Rodrigues', 'address_Rua_Deputado_Emílio_Carlos', 'address_Rua_Deputado_João_Sussumu_Hirata', 'address_Rua_Deputado_Laércio_Corte', 'address_Rua_Descampado', 'address_Rua_Desembargador_Andrade_Pinto', 'address_Rua_Desembargador_Aragão', 'address_Rua_Desembargador_Bandeira_de_Mello', 'address_Rua_Desembargador_Carneiro_Ribeiro', 'address_Rua_Desembargador_Dalmo_do_Valle_Nogueira', 'address_Rua_Desembargador_Euclides_da_Silveira', 'address_Rua_Desembargador_Guimarães', 'address_Rua_Desembargador_Júlio_César_de_Faria', 'address_Rua_Desembargador_Júlio_Guimarães', 'address_Rua_Desembargador_Rodrigues_Sette', 'address_Rua_Desembargador_do_Vale', 'address_Rua_Dezenove_de_Maio', 'address_Rua_Dezessete_de_Outubro', 'address_Rua_Diamante_Preto', 'address_Rua_Diamante_do_Norte', 'address_Rua_Diana', 'address_Rua_Dianópolis', 'address_Rua_Dias_Leme', 'address_Rua_Dias_da_Silva', 'address_Rua_Diego_de_Castilho', 'address_Rua_Diego_de_Losada', 'address_Rua_Dilma_Rispoli', 'address_Rua_Diogo_Jácome', 'address_Rua_Diogo_Moreira', 'address_Rua_Diogo_Ortiz', 'address_Rua_Diogo_Pereira', 'address_Rua_Diogo_Ribeiro', 'address_Rua_Diogo_Vaz', 'address_Rua_Diogo_de_Oliveira', 'address_Rua_Diogo_de_Oliveira_Neves', 'address_Rua_Dionísio_Pedrellini', 'address_Rua_Dionísio_da_Costa', 'address_Rua_Dirceu', 'address_Rua_Dirceu_Rocha_Dias', 'address_Rua_Djalma_Coelho', 'address_Rua_Djalma_Pessolato', 'address_Rua_Dois_de_Janeiro', 'address_Rua_Dois_de_Julho', 'address_Rua_Dolores_Duran', 'address_Rua_Dom_Armando_Lombardi', 'address_Rua_Dom_Bento_Pickel', 'address_Rua_Dom_Bernardo_Nogueira', 'address_Rua_Dom_Bosco', 'address_Rua_Dom_Carlos_Gouveia', 'address_Rua_Dom_Constantino_Barradas', 'address_Rua_Dom_Estevão_Pimentel', 'address_Rua_Dom_Francisco_de_Sousa', 'address_Rua_Dom_Joaquim_de_Oliveira', 'address_Rua_Dom_José_Antônio_dos_Reis', 'address_Rua_Dom_José_Marcondes', 'address_Rua_Dom_José_Maurício', 'address_Rua_Dom_José_de_Baros', 'address_Rua_Dom_José_de_Barros', 'address_Rua_Dom_João_Maria_Ogno', 'address_Rua_Dom_João_V', 'address_Rua_Dom_Leopoldo_I', 'address_Rua_Dom_Lourenço_Lumini', 'address_Rua_Dom_Lucas_Obes', 'address_Rua_Dom_Lúcio_de_Sousa', 'address_Rua_Dom_Macedo_da_Costa', 'address_Rua_Dom_Macário', 'address_Rua_Dom_Mateus', 'address_Rua_Dom_Meinrado', 'address_Rua_Dom_Meinrado,_266,_Jardim_Monjolo', 'address_Rua_Dom_Miguel_Costa', 'address_Rua_Dom_Otávio_de_Miranda', 'address_Rua_Dom_Paulo_Pedrosa', 'address_Rua_Dom_Pedro_Henrique_de_Orleans_E_Bragança', 'address_Rua_Dom_Romualdo_de_Seixas', 'address_Rua_Dom_Salomão_Ferraz', 'address_Rua_Dom_Sebastião_Tomás', 'address_Rua_Dom_Sebastião_do_Rego', 'address_Rua_Dom_Valentim', 'address_Rua_Dom_Vilares', 'address_Rua_Dom_Érico_Ferrari', 'address_Rua_Domiciano_Leite_Ribeiro', 'address_Rua_Domiciano_Ribeiro', 'address_Rua_Domingos_Afonso', 'address_Rua_Domingos_Antonio_Ciccone', 'address_Rua_Domingos_Ataide', 'address_Rua_Domingos_Augusto_Setti', 'address_Rua_Domingos_Crudo', 'address_Rua_Domingos_Fasolari', 'address_Rua_Domingos_José_Sapienza', 'address_Rua_Domingos_Leme', 'address_Rua_Domingos_Lopes_da_Silva', 'address_Rua_Domingos_Magno', 'address_Rua_Domingos_Maza', 'address_Rua_Domingos_Paiva', 'address_Rua_Domingos_Portela', 'address_Rua_Domingos_Rodrigues', 'address_Rua_Domingos_Torres', 'address_Rua_Domingos_da_Costa_Mata', 'address_Rua_Domingos_da_Fonseca', 'address_Rua_Domingos_de_Morais', 'address_Rua_Domingos_de_Santa_Maria', 'address_Rua_Domingos_do_Sacramento', 'address_Rua_Domênico_Perotti', 'address_Rua_Don_Francisco_Manuel_Vieira', 'address_Rua_Dona_Adma_Jafet', 'address_Rua_Dona_Amélia_Rufina', 'address_Rua_Dona_Ana_Neri', 'address_Rua_Dona_Ana_Néri', 'address_Rua_Dona_Antônia_de_Queirós', 'address_Rua_Dona_Aurora_Alegretti', 'address_Rua_Dona_Brígida', 'address_Rua_Dona_Carolina', 'address_Rua_Dona_Cesária_Fagundes', 'address_Rua_Dona_Dica', 'address_Rua_Dona_Elfrida', 'address_Rua_Dona_Elisa', 'address_Rua_Dona_Gabriela', 'address_Rua_Dona_Gertrudes_Jordão', 'address_Rua_Dona_Leopoldina', 'address_Rua_Dona_Maria_Bráulio', 'address_Rua_Dona_Maria_Carolina', 'address_Rua_Dona_Maria_Custódia', 'address_Rua_Dona_Martinha', 'address_Rua_Dona_Primitiva_Vianco', 'address_Rua_Dona_Tecla', 'address_Rua_Dona_Veridiana', 'address_Rua_Dona_Vicentina_Alegretti', 'address_Rua_Dona_Vitu_Giorgi', 'address_Rua_Dona_Vitória_Speers', 'address_Rua_Doná_Emma', 'address_Rua_Dorezópolis', 'address_Rua_Doutor_Abelardo_Vergueiro_César', 'address_Rua_Doutor_Aires_Martins_Torres', 'address_Rua_Doutor_Alberto_Seabra', 'address_Rua_Doutor_Albuquerque_Lins', 'address_Rua_Doutor_Alcides_de_Campos', 'address_Rua_Doutor_Alcídes_da_Costa_Vidigal', 'address_Rua_Doutor_Alfredo_Ellis', 'address_Rua_Doutor_Alfredo_de_Castro', 'address_Rua_Doutor_Almeida_Lima', 'address_Rua_Doutor_Almeida_Nogueira', 'address_Rua_Doutor_Amando_Franco_Soares_Caiuby', 'address_Rua_Doutor_Andrade_Pertence', 'address_Rua_Doutor_Antônio_Barbosa_Bueno', 'address_Rua_Doutor_Antônio_Bento', 'address_Rua_Doutor_Argemiro_Couto_de_Barros', 'address_Rua_Doutor_Artur_Rudge_Ramos', 'address_Rua_Doutor_Artur_Zapponi', 'address_Rua_Doutor_Augusto_César', 'address_Rua_Doutor_Augusto_de_Miranda', 'address_Rua_Doutor_Bacelar', 'address_Rua_Doutor_Bento_Teobaldo_Ferraz', 'address_Rua_Doutor_Bettencourt_Rodrigues', 'address_Rua_Doutor_Bitencourt_Rodrigues', 'address_Rua_Doutor_Brasilio_Machado', 'address_Rua_Doutor_Brasílio_Machado', 'address_Rua_Doutor_Bruno_Rangel_Pestana', 'address_Rua_Doutor_Bráulio_Gomes', 'address_Rua_Doutor_Caetano_Estellita_Pernet', 'address_Rua_Doutor_Carlos_Aldrovandi', 'address_Rua_Doutor_Carlos_Augusto_de_Campos', 'address_Rua_Doutor_Carlos_Guimarães', 'address_Rua_Doutor_Celso_Dario_Guimarães', 'address_Rua_Doutor_Cesário_Mota_Júnior', 'address_Rua_Doutor_Chibata_Miyakoshi', 'address_Rua_Doutor_Clemente_Jobim', 'address_Rua_Doutor_Clementino', 'address_Rua_Doutor_Clóvis_de_Oliveira', 'address_Rua_Doutor_Constâncio_Teani', 'address_Rua_Doutor_Cristiano_Altenfelder_Silva', 'address_Rua_Doutor_Cristiano_de_Sousa', 'address_Rua_Doutor_Cândido_Espinheira', 'address_Rua_Doutor_César', 'address_Rua_Doutor_César_Castiglioni_Júnior', 'address_Rua_Doutor_César_Salgado', 'address_Rua_Doutor_Diogo_de_Faria', 'address_Rua_Doutor_Djalma_Pinheiro_Franco', 'address_Rua_Doutor_Domingos_de_Sylos', 'address_Rua_Doutor_Edmur_de_Castro_Cotti', 'address_Rua_Doutor_Edson_de_Melo', 'address_Rua_Doutor_Eduardo_Lobo', 'address_Rua_Doutor_Eduardo_Monteiro', 'address_Rua_Doutor_Eduardo_de_Magalhães_Gouveia', 'address_Rua_Doutor_Eduardo_de_Souza_Aranha', 'address_Rua_Doutor_Elias_Chaves', 'address_Rua_Doutor_Emanuel_Dias', 'address_Rua_Doutor_Erasmo_Teixeira_de_Assunção', 'address_Rua_Doutor_Ernesto_Moreira', 'address_Rua_Doutor_Eugênio_Casillo', 'address_Rua_Doutor_Fadlo_Haidar', 'address_Rua_Doutor_Falcão_Filho', 'address_Rua_Doutor_Fausto_Ferraz', 'address_Rua_Doutor_Fausto_Ribeiro_de_Carvalho', 'address_Rua_Doutor_Ferreira_Lopes', 'address_Rua_Doutor_Fleury_Silveira', 'address_Rua_Doutor_Fontes_de_Resende', 'address_Rua_Doutor_Francisco_Figueiredo_Barreto', 'address_Rua_Doutor_Francisco_José_Longo', 'address_Rua_Doutor_Francisco_Malta_Cardoso', 'address_Rua_Doutor_Franco_da_Rocha', 'address_Rua_Doutor_Franscisco_Mesquita', 'address_Rua_Doutor_Fábio_Montenegro', 'address_Rua_Doutor_Gabriel_Covelli', 'address_Rua_Doutor_Gabriel_Piza', 'address_Rua_Doutor_Gabriel_da_Veiga', 'address_Rua_Doutor_Gabriel_de_Resende_Filho', 'address_Rua_Doutor_Gabriel_dos_Santos', 'address_Rua_Doutor_Gentil_Leite_Martins', 'address_Rua_Doutor_Georgino_Paulino_dos_Santos', 'address_Rua_Doutor_Getúlio_Vargas_Barbosa', 'address_Rua_Doutor_Gomes_Ferraz', 'address_Rua_Doutor_Goulart_Penteado', 'address_Rua_Doutor_Guilherme_Bannitz', 'address_Rua_Doutor_Guilherme_Cristofel', 'address_Rua_Doutor_Guilherme_Cristoffel', 'address_Rua_Doutor_Heitor_Nascimento', 'address_Rua_Doutor_Heitor_Pereira_Carrilho', 'address_Rua_Doutor_Homem_de_Melo', 'address_Rua_Doutor_Hélio_Fidélis', 'address_Rua_Doutor_Ivo_Define_Frasca', 'address_Rua_Doutor_James_Ferraz_Alvim', 'address_Rua_Doutor_Jesuíno_Maciel', \"address_Rua_Doutor_Joaquim_D'aquino_Fonseca\", 'address_Rua_Doutor_Joaquim_D’aquino_Fonseca', 'address_Rua_Doutor_Joaquim_Gomes_de_Souza', 'address_Rua_Doutor_Jose_Aires_Neto', 'address_Rua_Doutor_José_Carlos_de_Toledo_Piza', 'address_Rua_Doutor_José_Cássio_Soares', 'address_Rua_Doutor_José_Elias', 'address_Rua_Doutor_José_Gustavo_Busch', 'address_Rua_Doutor_José_Gustavo_Nunes', 'address_Rua_Doutor_José_Higino', 'address_Rua_Doutor_José_Maria_Whitaker', 'address_Rua_Doutor_José_Maurício_de_Oliveira', 'address_Rua_Doutor_José_Pedro_de_Carvalho_Lima', 'address_Rua_Doutor_José_de_Andrade_Figueira', 'address_Rua_Doutor_José_de_Queirós_Aranha', 'address_Rua_Doutor_José_de_Sá', 'address_Rua_Doutor_José_Áureo_Bustamante', 'address_Rua_Doutor_João_Batista_Bernardes_de_Lima', 'address_Rua_Doutor_João_Batista_de_Lacerda', 'address_Rua_Doutor_João_Clímaco_Pereira', 'address_Rua_Doutor_João_Vieira_Neves', 'address_Rua_Doutor_Laerte_Setúbal', 'address_Rua_Doutor_Laérte_Setúbal', 'address_Rua_Doutor_Leite_Pereira', 'address_Rua_Doutor_Luiz_Migliano', 'address_Rua_Doutor_Luís_Barreto', 'address_Rua_Doutor_Luís_Carlos', 'address_Rua_Doutor_Luís_Tavares_da_Cunha', 'address_Rua_Doutor_Manuel_Bonilha', 'address_Rua_Doutor_Manuel_Carlos_de_Figueiredo_Ferraz', 'address_Rua_Doutor_Mario_Ferraz', 'address_Rua_Doutor_Mario_Rodrigues_Louzã', 'address_Rua_Doutor_Mario_Vicente', 'address_Rua_Doutor_Martins_de_Oliveira', 'address_Rua_Doutor_Maurício_de_Lacerda', 'address_Rua_Doutor_Maurílio_Vergueiro_Pôrto', 'address_Rua_Doutor_Mello_Nogueira', 'address_Rua_Doutor_Melo_Alves', 'address_Rua_Doutor_Miguel_Vieira_Ferreira', 'address_Rua_Doutor_Milton_Cotrim_Sonzzini', 'address_Rua_Doutor_Miranda_de_Azevedo', 'address_Rua_Doutor_Morais_Dantas', 'address_Rua_Doutor_Mário_Ferraz', 'address_Rua_Doutor_Mário_Ottobrini_Costa', 'address_Rua_Doutor_Mário_Tavares', 'address_Rua_Doutor_Mário_Vicente', 'address_Rua_Doutor_Mário_de_Campos', 'address_Rua_Doutor_Mário_de_Moura_E_Albuquerque', 'address_Rua_Doutor_Nelson_da_Veiga', 'address_Rua_Doutor_Neto_de_Araújo', 'address_Rua_Doutor_Nicolau_Alberto_Defina', 'address_Rua_Doutor_Nicolau_de_Sousa_Queirós', 'address_Rua_Doutor_Nicolino_Morena', 'address_Rua_Doutor_Nogueira_Martins', 'address_Rua_Doutor_Nogueira_de_Noronha', 'address_Rua_Doutor_Odilon_Ribeiro', 'address_Rua_Doutor_Olavo_Egídio', 'address_Rua_Doutor_Orlando_Zamitti_Mammana', 'address_Rua_Doutor_Oscar_Monteiro_de_Barros', 'address_Rua_Doutor_Oscár_Bernardes', 'address_Rua_Doutor_Paschoal_Imperatriz', 'address_Rua_Doutor_Paulo_Nogueira_Filho', 'address_Rua_Doutor_Paulo_Ribeiro_Coelho', 'address_Rua_Doutor_Paulo_Vieira', 'address_Rua_Doutor_Penaforte_Mendes', 'address_Rua_Doutor_Piragibe', 'address_Rua_Doutor_Plínio_Barreto', 'address_Rua_Doutor_Raphael_de_Oliveira_Pirajá', 'address_Rua_Doutor_Raul_da_Rocha_Medeiros', 'address_Rua_Doutor_Renan_Basto', 'address_Rua_Doutor_Roberto_Feijó', 'address_Rua_Doutor_Roberto_Mercatelli', 'address_Rua_Doutor_Rubens_Meireles', 'address_Rua_Doutor_Rubens_de_Azevedo_Marques', 'address_Rua_Doutor_Samuel_Porto', 'address_Rua_Doutor_Sanareli', 'address_Rua_Doutor_Saulo_de_Castro_Bicudo', 'address_Rua_Doutor_Sebastião_de_Lima', 'address_Rua_Doutor_Seng', 'address_Rua_Doutor_Silvino_Canuto_Abreu', 'address_Rua_Doutor_Sodré', 'address_Rua_Doutor_Solon_Fernandes', 'address_Rua_Doutor_Sérgio_Meira', 'address_Rua_Doutor_Sílvio_Dante_Bertacchi', 'address_Rua_Doutor_Sílvio_Noronha', 'address_Rua_Doutor_Teodoro_Baima', 'address_Rua_Doutor_Teodoro_Quartim_Barbosa', 'address_Rua_Doutor_Thirso_Martins', 'address_Rua_Doutor_Tomas_de_Lima', 'address_Rua_Doutor_Tomaz_de_Lima', 'address_Rua_Doutor_Tomás_Alves', 'address_Rua_Doutor_Tomás_Carvalhal', 'address_Rua_Doutor_Ubaldino_do_Amaral', 'address_Rua_Doutor_Ubaldo_Franco_Caiubi', 'address_Rua_Doutor_Valentim_Bouças', 'address_Rua_Doutor_Veiga_Filho', 'address_Rua_Doutor_Vicente_Giacaglini', 'address_Rua_Doutor_Vila_Nova', 'address_Rua_Doutor_Virgílio_de_Carvalho_Pinto', 'address_Rua_Doutor_Vital_Brasil', 'address_Rua_Doutor_Washington_Pedro_Lanzzelotti', 'address_Rua_Doutor_Wladimir_do_Amaral', 'address_Rua_Doutor_Wladimir_dos_Santos_Mello', 'address_Rua_Doutor_Zeferino_do_Amaral', 'address_Rua_Doutor_Zuquim', 'address_Rua_Doutor_Álvares_Teixeira', 'address_Rua_Doutor_Ângelo_Vita', 'address_Rua_Doutor_Ênio_Monte_Alegre', 'address_Rua_Doutora_Neyde_Apparecida_Sollitto', 'address_Rua_Dr._Antônio_Bento', 'address_Rua_Dr._Fomm', 'address_Rua_Dr._Laerte_Sertuba', 'address_Rua_Dr._Luiz_Migliano', 'address_Rua_Dr._Rubens_Meireles', 'address_Rua_Dr.guilherme_Bannitz', 'address_Rua_Dr_Moraes_Dantas', 'address_Rua_Dragões_da_Independência', 'address_Rua_Drava', 'address_Rua_Dronsfield', 'address_Rua_Dráusio', 'address_Rua_Duarte_Moreira', 'address_Rua_Duarte_de_Azevedo', 'address_Rua_Duarte_de_Carvalho', 'address_Rua_Dulce', 'address_Rua_Dulce_Sena_Guimaraes_da_Silva', 'address_Rua_Duque_Costa', 'address_Rua_Duque_de_Caxias', 'address_Rua_Durval_Clemente', 'address_Rua_Durval_Fontoura_Castro', 'address_Rua_Durval_Silva', 'address_Rua_Durvalino_Blanco', 'address_Rua_Durvalino_Trevisan', 'address_Rua_Dutra_Rodrigues', 'address_Rua_Duílio', 'address_Rua_Dª._Elias_Chaves', 'address_Rua_Dália', 'address_Rua_Dário_da_Silva', 'address_Rua_Décio_Reis', 'address_Rua_Dúlce_Sena_Guimarães_da_Silva', 'address_Rua_Edgar_de_Sousa', 'address_Rua_Edmundo_Amaral_Valente', 'address_Rua_Edmundo_Carvalho', 'address_Rua_Edmundo_Juventino_Fuentes', 'address_Rua_Edmundo_Kirmayr', 'address_Rua_Edmundo_Luís_de_Nóbrega_Teixeira', 'address_Rua_Edmundo_Xavier', 'address_Rua_Edson', 'address_Rua_Edson_Regis', 'address_Rua_Eduardo_Ferreira_Franca', 'address_Rua_Eduardo_Luiz_de_Carvalho', 'address_Rua_Eduardo_Pereira', 'address_Rua_Eduardo_Pinheiro', 'address_Rua_Edvard_Carmilo', 'address_Rua_Edward_Joseph', 'address_Rua_Egeu', 'address_Rua_Elba', 'address_Rua_Eleutério', 'address_Rua_Elias_Acras', 'address_Rua_Elias_Antonio_Zogbi', 'address_Rua_Elias_Antônio_Zogbi', 'address_Rua_Elias_Casseb', 'address_Rua_Elias_da_Costa', 'address_Rua_Elias_de_Sousa_Pinto', 'address_Rua_Elisa_Silveira', 'address_Rua_Eliza_Teixeira_de_Barros', 'address_Rua_Elizabeth_Barbegian_Baldinato', 'address_Rua_Elvira_Ferraz', 'address_Rua_Elza_Delphino_Ribeiro', 'address_Rua_Elza_Guimarães', 'address_Rua_Elías_Mussa_Fajuri', 'address_Rua_Embaixador_Coelho_de_Almeida', 'address_Rua_Embaú', 'address_Rua_Embaúba', 'address_Rua_Embiruçú', 'address_Rua_Emboaçava', 'address_Rua_Embuaçu', 'address_Rua_Emiliano_Di_Cavalcanti', 'address_Rua_Emília_Bandeira_de_Melo', 'address_Rua_Emília_Marengo', 'address_Rua_Emílio_Baumgart', 'address_Rua_Emílio_Lessore', 'address_Rua_Emílio_Mallet', 'address_Rua_Emílio_Pestana', 'address_Rua_Emílio_Ribas', 'address_Rua_Emílio_do_Lago', 'address_Rua_Engenheiro_Agenor_Machado', 'address_Rua_Engenheiro_Américo_da_Graça_Martins', 'address_Rua_Engenheiro_André_Paulo', 'address_Rua_Engenheiro_Antônio_Faggion', 'address_Rua_Engenheiro_Antônio_Jovino', 'address_Rua_Engenheiro_Aubertin', 'address_Rua_Engenheiro_Bianor', 'address_Rua_Engenheiro_Botelho_Egas', 'address_Rua_Engenheiro_Cestari', 'address_Rua_Engenheiro_Dario_Machado_de_Campos', 'address_Rua_Engenheiro_Dolabela', 'address_Rua_Engenheiro_Domício_de_L._Pacheco_E_Silva', 'address_Rua_Engenheiro_Edgar_Autran', 'address_Rua_Engenheiro_Ferreira', 'address_Rua_Engenheiro_Francisco_de_Godói', 'address_Rua_Engenheiro_Gutierrez', 'address_Rua_Engenheiro_Isaac_Garcêz', 'address_Rua_Engenheiro_Jean_Buff', 'address_Rua_Engenheiro_Jorge_Oliva', 'address_Rua_Engenheiro_José_Amadei', 'address_Rua_Engenheiro_José_Bueno_Bicalho', 'address_Rua_Engenheiro_Luís_Antônio_Rantin_Moutinho', 'address_Rua_Engenheiro_Pedro_Garcin', 'address_Rua_Engenheiro_Pegado', 'address_Rua_Engenheiro_Prudente', 'address_Rua_Engenheiro_Roberto_Mange', 'address_Rua_Engenheiro_Silva_Braga', 'address_Rua_Engenheiro_Sá_Freire', 'address_Rua_Enta', 'address_Rua_Enéas_de_Barros', 'address_Rua_Enótria', 'address_Rua_Epaminondas_Melo_do_Amaral', 'address_Rua_Epicuro', 'address_Rua_Epiro', 'address_Rua_Epitácio_Pessoa', 'address_Rua_Equici', 'address_Rua_Ermelinda_Meletti_Teldeschi', 'address_Rua_Ernani_Pinto', 'address_Rua_Ernest_Friedrich_Jost', 'address_Rua_Ernest_Renan', 'address_Rua_Ernesto_Biester', 'address_Rua_Ernesto_Capelari', 'address_Rua_Ernesto_Eugênio_Piedade', 'address_Rua_Ernesto_de_Castro', 'address_Rua_Ernesto_de_Oliveira', 'address_Rua_Erva_Imperial', 'address_Rua_Esmeralda_Monteiro', 'address_Rua_Esmeraldino_Cavalcanti_Torres', 'address_Rua_Espártaco', 'address_Rua_Estado_de_Israel', 'address_Rua_Estefânia_Louro', 'address_Rua_Estela', 'address_Rua_Estero_Belaco', 'address_Rua_Estevão_Baião', 'address_Rua_Estilo_Barroco', 'address_Rua_Estuário', 'address_Rua_Estônia', 'address_Rua_Etiópia', 'address_Rua_Etrusca', 'address_Rua_Euclides_Pacheco', 'address_Rua_Euclides_da_Silveira', 'address_Rua_Euclides_de_Andrade', 'address_Rua_Eudora', 'address_Rua_Eugene_Carriere', 'address_Rua_Eugène_Carrière', 'address_Rua_Eugênia_S_Vitale', 'address_Rua_Eugênia_Sá_Vitale', 'address_Rua_Eugênia_de_Carvalho', 'address_Rua_Eugênio_Falk', 'address_Rua_Eugênio_Gaudêncio_Costa', 'address_Rua_Eugênio_Lorenzetti', 'address_Rua_Eugênio_Pradez', 'address_Rua_Eugênio_de_Freitas', 'address_Rua_Eugênio_de_Medeiros', 'address_Rua_Eulo_Maroni', 'address_Rua_Eunice', 'address_Rua_Eunice_Weaver', 'address_Rua_Eurico_Sodré', 'address_Rua_Eusébio_da_Silva', 'address_Rua_Eusébio_de_Paula_Marcondes', 'address_Rua_Evaldo_Calabrez', 'address_Rua_Evans', 'address_Rua_Evolução', 'address_Rua_Ezequiel_Freire', 'address_Rua_Eça_de_Queiroz', 'address_Rua_Eça_de_Queiróz', 'address_Rua_Fagundes_Varela', 'address_Rua_Falchi_Gianini', 'address_Rua_Fani_Lerner', 'address_Rua_Farid_Miguel_Haddad', 'address_Rua_Farjalla_Koraicho', 'address_Rua_Farsália', 'address_Rua_Faustino_Augusto_César', 'address_Rua_Faustino_Siqueira_Franco', 'address_Rua_Felice_Tosi', 'address_Rua_Feliciano_Bicudo', 'address_Rua_Felipe_Mosca', 'address_Rua_Felisbina_Ferreira', 'address_Rua_Felício_Pereira', 'address_Rua_Felício_Tarabai', 'address_Rua_Fernandes_Moreira', 'address_Rua_Fernandes_Silva', 'address_Rua_Fernando_Dondon', 'address_Rua_Fernando_Torquato', 'address_Rua_Fernando_de_Albuquerque', 'address_Rua_Fernando_de_Noronha', 'address_Rua_Fernão_Albernaz', 'address_Rua_Fernão_Dias', 'address_Rua_Fernão_Marques', 'address_Rua_Fernão_do_Porto', 'address_Rua_Ferreira_de_Araújo', 'address_Rua_Ferrúcio_Dupré', 'address_Rua_Fiandeiras', 'address_Rua_Fiação_da_Saúde', 'address_Rua_Fidalga', 'address_Rua_Fidélis_Papini', 'address_Rua_Filipe_Camarão', 'address_Rua_Filipe_Cardoso', 'address_Rua_Filipe_Galvão', 'address_Rua_Filipe_de_Alcaçova', 'address_Rua_Firmiano_Cardoso', 'address_Rua_Firmino_Morgado', 'address_Rua_Firmino_de_Barros', 'address_Rua_Flamengo', 'address_Rua_Flora', 'address_Rua_Florentino_Capelozza', 'address_Rua_Florentino_Rodrigues', 'address_Rua_Floresto_Bandecchi', 'address_Rua_Florianópolis', 'address_Rua_Florinda_Barbosa', 'address_Rua_Florindo_Braglia', 'address_Rua_Floro_de_Oliveira', 'address_Rua_Florânia', 'address_Rua_Florêncio_de_Abreu', 'address_Rua_Flávio_Iazzetti', 'address_Rua_Flávio_de_Melo', 'address_Rua_Flórida', 'address_Rua_Folha_de_Hera', 'address_Rua_Fonseca_da_Costa', 'address_Rua_Fontana', 'address_Rua_Formosa', 'address_Rua_Forte_William', 'address_Rua_Forte_da_Barra', 'address_Rua_Forte_da_Lagoa', 'address_Rua_Fortuna_de_Minas', 'address_Rua_Fortunato', 'address_Rua_Fortunato_Ferraz', 'address_Rua_Fortunato_Ferraz,_320_-_Vila_Anastácio,_São_Paulo_-_Sp,_05093-000,_Brasil', 'address_Rua_Fortunato_Pulherini', 'address_Rua_Fosca', 'address_Rua_Foz_do_Jutaí', 'address_Rua_Fradique_Coutinho', 'address_Rua_Fragária_Rósea', 'address_Rua_Fraiburgo', 'address_Rua_Francesco_Granacci', 'address_Rua_Francisca_Augusta_da_Rocha', 'address_Rua_Francisca_Emilia', 'address_Rua_Francisca_Emília', 'address_Rua_Francisca_Júlia', 'address_Rua_Francisca_Maria_de_Souza', 'address_Rua_Francisca_Miquelina', 'address_Rua_Francisco_Alves', 'address_Rua_Francisco_Alves_Bezerra', 'address_Rua_Francisco_Antunes', 'address_Rua_Francisco_Artassio', 'address_Rua_Francisco_Aíres', 'address_Rua_Francisco_Barbosa_Lima', 'address_Rua_Francisco_Bayardo', 'address_Rua_Francisco_Bernardino', 'address_Rua_Francisco_Borges', 'address_Rua_Francisco_Carlos_de_Souza', 'address_Rua_Francisco_Cioffi', 'address_Rua_Francisco_Coelho_dos_Santos_Filho', 'address_Rua_Francisco_Coimbra', 'address_Rua_Francisco_Correa_Dutra', 'address_Rua_Francisco_Credentino', 'address_Rua_Francisco_Dias_Velho', 'address_Rua_Francisco_Diogo', 'address_Rua_Francisco_Estácio_Fortes', 'address_Rua_Francisco_Felippe_Agosti', 'address_Rua_Francisco_Fett', 'address_Rua_Francisco_Foot', 'address_Rua_Francisco_Giuliani', 'address_Rua_Francisco_Jose_Linhares', 'address_Rua_Francisco_José_da_Cruz', 'address_Rua_Francisco_José_da_Silva', 'address_Rua_Francisco_Justino_de_Azevedo', 'address_Rua_Francisco_Leitão', 'address_Rua_Francisco_Loschiavo', 'address_Rua_Francisco_Luiz_da_Silva', 'address_Rua_Francisco_Luiz_de_Souza_Júnior', 'address_Rua_Francisco_Luís_de_Souza_Júnior', 'address_Rua_Francisco_Marcondes_Vieira', 'address_Rua_Francisco_Marengo', 'address_Rua_Francisco_Otaviano', 'address_Rua_Francisco_Pais', 'address_Rua_Francisco_Pedro_do_Amaral', 'address_Rua_Francisco_Pereira', 'address_Rua_Francisco_Pessoa', 'address_Rua_Francisco_Polito', 'address_Rua_Francisco_Preto', 'address_Rua_Francisco_Retti', 'address_Rua_Francisco_Rodrigues_Alves', 'address_Rua_Francisco_Rossano', 'address_Rua_Francisco_Shigueki_Nomura', 'address_Rua_Francisco_Siracusa', 'address_Rua_Francisco_Soledade', 'address_Rua_Francisco_Tapajós', 'address_Rua_Francisco_Teles_Dourado', 'address_Rua_Francisco_Valente', 'address_Rua_Francisco_Viana', 'address_Rua_Francisco_Vieira_Bueno', 'address_Rua_Francisco_da_Lira', 'address_Rua_Francisco_de_Carvalho_Melo', 'address_Rua_Francisco_de_Oliveira_Braga', 'address_Rua_Francisco_de_Paula_Pereira_Pachêco', 'address_Rua_Francisco_de_Vitória', 'address_Rua_Franco_Alfano', 'address_Rua_Franco_Paulista', 'address_Rua_Franklin_Magalhães', 'address_Rua_Franklin_do_Amaral', 'address_Rua_França', 'address_Rua_França_Carvalho', 'address_Rua_França_Pinto', 'address_Rua_França_Pinto,_1255_-_Vila_Mariana,_São_Paulo_-_Sp,_Brasil', 'address_Rua_François_Carlier', 'address_Rua_François_Coty', 'address_Rua_Frauenfeld', 'address_Rua_Frederico_Abranches', 'address_Rua_Frederico_Von_Martius', 'address_Rua_Frei_Bonifácio_Dux', 'address_Rua_Frei_Caneca', 'address_Rua_Frei_Duarte_Jorge_de_Mendonça', 'address_Rua_Frei_Fidélis_Mota', 'address_Rua_Frei_Francisco', 'address_Rua_Frei_Gaspar', 'address_Rua_Frei_Inácio_da_Conceição', 'address_Rua_Frei_Manuel_Calado', \"address_Rua_Frei_Mont'alverne_Csa_2\", 'address_Rua_Frei_Mont’alverne', 'address_Rua_Frei_Orlando', 'address_Rua_Frei_Vicente_do_Salvador', 'address_Rua_Frei_Walter_Kempt', 'address_Rua_Freire_Farto', 'address_Rua_Freire_de_Andrade', 'address_Rua_Friburgo', 'address_Rua_Friedrich_Von_Voith', 'address_Rua_Frutal', 'address_Rua_Fábia', 'address_Rua_Fábio', 'address_Rua_Fábio_Ferreira_Veloso', 'address_Rua_Fábio_Lopes_dos_Santos_Luz', 'address_Rua_Félix_Guilhem', 'address_Rua_Félix_Pacheco', 'address_Rua_Félix_de_Sousa', 'address_Rua_Félix_della_Rosa', 'address_Rua_Fúlvio_Morganti', 'address_Rua_Gabriel_Quadros', 'address_Rua_Gabriel_de_Lara', 'address_Rua_Gabriel_dos_Santos', \"address_Rua_Gabriele_D'annunzio\", 'address_Rua_Gabriele_D’annunzio', 'address_Rua_Gabus_Mendes', 'address_Rua_Gaivota', 'address_Rua_Galeno_de_Almeida', 'address_Rua_Galeno_de_Castro', 'address_Rua_Galeão_Coutinho', 'address_Rua_Galileu', 'address_Rua_Galiléia', 'address_Rua_Galvão_Bueno', 'address_Rua_Gama_Lobo', 'address_Rua_Gameleira', 'address_Rua_Gandavo', 'address_Rua_Gararu', 'address_Rua_Gargaú', 'address_Rua_Garção_Tinoco', 'address_Rua_Gaspar_Lourenço', 'address_Rua_Gaspar_Ricardo_Júnior', 'address_Rua_Gastão_Madeira', 'address_Rua_Gastão_da_Cunha', 'address_Rua_Gastão_do_Rego_Monteiro', 'address_Rua_Gazeta', 'address_Rua_Geishofer', 'address_Rua_Gema', 'address_Rua_Gen._Severiano', 'address_Rua_Genebra', 'address_Rua_General_Alencastro_Guimarães', 'address_Rua_General_Argolo', 'address_Rua_General_Bagueira', 'address_Rua_General_Calado', 'address_Rua_General_Canavarro', 'address_Rua_General_Chagas_Santos', 'address_Rua_General_Dias', 'address_Rua_General_Elder_de_Souza_Guedes', 'address_Rua_General_Eldes_de_Sousa_Guedes', 'address_Rua_General_Eloy_Alfaro', 'address_Rua_General_Euclídes_Figueiredo', 'address_Rua_General_Feliciano_Falcão', 'address_Rua_General_Flores', 'address_Rua_General_Florêncio', 'address_Rua_General_Gastão_Goularte', 'address_Rua_General_Glicério', 'address_Rua_General_Isidoro_Dias_Lopes', 'address_Rua_General_Izidoro_Dias_Lopes', 'address_Rua_General_Jardim', 'address_Rua_General_Júlio_Marcondes_Salgado', 'address_Rua_General_Miranda_da_Silva_Reis', 'address_Rua_General_Nestor_Passos', 'address_Rua_General_Newton_Estilac_Leal', 'address_Rua_General_Osório', 'address_Rua_General_Porfírio_da_Paz', 'address_Rua_General_Sosa_Trigo', 'address_Rua_General_Syzeno_Sarmento', 'address_Rua_General_Vitorino_Monteiro', 'address_Rua_Geneve', 'address_Rua_Geni_Clara_Baroni_Palma', 'address_Rua_Gentil_Braga', 'address_Rua_Genésio_Arruda', 'address_Rua_George_Chahestian', 'address_Rua_George_Oetterer', 'address_Rua_George_Ohm', 'address_Rua_George_Smith', 'address_Rua_Georgina_de_Albuquerque', 'address_Rua_Geraldo_de_Mendonça_Mello', 'address_Rua_Geremia_Lunardelli', 'address_Rua_Gerivatiba', 'address_Rua_German_Burmeinster', 'address_Rua_Gertrúdes_de_Lima', 'address_Rua_Gervásio_Pires_Ferreira', 'address_Rua_Getúlio_Soares_da_Rocha', 'address_Rua_Getúlio_Vargas_Filho', 'address_Rua_Geórgia', 'address_Rua_Giacomo_Cozarelli', 'address_Rua_Giacomo_Cozzarelli', 'address_Rua_Gil_Vicente', 'address_Rua_Gil_de_Oliveira', 'address_Rua_Gilberto_José_Domingues', 'address_Rua_Gilberto_Sabino', 'address_Rua_Gilberto_Sampaio', 'address_Rua_Gilka', 'address_Rua_Giovani_Recordati', 'address_Rua_Giovanni_Boltraffio', 'address_Rua_Girassol', 'address_Rua_Giusepe_Ferrari', 'address_Rua_Giuseppe_Moscatti', 'address_Rua_Giácomo_Cozzarelli', 'address_Rua_Glauber_Rocha', 'address_Rua_Glicerio', 'address_Rua_Glicério', 'address_Rua_Gláuber_Rocha', 'address_Rua_Glória', 'address_Rua_Glória_do_Goitá', 'address_Rua_Glória_do_Goitá_335_Apt_112', 'address_Rua_Gomes_Leal', 'address_Rua_Gomes_Nogueira', 'address_Rua_Gomes_de_Carvalho', 'address_Rua_Gonzaga_Franco', 'address_Rua_Gonçalo_Coelho', 'address_Rua_Gonçalo_Pires', 'address_Rua_Gopouva', 'address_Rua_Gradaú', 'address_Rua_Grapecica', 'address_Rua_Gravataí', 'address_Rua_Gravi', 'address_Rua_Graúna', 'address_Rua_Gregório_Ferreira', 'address_Rua_Gregório_Ferro', 'address_Rua_Gregório_Lopes', 'address_Rua_Gregório_Souza', 'address_Rua_Gregório_Zucchini', 'address_Rua_Gregório_de_Matos', 'address_Rua_Gregório_de_Morais_Rego', 'address_Rua_Grécia', 'address_Rua_Guadalupe', 'address_Rua_Guaianases', 'address_Rua_Guaianaz_da_Fonseca', 'address_Rua_Guaianazes', 'address_Rua_Guaicurus', 'address_Rua_Guaimbé', 'address_Rua_Guaipu', 'address_Rua_Guaipá', 'address_Rua_Guaiúba', 'address_Rua_Guanabara', 'address_Rua_Guaniqué', 'address_Rua_Guanás', 'address_Rua_Guaperuvu', 'address_Rua_Guapiaçu', 'address_Rua_Guaraipó', 'address_Rua_Guaraiuva', 'address_Rua_Guaraiúva', 'address_Rua_Guaraja', 'address_Rua_Guaranésia', 'address_Rua_Guarapuava', 'address_Rua_Guarapuã', 'address_Rua_Guararapes', 'address_Rua_Guarará', 'address_Rua_Guaratuba', 'address_Rua_Guarau', 'address_Rua_Guaravera', 'address_Rua_Guareí', 'address_Rua_Guaricanga', 'address_Rua_Guatambus', 'address_Rua_Guatapara', 'address_Rua_Guatemala', 'address_Rua_Guaviruva', 'address_Rua_Guaçui', 'address_Rua_Guaíra', 'address_Rua_Guian', 'address_Rua_Guido_Bonici', 'address_Rua_Guilherme_Asbahr_Neto', 'address_Rua_Guilherme_Bebiano_Martins', 'address_Rua_Guilherme_Rehder', 'address_Rua_Guilherme_Rudge', 'address_Rua_Guiratinga', 'address_Rua_Guirá-acangatara', 'address_Rua_Gurupi', 'address_Rua_Gustavo_Teixeira', 'address_Rua_Gustavo_da_Silveira', 'address_Rua_Gustavo_de_Godoi', 'address_Rua_Gê_Alves_de_Medeiros', 'address_Rua_Haddock_Lobo', 'address_Rua_Haddock_Lobo,_804', 'address_Rua_Hafiz', 'address_Rua_Halionore', 'address_Rua_Hanna_Abduch', 'address_Rua_Hannemann', 'address_Rua_Harmonia', 'address_Rua_Haroldo_Pacheco_E_Silva', 'address_Rua_Haroldo_Paranhos', 'address_Rua_Harry_Símonsen', 'address_Rua_Hassib_Mofarrej', 'address_Rua_Havana', 'address_Rua_Havaí', 'address_Rua_Hayden', 'address_Rua_Hebe', 'address_Rua_Heinrich_Biber', 'address_Rua_Heinrich_Hertz', 'address_Rua_Heitor_Ariente', 'address_Rua_Heitor_Peixoto', 'address_Rua_Heitor_Penteado', 'address_Rua_Heitor_de_Souza_Pinheiro', 'address_Rua_Helena', 'address_Rua_Helena_Maria_Vita_Roso', 'address_Rua_Helena_Zerrener', 'address_Rua_Helena_do_Sacramento', 'address_Rua_Helene_Londahl', 'address_Rua_Heliodora', 'address_Rua_Heloísa_Camargo', 'address_Rua_Helvétia', 'address_Rua_Hemisfério', 'address_Rua_Henning_Boilesen', 'address_Rua_Henri_Dunant', 'address_Rua_Henrique_Bernardelli', 'address_Rua_Henrique_Braglia', 'address_Rua_Henrique_Casela', 'address_Rua_Henrique_Chaves', 'address_Rua_Henrique_Fausto_Lancellotti', 'address_Rua_Henrique_Fausto_Lancelotti', 'address_Rua_Henrique_Mazzei', 'address_Rua_Henrique_Neri_Ramos', 'address_Rua_Henrique_Peres', 'address_Rua_Henrique_Rodrigues_Peres', 'address_Rua_Henrique_Schaumann', 'address_Rua_Henrique_Sertório', 'address_Rua_Henrique_Sousa_Queirós', 'address_Rua_Henrique_Xavier', 'address_Rua_Herbert_Frazer', 'address_Rua_Herculano_de_Freitas', 'address_Rua_Herculânia', 'address_Rua_Hercília', 'address_Rua_Herison', 'address_Rua_Hermann_Teles_Ribeiro', 'address_Rua_Hermes_de_Moura_Borges', 'address_Rua_Hermeto_Lima', 'address_Rua_Hermínio_Rosa', 'address_Rua_Hermógenes_da_Silva', 'address_Rua_Herval', 'address_Rua_Hideo_Suguiyama', 'address_Rua_Hilário_Capote_Valente', 'address_Rua_Hipódromo', 'address_Rua_Honoré_Daumier', 'address_Rua_Honório_Pena', 'address_Rua_Hortênsia', 'address_Rua_Horácio_Alves_da_Costa', 'address_Rua_Hugo_Bertazzon', \"address_Rua_Hugo_D'antola\", 'address_Rua_Hugo_Walter_Puschnick', 'address_Rua_Humaitá', 'address_Rua_Humberto_I', 'address_Rua_Humberto_de_Campos', 'address_Rua_Hungara', 'address_Rua_Hungria', 'address_Rua_Hyde_Park', 'address_Rua_Hélvio_de_Oliveira_Albuquerque_-_Vila_Sao_Francisco,_São_Paulo_-_Sp,_Brasil', 'address_Rua_Hércules_Florence', 'address_Rua_Iapó', 'address_Rua_Ibaial', 'address_Rua_Ibaiti', 'address_Rua_Ibatiba', 'address_Rua_Iberê_da_Costa_Franco', 'address_Rua_Ibiapaba', 'address_Rua_Ibiaporã', 'address_Rua_Ibimirim', 'address_Rua_Ibiporã', 'address_Rua_Ibirajá', 'address_Rua_Ibiraporã', 'address_Rua_Ibitinga', 'address_Rua_Ibitirama', 'address_Rua_Ibituruna', 'address_Rua_Ibiá', 'address_Rua_Ibéria', 'address_Rua_Ibó', 'address_Rua_Icarai', 'address_Rua_Icaraí', 'address_Rua_Ida_Boschetti', 'address_Rua_Ida_Maia_de_Carvalho', 'address_Rua_Igapira', 'address_Rua_Igaratinga', 'address_Rua_Igarité', 'address_Rua_Igati', 'address_Rua_Iguara', 'address_Rua_Iguará', 'address_Rua_Iguaré', 'address_Rua_Iguatemi', 'address_Rua_Il_Sogno_Di_Anarello', 'address_Rua_Ilansa', 'address_Rua_Ilíria', 'address_Rua_Imbituba', 'address_Rua_Imonclar_E_Lazari', 'address_Rua_Imperial', 'address_Rua_Inconfidência_Baiana', 'address_Rua_Indaiá', 'address_Rua_Indiana', 'address_Rua_Indiapora', 'address_Rua_Ingaíbos', 'address_Rua_Inglaterra', 'address_Rua_Ingleses', 'address_Rua_Ingu', 'address_Rua_Ingá', 'address_Rua_Inhambu', 'address_Rua_Inhambú', 'address_Rua_Inocêncio_da_Silva', 'address_Rua_Inocêncio_de_Camargo', 'address_Rua_Intendência', 'address_Rua_Inácio', 'address_Rua_Inácio_Manuel_Álvares', 'address_Rua_Inácio_Xavier_de_Carvalho', 'address_Rua_Inácio_do_Rego_Pessoa', 'address_Rua_Inês_Pereira', 'address_Rua_Ipanema', 'address_Rua_Ipaobi', 'address_Rua_Iperoig', 'address_Rua_Ipiranga', 'address_Rua_Ipojuca', 'address_Rua_Iporanga', 'address_Rua_Iquiririm', 'address_Rua_Iracema_Senna_Cerqueira_dos_Santos', 'address_Rua_Irani', 'address_Rua_Irapé', 'address_Rua_Irineu_Correia_da_Silva', 'address_Rua_Irmã_Carolina', 'address_Rua_Irmã_Emerenciana', 'address_Rua_Irmã_Filomena', 'address_Rua_Irmã_Maria_Amélia', 'address_Rua_Irmão_João_Creff', 'address_Rua_Irmãos_Pila', 'address_Rua_Isaac_Herbst', 'address_Rua_Isabel', 'address_Rua_Isabel_Dias', 'address_Rua_Isabel_Garcia', 'address_Rua_Isabel_Maria_Garcia_Parra', 'address_Rua_Isabel_de_Castela', 'address_Rua_Isabel_de_Freitas_Sassi', 'address_Rua_Isabel_de_Góis', 'address_Rua_Isabel_do_Couto', 'address_Rua_Isaura_Abad_Giacomelli', 'address_Rua_Isidoro_Favaro', 'address_Rua_Isidoro_Kauffman', 'address_Rua_Isidoro_de_Laet', 'address_Rua_Isidoro_de_Lara', 'address_Rua_Isidoro_de_Sevilha', 'address_Rua_Ismael_Neri', 'address_Rua_Israelândia', 'address_Rua_Itacema', 'address_Rua_Itaguassú', 'address_Rua_Itaici', 'address_Rua_Itaiteva', 'address_Rua_Itajara', 'address_Rua_Itajaçu', 'address_Rua_Itajaí', 'address_Rua_Italina', 'address_Rua_Itambacuri', 'address_Rua_Itamiami', 'address_Rua_Itamoji', 'address_Rua_Itamonte', 'address_Rua_Itanhaém', 'address_Rua_Itanhomi', 'address_Rua_Itaoca', 'address_Rua_Itapacuraí', 'address_Rua_Itapajé', 'address_Rua_Itapegica', 'address_Rua_Itaperima', 'address_Rua_Itapeti', 'address_Rua_Itapeva', 'address_Rua_Itapicuru', 'address_Rua_Itapimirum', 'address_Rua_Itapira', 'address_Rua_Itapiru', 'address_Rua_Itapuí', 'address_Rua_Itaqueri', 'address_Rua_Itararé', 'address_Rua_Itatinga', 'address_Rua_Itatupa', 'address_Rua_Itavuru', 'address_Rua_Itaúna', 'address_Rua_Itiúba', 'address_Rua_Ituri', 'address_Rua_Ituxi', 'address_Rua_Itza', 'address_Rua_Itá', 'address_Rua_Itápolis', 'address_Rua_Ivan_Fleuri_Meireles', 'address_Rua_Ivaí', 'address_Rua_Iwajiro_Takahashi', 'address_Rua_Izabel_Velho', 'address_Rua_Izabel_de_Oliveira', 'address_Rua_Izar', 'address_Rua_Izidro_Ortiz', 'address_Rua_Jabaeté', 'address_Rua_Jaboatão', 'address_Rua_Jaboticabal', 'address_Rua_Jacaiobi', 'address_Rua_Jacaré-copaíba', 'address_Rua_Jacaré_Copaíba', 'address_Rua_Jacatirão', 'address_Rua_Jaceguai', 'address_Rua_Jaceru', 'address_Rua_Jaci', 'address_Rua_Jacintho_Pereira', 'address_Rua_Jacinto', 'address_Rua_Jacirendi', 'address_Rua_Jacob', 'address_Rua_Jacofer', 'address_Rua_Jacques_Félix', 'address_Rua_Jacquey', 'address_Rua_Jaguarete', 'address_Rua_Jaguari', 'address_Rua_Jaguariaíva', 'address_Rua_Jaguaribe', 'address_Rua_Jaguarão', 'address_Rua_Jaguaré', 'address_Rua_Jaime_Costa', 'address_Rua_Jaime_Rodrigues', 'address_Rua_Jairo_de_Almeida_Machado', 'address_Rua_Jalisco', 'address_Rua_Jamanari', 'address_Rua_Jamblico', 'address_Rua_James_Ensor', 'address_Rua_James_Junqueira', 'address_Rua_James_Stolz', 'address_Rua_Jandaia', 'address_Rua_Jandiro_Joaquim_Pereira', 'address_Rua_Jandiroba', 'address_Rua_Janguruçu', 'address_Rua_Japuruchitá', 'address_Rua_Japurá', 'address_Rua_Jaracatia', 'address_Rua_Jaracatiá', 'address_Rua_Jaraguá', 'address_Rua_Jardim_Francisco_Marcos', 'address_Rua_Jardim_Tamoio', 'address_Rua_Jardim_das_Margaridas', 'address_Rua_Jaroslav_Hajek', 'address_Rua_Jatobá', 'address_Rua_Jatobás', 'address_Rua_Jaíba', 'address_Rua_Jaú', 'address_Rua_Jean_de_La_Huerta', 'address_Rua_Jener', 'address_Rua_Jeni_Klabin_Segall', 'address_Rua_Jequitinhonha', 'address_Rua_Jequitirana', 'address_Rua_Jeroaquara', 'address_Rua_Jesuíno_Antônio', 'address_Rua_Jesuíno_Arruda', 'address_Rua_Jesuíno_Pascoal', 'address_Rua_Jesuíno_Rabello', 'address_Rua_Joana_Avancini_Prado', \"address_Rua_Joana_D'arc\", 'address_Rua_Joana_D’arc', 'address_Rua_Joana_Pereira_Dias', 'address_Rua_Joaquim_Afonso_de_Souza', 'address_Rua_Joaquim_Antunes', 'address_Rua_Joaquim_Carlos', 'address_Rua_Joaquim_Carlos_Klein', 'address_Rua_Joaquim_Celidônio_Gomes_dos_Reis', 'address_Rua_Joaquim_Ferreira', 'address_Rua_Joaquim_Floriano', 'address_Rua_Joaquim_Galvão', 'address_Rua_Joaquim_Guarani', 'address_Rua_Joaquim_José_Esteves', 'address_Rua_Joaquim_Lapas_Veiga', 'address_Rua_Joaquim_Lopes_Figueira', 'address_Rua_Joaquim_Loyola', 'address_Rua_Joaquim_Marra', 'address_Rua_Joaquim_Morais', 'address_Rua_Joaquim_Mosqueira', 'address_Rua_Joaquim_Nabuco', 'address_Rua_Joaquim_Neves_Monteiro', 'address_Rua_Joaquim_Norberto', 'address_Rua_Joaquim_Norberto_de_Brito', 'address_Rua_Joaquim_Nunes_Teixeira', 'address_Rua_Joaquim_Oliveira_Freitas', 'address_Rua_Joaquim_Ribeiro', 'address_Rua_Joaquim_Ribeiro_da_Costa', 'address_Rua_Joaquim_Rodrigues_Costa', 'address_Rua_Joaquim_Rosa_da_Silva', 'address_Rua_Joaquim_Roseira', 'address_Rua_Joaquim_Távora', 'address_Rua_Joaquim_dos_Santos_Andrade', 'address_Rua_Jocelyn_Bennaton', 'address_Rua_Jocelyn_Bennaton_-_Vila_Nova_Caledonia', 'address_Rua_Joel_Carlos_Borges', 'address_Rua_Joel_Jorge_de_Melo', 'address_Rua_John_Speers', 'address_Rua_Joinville', 'address_Rua_Joracy_de_Camargo', 'address_Rua_Jordânia', 'address_Rua_Jordão_Ramalho', 'address_Rua_Jorge_Alves_Ferreira', 'address_Rua_Jorge_Americano', 'address_Rua_Jorge_Augusto', 'address_Rua_Jorge_Chammas', 'address_Rua_Jorge_Coelho', 'address_Rua_Jorge_Cândido_Marin', 'address_Rua_Jorge_Duprat_Figueiredo', 'address_Rua_Jorge_Fares', 'address_Rua_Jorge_Rizzo', 'address_Rua_Jorge_Tibiriçá', 'address_Rua_Jorge_Valim', 'address_Rua_Jose_Ataliba_Ortiz', 'address_Rua_Jose_Ferreira_Brandao', 'address_Rua_Jose_Maciel_Neto', 'address_Rua_Jose_Manso', 'address_Rua_Josef_Kryss', 'address_Rua_Josefina_Luíse_de_Moraes', 'address_Rua_Joseph_Nigri', 'address_Rua_Josephina_Martinelli_da_Silva', 'address_Rua_José_Abel_Galvão', 'address_Rua_José_Acioli', 'address_Rua_José_Adorno', 'address_Rua_José_Alencar_Castelo_Branco', 'address_Rua_José_Alves', 'address_Rua_José_Alves_de_Oliveira', 'address_Rua_José_Antônio_Coelho', 'address_Rua_José_Antônio_Fontes', 'address_Rua_José_Antônio_da_Silva', 'address_Rua_José_Arzão', 'address_Rua_José_Ataliba_Ortiz', 'address_Rua_José_Augusto_Penteado', 'address_Rua_José_Baltore', 'address_Rua_José_Benedito_Salinas', 'address_Rua_José_Bento', 'address_Rua_José_Bernardo_Pinto', 'address_Rua_José_Bonifácio', 'address_Rua_José_Bueno', 'address_Rua_José_Buono', 'address_Rua_José_Capobianco', 'address_Rua_José_Carlos_de_Resende', 'address_Rua_José_Carlos_de_Toledo_Piza', 'address_Rua_José_Casas_Garcia', 'address_Rua_José_Codina', 'address_Rua_José_Coimbra', 'address_Rua_José_Cola_Grossi', 'address_Rua_José_Conhago_Pomare', 'address_Rua_José_Debieux', 'address_Rua_José_Dias_da_Costa', 'address_Rua_José_Doll_de_Moraes', 'address_Rua_José_Estevão_de_Magalhães', 'address_Rua_José_Feliciano', 'address_Rua_José_Fernandes_Caldas', 'address_Rua_José_Ferreira_de_Castro', 'address_Rua_José_Flávio', 'address_Rua_José_Frutuoso_Dias', 'address_Rua_José_Fugulin', 'address_Rua_José_Galvez', 'address_Rua_José_Garbuio', 'address_Rua_José_Getúlio', 'address_Rua_José_Gomes_Falcão', 'address_Rua_José_Gomes_Otero', 'address_Rua_José_Gonçalves', 'address_Rua_José_Gonçalves_Galeão', 'address_Rua_José_Gonçalves_Gomide', 'address_Rua_José_Guedes', 'address_Rua_José_Guilger_Sobrinho', 'address_Rua_José_Henrique', 'address_Rua_José_Inácio_de_Oliveira', 'address_Rua_José_Jardim_da_Silveira', 'address_Rua_José_Justino_Pereira', 'address_Rua_José_Kauer', 'address_Rua_José_Lopes_Dias', 'address_Rua_José_Loureiro_das_Neves', 'address_Rua_José_Luna', 'address_Rua_José_Luongo', 'address_Rua_José_Lázaro_Zanetti', 'address_Rua_José_Lógulo', 'address_Rua_José_Maciel_Neto', 'address_Rua_José_Mandotti', 'address_Rua_José_Manso', 'address_Rua_José_Manuel_da_Fonseca_Júnior', 'address_Rua_José_Maria', 'address_Rua_José_Maria_Lisboa', 'address_Rua_José_Maria_Ressuto', 'address_Rua_José_Maria_de_Abreu', 'address_Rua_José_Mariano_Filho', 'address_Rua_José_Martins_Coelho', 'address_Rua_José_Mauro_de_Vasconcelos', 'address_Rua_José_Medina_Zavalla', 'address_Rua_José_Mesa_Campos', 'address_Rua_José_Muniz_dos_Santos', 'address_Rua_José_Neves', 'address_Rua_José_Oscar_Abreu_Sampaio', 'address_Rua_José_Paolone', 'address_Rua_José_Pardelli', 'address_Rua_José_Paulino_de_Araújo', 'address_Rua_José_Pedro_Zanardi', 'address_Rua_José_Pereira_Barreto', 'address_Rua_José_Pereira_de_Carvalho', 'address_Rua_José_Pereira_de_Castro', 'address_Rua_José_Peres_Campelo', 'address_Rua_José_Piedade', 'address_Rua_José_Rafaeli', 'address_Rua_José_Ramon_Urtiza', 'address_Rua_José_Rangel_de_Camargo', 'address_Rua_José_Screpante', 'address_Rua_José_Sebastião_de_Sá', 'address_Rua_José_Silvano_Filho', 'address_Rua_José_Soares_de_Azevedo', 'address_Rua_José_Soriano_de_Sousa', 'address_Rua_José_Sálvio_Dias', 'address_Rua_José_Tavares_Siqueira', 'address_Rua_José_Teles_da_Conceição', 'address_Rua_José_Teles_de_Matos', 'address_Rua_José_Varela', 'address_Rua_José_Wasth_Rodrigues', 'address_Rua_José_Yazigi', 'address_Rua_José_Zappi', 'address_Rua_José_Zeferino_Peixoto', 'address_Rua_José_da_Costa_de_Andrade', 'address_Rua_José_da_Fonseca_Nadaes', 'address_Rua_José_da_Silva_Ribeiro', 'address_Rua_José_de_Almeida', 'address_Rua_José_de_Almeida_Soares', 'address_Rua_José_de_Camargo', 'address_Rua_José_de_Figueiredo_Seixas', 'address_Rua_José_de_Magalhães', 'address_Rua_José_de_Martini', 'address_Rua_José_de_Melo', 'address_Rua_José_de_Noronha', 'address_Rua_José_de_Oliveira', 'address_Rua_José_de_Oliveira_Coelho', 'address_Rua_José_de_Rezende_Costa_Filho', 'address_Rua_José_de_Sampaio_Leite', 'address_Rua_José_dos_Santos_Júnior', 'address_Rua_Joséfina_Álvares_de_Azevedo', 'address_Rua_Jota_Carlos', 'address_Rua_Jotacá', 'address_Rua_Jovina', 'address_Rua_Jovina_Maria_de_Jesus', 'address_Rua_Jovita', 'address_Rua_João_Adolfo', 'address_Rua_João_Agostinho', 'address_Rua_João_Alfredo', 'address_Rua_João_Almendra', 'address_Rua_João_Anes', 'address_Rua_João_Antônio_de_Andrade', 'address_Rua_João_Antônio_de_Oliveira', 'address_Rua_João_Artoni_Testae', 'address_Rua_João_Avelino_Pinho_Mellão', 'address_Rua_João_Baldinato', 'address_Rua_João_Biancalana', 'address_Rua_João_Bizarro_da_Nave', 'address_Rua_João_Borba', 'address_Rua_João_Burjakian', 'address_Rua_João_Cachoeira', 'address_Rua_João_Cordeiro', 'address_Rua_João_Crudo', 'address_Rua_João_Dias_Teixeira', 'address_Rua_João_Dias_de_Vergara', 'address_Rua_João_Domingos_Bomtempo', 'address_Rua_João_Fernandes_Camisa_Nova_Júnior', 'address_Rua_João_Ferreira_de_Abreu', 'address_Rua_João_Francisco_Moreira', 'address_Rua_João_Francisco_de_Moura', 'address_Rua_João_Gomes_Batista', 'address_Rua_João_Graeber', 'address_Rua_João_Guilherme_de_Brito', 'address_Rua_João_Guimarães_Rosa', 'address_Rua_João_José_Pacheco', 'address_Rua_João_José_Pachêco', 'address_Rua_João_José_dos_Santos', 'address_Rua_João_Lourenço', 'address_Rua_João_Mafra', 'address_Rua_João_Manuel', 'address_Rua_João_Marchiori', 'address_Rua_João_Maria_da_Silva', 'address_Rua_João_Martins_Lima', 'address_Rua_João_Miguel_Jarra', 'address_Rua_João_Millam', 'address_Rua_João_Moreno_dos_Santos', 'address_Rua_João_Moura', 'address_Rua_João_Noel_Von_Sonnleithner', 'address_Rua_João_Nápoles_Alvim', 'address_Rua_João_Pais', 'address_Rua_João_Passalaqua', 'address_Rua_João_Pereira', 'address_Rua_João_Pereira_Porto', 'address_Rua_João_Perestrello', 'address_Rua_João_Pimenta', 'address_Rua_João_Pimentel', 'address_Rua_João_Plácido_Viana', 'address_Rua_João_Rafael_Jafet', 'address_Rua_João_Ramalho', 'address_Rua_João_Roschel_Gottsfritz', 'address_Rua_João_Rudge', 'address_Rua_João_Sbarai', 'address_Rua_João_Scatamacchia', 'address_Rua_João_Serrano', 'address_Rua_João_Simões_de_Souza', 'address_Rua_João_Teixeira_de_Barros', 'address_Rua_João_Teizen_Sobrinho', 'address_Rua_João_Tibiriçá', 'address_Rua_João_Vaz', 'address_Rua_João_Veloso_de_Oliveira', 'address_Rua_João_Ventura_Batista', 'address_Rua_João_Vieira_da_Silva', 'address_Rua_João_Vitorino_de_Souza', 'address_Rua_João_Wesley', 'address_Rua_João_da_Cruz_Melão', 'address_Rua_João_da_Rocha', 'address_Rua_João_de_Godói_Moreira', 'address_Rua_João_de_Laet', 'address_Rua_João_de_Ledesma', 'address_Rua_João_de_Seixas', 'address_Rua_João_de_Sousa_Dias', 'address_Rua_João_Álvares_Pires', 'address_Rua_João_Álvares_Soares', 'address_Rua_João_Álvares_da_França', 'address_Rua_Juan_Arfe', 'address_Rua_Juan_Vicente', 'address_Rua_Juari', 'address_Rua_Juatuba', 'address_Rua_Jubair_Celestino', 'address_Rua_Jucupema', 'address_Rua_Jucuruçu', 'address_Rua_Jucá_Quito', 'address_Rua_Judith', 'address_Rua_Judith_Passald_Esteves', 'address_Rua_Judith_Zumkeller', 'address_Rua_Juiz_de_Fora', 'address_Rua_Julio_Nunes_de_Rêgo', 'address_Rua_Julião_Ferreira_da_Silva', 'address_Rua_Jumana', 'address_Rua_Jupará', 'address_Rua_Jupi', 'address_Rua_Jupiá', 'address_Rua_Juquis', 'address_Rua_Juquiá', 'address_Rua_Jureia', 'address_Rua_Jurubim', 'address_Rua_Jurupari', 'address_Rua_Juruá', 'address_Rua_Justino_Nigro', 'address_Rua_Justino_Paixão', 'address_Rua_Justo_Azambuja', 'address_Rua_Juventus', 'address_Rua_Juçara', 'address_Rua_Jácome_Teles_de_Menezes', 'address_Rua_Júlia_della_Casa_Paula', 'address_Rua_Júlio_Conceição', 'address_Rua_Júlio_Diniz', 'address_Rua_Júlio_Garita', 'address_Rua_Júlio_Marcelino_de_Faria', 'address_Rua_Júlio_Sayago', 'address_Rua_Júlio_Silva', 'address_Rua_Júlio_de_Menezes', 'address_Rua_Kabul', 'address_Rua_Kalil_Nader_Habr', 'address_Rua_Kansas', 'address_Rua_Kaoru_Oda', 'address_Rua_Karl_Czernick', 'address_Rua_Karlina_Reiman_Wandabeg', 'address_Rua_Keisuke_Koza', 'address_Rua_Kohei_Yokoyana', 'address_Rua_Labatut', 'address_Rua_Lacedemônia', 'address_Rua_Lacerda_Marques', 'address_Rua_Lacondê', 'address_Rua_Ladário', 'address_Rua_Laerte', 'address_Rua_Lagoa_Panema', 'address_Rua_Lagoa_Verde', 'address_Rua_Lagoa_de_Dentro', 'address_Rua_Lagoa_do_Campelo', 'address_Rua_Lair', 'address_Rua_Landizal', 'address_Rua_Lapa', 'address_Rua_Laranjal_do_Jari', 'address_Rua_Latif_Fakhouri', 'address_Rua_Laudelino_Vieira_de_Campos', 'address_Rua_Laura_Sfasciotti_Bernardi', 'address_Rua_Laurentina_Jorge_Ribeiro', 'address_Rua_Lauriano_Fernandes_Júnior', 'address_Rua_Laurindo_Rabelo', 'address_Rua_Lauro_Muller', 'address_Rua_Lauzane', 'address_Rua_Lavinio_Salles_Arcuri', 'address_Rua_Lavradio', 'address_Rua_Leais_Paulistanos', 'address_Rua_Leandro_Dupré', 'address_Rua_Leandro_Teixeira', 'address_Rua_Leandro_de_Carvalho', 'address_Rua_Lefosse', 'address_Rua_Lehel_Silimon', 'address_Rua_Leite_Penteado', 'address_Rua_Leme_do_Prado', 'address_Rua_Lemos_Torres', 'address_Rua_Leningrado', 'address_Rua_Lenize_Mazzei', 'address_Rua_Leonardo_Cerveira_Varandas', 'address_Rua_Leonardo_de_Fássio', 'address_Rua_Leonardo_do_Vale', 'address_Rua_Leontina_Attuy_Nogueira', 'address_Rua_Leontina_Atui_Nogueira', 'address_Rua_Leopoldo_Couto_Magalhães_Júnior', 'address_Rua_Leopoldo_Couto_de_Magalhães_Júnior', 'address_Rua_Leopoldo_Miguez', 'address_Rua_Leopoldo_Silingardi', 'address_Rua_Leopoldo_de_Bulhões', 'address_Rua_Leôncio_da_Costa_Vieira', 'address_Rua_Leôncio_da_Costa_Viêira', 'address_Rua_Leôncio_de_Carvalho', 'address_Rua_Leônidas_Freire', 'address_Rua_Liberato_Carvalho_Leite', 'address_Rua_Liderlândia', 'address_Rua_Liestal', 'address_Rua_Lima', 'address_Rua_Lima_Cantuária', 'address_Rua_Lima_E_Silva', 'address_Rua_Lindório', 'address_Rua_Lino_Coutinho', 'address_Rua_Lira_Cearense', 'address_Rua_Lisboa', 'address_Rua_Lituânia', 'address_Rua_Livreiro_Tisi', 'address_Rua_Loefgreen', 'address_Rua_Loefgren', 'address_Rua_Lombroso', 'address_Rua_Londres', 'address_Rua_Londrina', 'address_Rua_Lontra', 'address_Rua_Lopes_da_Costa', 'address_Rua_Lorena', 'address_Rua_Lourdes_Fernandes_Grossmann', 'address_Rua_Lourdes_Rabello', 'address_Rua_Loureiro', 'address_Rua_Loureiro_da_Cruz', 'address_Rua_Lourenço_Collino', 'address_Rua_Lourenço_Nunes', 'address_Rua_Lourenço_Prado', 'address_Rua_Luciano_Broinizzi', 'address_Rua_Luciano_Felício_Biondo', 'address_Rua_Luciano_Fernandes', 'address_Rua_Lucinda_Gomes_Barreto', 'address_Rua_Lucinda_Rabêlo', 'address_Rua_Lucrécia_Maciel', 'address_Rua_Luiz_Antônio_Gonçalves', 'address_Rua_Luiz_Coladello', 'address_Rua_Luiz_Gastão', 'address_Rua_Luiz_Gomes_de_São_Tiago', 'address_Rua_Luiz_Gonzaga_Rodrigues', 'address_Rua_Luiz_Grassmann', 'address_Rua_Luiz_Porrio', 'address_Rua_Luiz_Prieto_Roque', 'address_Rua_Luiz_Seráphico_Júnior', 'address_Rua_Luiz_Vieira_de_Souza', 'address_Rua_Luiz_da_Costa_Ramos', 'address_Rua_Lupe_Cotrim_Garaude', 'address_Rua_Lupe_Cotrin_Garaude', 'address_Rua_Lupércio_de_Miranda', 'address_Rua_Lussanvira', 'address_Rua_Luís_Alardo_de_Menezes', 'address_Rua_Luís_Antônio_dos_Santos', 'address_Rua_Luís_Asson', 'address_Rua_Luís_Carlos_Paraná', 'address_Rua_Luís_Carneiro', 'address_Rua_Luís_Coelho', 'address_Rua_Luís_Correia_de_Melo', 'address_Rua_Luís_César_Pannain', 'address_Rua_Luís_Dias', 'address_Rua_Luís_Filgueira_Souto', 'address_Rua_Luís_Filipe_Alberti', 'address_Rua_Luís_Fláquer', 'address_Rua_Luís_Gama', 'address_Rua_Luís_Godoy_Carvalho', 'address_Rua_Luís_Góis', 'address_Rua_Luís_José_Junqueira_Freire', 'address_Rua_Luís_Louza', 'address_Rua_Luís_Martins', 'address_Rua_Luís_Pacheco', 'address_Rua_Luís_Romanini', 'address_Rua_Luís_Schmidt_Júnior', 'address_Rua_Luís_Simões', 'address_Rua_Luís_de_França_Júnior', 'address_Rua_Luís_de_Melo_Maia', 'address_Rua_Luís_do_Paço', 'address_Rua_Luísa_Bocchiglieri_Ximenes', 'address_Rua_Lycurgo_Antônio_de_Souza', 'address_Rua_Lydia_Damus_Maksoud', 'address_Rua_Lácio', 'address_Rua_Lázara_da_Silva_Jimenes', 'address_Rua_Lázaro_Suave', 'address_Rua_Léo_de_Morais', 'address_Rua_Lê_Mans', 'address_Rua_Líbero_Badaró', 'address_Rua_Lúcia_Caiaffa', 'address_Rua_Macaiá-mirim', 'address_Rua_Macajuba', 'address_Rua_Macaé', 'address_Rua_Machado_Bitencourt', 'address_Rua_Machado_Bittencourt', 'address_Rua_Machado_Dutra', 'address_Rua_Machado_de_Assis', 'address_Rua_Macieira', 'address_Rua_Maciel_Monteiro', 'address_Rua_Madre_Cabrini', 'address_Rua_Madre_Emilie_de_Villeneuve', 'address_Rua_Madre_Joana_Zonca', 'address_Rua_Madre_Maria_da_Assunção_Soares', 'address_Rua_Madre_de_Deus', 'address_Rua_Madri', 'address_Rua_Madrid', 'address_Rua_Madrigais', 'address_Rua_Maestro_Arturo_de_Angelis', 'address_Rua_Maestro_Cardim', 'address_Rua_Maestro_Cállia', 'address_Rua_Maestro_Eduardo_de_Guarnieri', 'address_Rua_Maestro_Elias_Lobo', 'address_Rua_Maestro_João_de_Souza_Lima', 'address_Rua_Maestro_Tom_Jobim', 'address_Rua_Mafalda', 'address_Rua_Magarinos_Torres', 'address_Rua_Maia_Lelo', 'address_Rua_Mair', 'address_Rua_Major_Caetano_da_Costa', 'address_Rua_Major_Dantas_Cortes', 'address_Rua_Major_Dantas_Cortez', 'address_Rua_Major_Diogo', 'address_Rua_Major_Freire', 'address_Rua_Major_José_Marioto_Ferreira', 'address_Rua_Major_Maragliano', 'address_Rua_Major_Quedinho', 'address_Rua_Major_Sertório', 'address_Rua_Malebranche', 'address_Rua_Malie_Brenner', 'address_Rua_Malvina_Ferrara_Samarone', 'address_Rua_Mamanguape', 'address_Rua_Mamede_Rocha', 'address_Rua_Mamud_Rahd', 'address_Rua_Manacá', 'address_Rua_Mandioré', 'address_Rua_Mandiúba', 'address_Rua_Mandu', 'address_Rua_Mangaratú', 'address_Rua_Manguaba', 'address_Rua_Manguari', 'address_Rua_Manharaçu', 'address_Rua_Manifesto', 'address_Rua_Maniutuba', 'address_Rua_Manoel_Antônio_Pinto', 'address_Rua_Manoel_Augusto_Ferreirinha', 'address_Rua_Manoel_Bernardo_Medeiros', 'address_Rua_Manoel_Cruz', 'address_Rua_Manoel_Duarte', 'address_Rua_Manoel_Dutra', 'address_Rua_Manoel_Fernandes_Lopes', 'address_Rua_Manoel_José', 'address_Rua_Manoel_Martins_da_Rocha', 'address_Rua_Manoel_Oliveira_Gonçalves', 'address_Rua_Manoel_Rodrigues_da_Costa', 'address_Rua_Manoel_Salgado', 'address_Rua_Manoel_Simões', 'address_Rua_Manoel_da_Nóbrega', 'address_Rua_Manuel_Alves_Ferreira', 'address_Rua_Manuel_Antônio_Fonseca', 'address_Rua_Manuel_Cherem', 'address_Rua_Manuel_Correia', 'address_Rua_Manuel_Cueva', 'address_Rua_Manuel_Dias_de_Oliveira', 'address_Rua_Manuel_Ferreira_Costa', 'address_Rua_Manuel_Figueiredo', 'address_Rua_Manuel_Figueiredo_Landim', 'address_Rua_Manuel_Gadelho', 'address_Rua_Manuel_Jacinto', 'address_Rua_Manuel_José_Rodrigues', 'address_Rua_Manuel_José_de_Almeida', 'address_Rua_Manuel_Justiniano_Quintão', 'address_Rua_Manuel_Leiroz', 'address_Rua_Manuel_Leitão_Bandeira', 'address_Rua_Manuel_Mendes_Ribeiro', 'address_Rua_Manuel_Onha', 'address_Rua_Manuel_Pitta', 'address_Rua_Manuel_Píres', 'address_Rua_Manuel_Querino', 'address_Rua_Manuel_Ribas', 'address_Rua_Manuel_Simões_de_Medeiros', 'address_Rua_Manuel_Soeiro_Ramirez', 'address_Rua_Manuel_Vaz', 'address_Rua_Manuel_Vieira_de_Sousa', 'address_Rua_Manuel_da_Costa_Vale', 'address_Rua_Manuel_da_Cunha', 'address_Rua_Manuel_da_Nóbrega', 'address_Rua_Manuel_de_Almeida', 'address_Rua_Manuel_de_Faria_Dória', 'address_Rua_Manuel_de_Soveral', 'address_Rua_Manuel_Álvares_da_Costa', 'address_Rua_Maracanã', 'address_Rua_Maracanã-guaçu', 'address_Rua_Maracaí', 'address_Rua_Maracá', 'address_Rua_Maragojipe', 'address_Rua_Marajó', 'address_Rua_Marambaia', 'address_Rua_Maranhão', 'address_Rua_Maranjaí', 'address_Rua_Maratona', 'address_Rua_Marc_Chagal', 'address_Rua_Marc_Chagall', 'address_Rua_Marcelo_Homem_de_Melo', 'address_Rua_Marcelo_Muller', 'address_Rua_Marcelo_de_Menezes', 'address_Rua_Marcolino_Vaz_Figueira', 'address_Rua_Marcondes_de_Andrade', 'address_Rua_Marcondésia', 'address_Rua_Marcos_Arruda', 'address_Rua_Marcos_Grotti_Vidal', 'address_Rua_Marcos_Lopes', 'address_Rua_Marcos_Portugal', 'address_Rua_Marcus_Pereira', 'address_Rua_Marcílio_Dias', 'address_Rua_Marechal_Barbacena', 'address_Rua_Marechal_Deodoro', 'address_Rua_Marechal_Floriano', 'address_Rua_Marechal_Hastinfilo_de_Moura', 'address_Rua_Marechal_Hermes_da_Fonseca', 'address_Rua_Marechal_Luís_Alves_de_Lima_E_Silva', 'address_Rua_Marfim', 'address_Rua_Margarida_Stach', 'address_Rua_Marguerite_Louise_Riechelman', 'address_Rua_Maria', 'address_Rua_Maria_Afonso', 'address_Rua_Maria_Angélica_Franci', 'address_Rua_Maria_Antônia', 'address_Rua_Maria_Borba', 'address_Rua_Maria_Béu_Nunes', 'address_Rua_Maria_Carlota', 'address_Rua_Maria_Carolina', 'address_Rua_Maria_Cuofono_Salzano', 'address_Rua_Maria_Curupaiti', 'address_Rua_Maria_Cândida', 'address_Rua_Maria_Cândida_Pereira', 'address_Rua_Maria_Daffre', 'address_Rua_Maria_Dias_Hog', 'address_Rua_Maria_Eugênia', 'address_Rua_Maria_Figueiredo', 'address_Rua_Maria_Gonçalves', 'address_Rua_Maria_José_Rangel', 'address_Rua_Maria_José_da_Conceição', 'address_Rua_Maria_José_de_Jesus', 'address_Rua_Maria_José_de_Jesus_Miranda', 'address_Rua_Maria_Lourenço_Fernandes', 'address_Rua_Maria_Luiza_de_Pinho', 'address_Rua_Maria_Luísa_de_Pinho', 'address_Rua_Maria_Názaro_da_Silva', 'address_Rua_Maria_Otília', 'address_Rua_Maria_Pais_de_Barros', 'address_Rua_Maria_Paula', 'address_Rua_Maria_Rosa_de_Siqueira', 'address_Rua_Maria_Zélia', 'address_Rua_Maria_da_Conceição_Fonseca', 'address_Rua_Maria_do_Carmo', 'address_Rua_Maria_do_Carmo_Gomes', 'address_Rua_Maria_do_Carmo_Sene', 'address_Rua_Maria_dos_Santos_Vieira', 'address_Rua_Marialva', 'address_Rua_Mariana_Cisto_Augusto', 'address_Rua_Mariano_Procópio', 'address_Rua_Marie_Nader_Calfat', 'address_Rua_Marie_Nader_Calfat_270', 'address_Rua_Marieta_Xavier', 'address_Rua_Marilisa', 'address_Rua_Marilândia', 'address_Rua_Marina', 'address_Rua_Marina_Crespi', 'address_Rua_Marina_Saddi_Haidar', 'address_Rua_Marinheiro', 'address_Rua_Marino_Navarro', 'address_Rua_Mario_Amaral', 'address_Rua_Mariquinha_Viana', 'address_Rua_Marituba', 'address_Rua_Marius', 'address_Rua_Mariz_E_Barros', 'address_Rua_Mariúcha', 'address_Rua_Marques_de_Lages', 'address_Rua_Marquesa_de_Santos', 'address_Rua_Marquês_Itu', 'address_Rua_Marquês_Lages', 'address_Rua_Marquês_Maricá', 'address_Rua_Marquês_Olinda', 'address_Rua_Marquês_de_Abrantes', 'address_Rua_Marquês_de_Itu', 'address_Rua_Marquês_de_Lages', 'address_Rua_Marquês_de_Maricá', 'address_Rua_Marquês_de_Olinda', 'address_Rua_Marquês_de_Paraná', 'address_Rua_Marquês_de_Sabará', 'address_Rua_Marquês_de_Valença', 'address_Rua_Marret', 'address_Rua_Marrocos', 'address_Rua_Marselha', 'address_Rua_Marselhesa', 'address_Rua_Marte', 'address_Rua_Martim_Afonso', 'address_Rua_Martim_Afonso_de_Souza', 'address_Rua_Martim_Burchard', 'address_Rua_Martim_Francisco', 'address_Rua_Martinho_Gonçalves', 'address_Rua_Martinho_Prado', 'address_Rua_Martiniano_de_Carvalho', 'address_Rua_Martinico_Prado', 'address_Rua_Martino_Pesenti', 'address_Rua_Martins', 'address_Rua_Martins_Fernandes', 'address_Rua_Martins_Fontes', 'address_Rua_Martins_Pais', 'address_Rua_Marumbi', 'address_Rua_Marília_de_Dirceu', 'address_Rua_Massaranduba', 'address_Rua_Mateus_García', 'address_Rua_Mateus_Grou', 'address_Rua_Mateus_Nunes_de_Siqueira', 'address_Rua_Matias_Aires', 'address_Rua_Matias_Pacheco', 'address_Rua_Matias_Pachêco', 'address_Rua_Mato_Grosso', 'address_Rua_Maurício_Francisco_Klabin', 'address_Rua_Maurício_Jacquey', 'address_Rua_Mauá', 'address_Rua_Mauês', 'address_Rua_Mazzini', 'address_Rua_Medeiros_Furtado', 'address_Rua_Melo_Alves', 'address_Rua_Melo_Palheta', 'address_Rua_Melo_Peixoto', 'address_Rua_Mena', 'address_Rua_Mendes_Gonçalves', 'address_Rua_Mendes_Nunes', 'address_Rua_Mennucci', 'address_Rua_Mercedes_Lopes', 'address_Rua_Mercedes_Salano_Castineiras', 'address_Rua_Mere_Marie_Anais_de_Sion', 'address_Rua_Mergenthaler', 'address_Rua_Merino', 'address_Rua_Messias_dos_Reis_Costa', 'address_Rua_Mestre_João', 'address_Rua_Mexicana', 'address_Rua_Mianos', 'address_Rua_Michael_Faraday', 'address_Rua_Michigan', 'address_Rua_Miguel_Arcanjo_de_Oliveira', 'address_Rua_Miguel_Garcia', 'address_Rua_Miguel_Masi_Neto', 'address_Rua_Miguel_Mota', 'address_Rua_Miguel_Rachid', 'address_Rua_Miguel_Ribeiro', 'address_Rua_Miguel_Sevílio', 'address_Rua_Miguel_Tierno', 'address_Rua_Mil_Oitocentos_E_Vinte_E_Dois', 'address_Rua_Milton_Teixeira_de_Siqueira', 'address_Rua_Minas_Gerais', 'address_Rua_Mineradora_de_Diamantina', 'address_Rua_Minerva', 'address_Rua_Ministro_Adauto_Lúcio_Cardoso', 'address_Rua_Ministro_Barros_Pimentel', 'address_Rua_Ministro_Carlos_Maximiliano', 'address_Rua_Ministro_Coriolano_de_Gois', 'address_Rua_Ministro_Coriolano_de_Góis', 'address_Rua_Ministro_Ferreira_Alves', 'address_Rua_Ministro_Gastão_Mesquita', 'address_Rua_Ministro_Genésio_de_Almeida_Moura', 'address_Rua_Ministro_Godói', 'address_Rua_Ministro_Guimarães_Natal', 'address_Rua_Ministro_Heitor_Bastos_Tigre', 'address_Rua_Ministro_Jesuíno_Cardoso', 'address_Rua_Ministro_José_Geraldo_Rodrigues_Alckmin', 'address_Rua_Ministro_Mário_Carneiro', 'address_Rua_Ministro_Nélson_Hungria', 'address_Rua_Ministro_Roberto_Cardoso_Alves', 'address_Rua_Ministro_Sinésio_Rocha', 'address_Rua_Ministro_Álvaro_de_Sousa_Lima', 'address_Rua_Minérios_Atômicos', 'address_Rua_Miosótis', 'address_Rua_Miragaia', 'address_Rua_Miragem', 'address_Rua_Miranda_Jordão', 'address_Rua_Miriam', 'address_Rua_Mituto_Mizumoto', 'address_Rua_Moacir_Fagundes', 'address_Rua_Moacir_Miguel_da_Silva', 'address_Rua_Moacir_Piza', 'address_Rua_Mogi_Mirim', 'address_Rua_Moinho_Velho', 'address_Rua_Moisés_Marx', 'address_Rua_Mongubá', 'address_Rua_Monsenhor_Andrade', 'address_Rua_Monsenhor_Castro_Nery', 'address_Rua_Monsenhor_Francisco_de_Paula', 'address_Rua_Monsenhor_Joaquim_de_Campos', 'address_Rua_Monsenhor_João_Lauriano', 'address_Rua_Monsenhor_Magaldi', 'address_Rua_Monsenhor_Passaláqua', 'address_Rua_Monte_Alegre', 'address_Rua_Monte_Alto', 'address_Rua_Monte_Aprazível', 'address_Rua_Monte_Serrat', 'address_Rua_Monte_das_Gameleiras', 'address_Rua_Montegolfier_Barbieri', 'address_Rua_Monteiro', 'address_Rua_Monteiro_de_Melo', 'address_Rua_Montes_Aureos', 'address_Rua_Montes_Claros', 'address_Rua_Montesina', 'address_Rua_Montojó', 'address_Rua_Moraes_de_Barros', 'address_Rua_Morais_Navarro', 'address_Rua_Morgado_de_Mateus', 'address_Rua_Morro_Agudo', 'address_Rua_Morro_Alto', 'address_Rua_Morubixaba', 'address_Rua_Mossamedes', 'address_Rua_Mossoró', 'address_Rua_Mourato_Coelho', 'address_Rua_Moxei', 'address_Rua_Mozart', 'address_Rua_Mucajaí', 'address_Rua_Mucuri', 'address_Rua_Mundo_Novo', 'address_Rua_Mungubeira', 'address_Rua_Municipal', 'address_Rua_Muniz_de_Sousa', 'address_Rua_Murilo_Furtado', 'address_Rua_Muritiba', 'address_Rua_Murmúrios_da_Tarde', 'address_Rua_Murutinga', 'address_Rua_Murutinga_do_Sul', 'address_Rua_Mussa_Kuraien', 'address_Rua_Márcia_Angélica_Lopes', 'address_Rua_Márcio_Mazzei', 'address_Rua_Mário_Regallo_Pereira', 'address_Rua_Mário_Sette', 'address_Rua_Mário_de_Andrade', 'address_Rua_Mário_dos_Anjos', 'address_Rua_Mére_Marie_Anais_de_Sion', 'address_Rua_Mênfis', 'address_Rua_Mônaco', 'address_Rua_Múcio_Leão', 'address_Rua_Múrcia', 'address_Rua_Nadir', 'address_Rua_Nagasaki', 'address_Rua_Nair_Ferraz_de_Mesquita', 'address_Rua_Nair_Marquês_de_Souza', 'address_Rua_Nanau', 'address_Rua_Nancy_Silva_Cabral', 'address_Rua_Nanuque', 'address_Rua_Napoleão_de_Barros', 'address_Rua_Narain_Singh_Luschini', 'address_Rua_Nascimento_Silva', 'address_Rua_Natal', 'address_Rua_Natal_Meira_de_Barros', 'address_Rua_Natalina_Roque_Estefani', 'address_Rua_Natingui', 'address_Rua_Natividade_Saldanha', 'address_Rua_Nazaré_Paulista', 'address_Rua_Nazaré_Rezek_Faráh', 'address_Rua_Nazira_Carone', 'address_Rua_Nebraska', 'address_Rua_Nelson', 'address_Rua_Nelson_Gama_de_Oliveira', 'address_Rua_Nelson_Patrizzi', 'address_Rua_Nestor_Pestana', 'address_Rua_Nestor_Teixeira_Forte', 'address_Rua_Neuchatel', 'address_Rua_Newton_Prado', 'address_Rua_Nhamunda', 'address_Rua_Nhandeara', 'address_Rua_Nhengaibas', 'address_Rua_Nhu-guaçu', 'address_Rua_Nibe_Perobelli', 'address_Rua_Nicola_Nicodemo', 'address_Rua_Nicola_Rollo', 'address_Rua_Nicola_Sabatino', 'address_Rua_Nicolas_Adam', 'address_Rua_Nicolau_Barreto', 'address_Rua_Nicolau_Pereira_Lima', 'address_Rua_Nicolau_Zarvos', 'address_Rua_Nicolau_da_Rocha_Vita', 'address_Rua_Nilo', 'address_Rua_Nilo_Torres', 'address_Rua_Nilza', 'address_Rua_Nobel_Almeida_Kuke', 'address_Rua_Norma_Pieruccini_Giannotti', 'address_Rua_Nossa_Senhora_Acheropita', 'address_Rua_Nossa_Senhora_Conceição_Aparecida', 'address_Rua_Nossa_Senhora_Mãe_dos_Homens', 'address_Rua_Nossa_Senhora_Operária', 'address_Rua_Nossa_Senhora_Saúde', 'address_Rua_Nossa_Senhora_da_Saúde', 'address_Rua_Nossa_Senhora_das_Dores', 'address_Rua_Nossa_Senhora_das_Mercês', 'address_Rua_Nossa_Senhora_de_Fátima', 'address_Rua_Nossa_Senhora_do_Bom_Conselho', 'address_Rua_Nossa_Senhora_do_Livramento', 'address_Rua_Nossa_Senhora_do_Monte_Serrat', 'address_Rua_Nossa_Senhora_dos_Anjos', 'address_Rua_Nova_Aurora', 'address_Rua_Nova_Barão', 'address_Rua_Nova_Brasília', 'address_Rua_Nova_Cidade', 'address_Rua_Nova_Esperança', 'address_Rua_Nova_Fátima', 'address_Rua_Nova_Jerusalém', 'address_Rua_Nova_Serrana', 'address_Rua_Nova_York', 'address_Rua_Nova_dos_Portugueses', 'address_Rua_Nove_de_Julho', 'address_Rua_Novo_Horizonte', 'address_Rua_Nundiaú', 'address_Rua_Nunes_Balboa', 'address_Rua_Nunes_Ferreira_Filho', 'address_Rua_Nunes_Garcia', 'address_Rua_Nélson_Gama_de_Oliveira', 'address_Rua_Nícola_Nicodemo', 'address_Rua_Oagy_Kalile', 'address_Rua_Obadia', 'address_Rua_Oboé', 'address_Rua_Ocapeguara', 'address_Rua_Octacílio_Celestino_Gallo', 'address_Rua_Ofélia', 'address_Rua_Oiti', 'address_Rua_Olavo_Bilac', 'address_Rua_Olegário_de_Oliveira', 'address_Rua_Olga_Marinovic_Doro', 'address_Rua_Olhos_do_Coração', 'address_Rua_Oliveira_Alves', 'address_Rua_Oliveira_Catrambi', 'address_Rua_Oliveira_Peixoto', 'address_Rua_Olávo_Leite', 'address_Rua_Olídio_Rocato', 'address_Rua_Olímpia', 'address_Rua_Olímpia_Lemes_da_Silva', 'address_Rua_Olímpia_de_Almeida_Prado', 'address_Rua_Olímpio_Martins', 'address_Rua_Olímpio_Portugal', 'address_Rua_Olívia_Guedes_Penteado', 'address_Rua_Olívio_B._Marçal', 'address_Rua_Olívio_Basílio_Marçal', 'address_Rua_Omachá', 'address_Rua_Oneyda_Alvarenga', 'address_Rua_Onofre_Silveira', 'address_Rua_Oratório', 'address_Rua_Ordenações_Filipinas', 'address_Rua_Ordenações_Manuelinas', 'address_Rua_Orestes_Barbosa', 'address_Rua_Orfanato', 'address_Rua_Orindiúva', 'address_Rua_Orissanga', 'address_Rua_Orlando_Chiodi', 'address_Rua_Orlando_Fantazzini', 'address_Rua_Orlando_Murgel', 'address_Rua_Orlando_Pinto_Ribeiro', 'address_Rua_Orleães', 'address_Rua_Orminda', 'address_Rua_Orozimbo_Maia', 'address_Rua_Osaka', 'address_Rua_Oscar_Carmilo', 'address_Rua_Oscar_Cintra_Gordinho', 'address_Rua_Oscar_Freire', 'address_Rua_Oscar_Horta', 'address_Rua_Oscar_Thompson', 'address_Rua_Oscar_Thompsson', 'address_Rua_Oscár_Fernandes', 'address_Rua_Oscár_Thompson', 'address_Rua_Osiris_Magalhães_de_Almeida', 'address_Rua_Oswaldo_Arouca', 'address_Rua_Oswaldo_Casimiro_Müller', 'address_Rua_Oswaldo_Cruz', 'address_Rua_Oswaldo_Presciliano_de_Carvalho', 'address_Rua_Osório_Duque_Estrada', 'address_Rua_Osório_Franco_Vilhena', 'address_Rua_Otacílio_de_Albuquerque', 'address_Rua_Otto_de_Alencar', 'address_Rua_Otto_de_Barros', 'address_Rua_Otávio_Lima_Mendes', 'address_Rua_Otávio_Marques', 'address_Rua_Otávio_Rocha', 'address_Rua_Otávio_Tarquínio_de_Sousa', 'address_Rua_Otávio_Tucunduva_Faria', 'address_Rua_Otávio_de_Morais', 'address_Rua_Otávio_de_Moura', 'address_Rua_Otília', 'address_Rua_Ouricuri', 'address_Rua_Ourinhos', 'address_Rua_Ouro_Branco', 'address_Rua_Ouro_Preto', 'address_Rua_Ourânia', 'address_Rua_Ouvidor_Peleja', 'address_Rua_Ouvidor_Portugal', 'address_Rua_Oásis', 'address_Rua_Pacajás', 'address_Rua_Pacaraima', 'address_Rua_Pacheco_Melo', 'address_Rua_Padre_Abreu_E_Lima', 'address_Rua_Padre_Adelino', 'address_Rua_Padre_Antônio_de_Gennaro_Casa', 'address_Rua_Padre_Aníbal_Difrância', 'address_Rua_Padre_Benedito_de_Camargo', 'address_Rua_Padre_Bento_Ibañez', 'address_Rua_Padre_Bento_Ibáñez', 'address_Rua_Padre_Capra', 'address_Rua_Padre_Caresia', 'address_Rua_Padre_Carvalho', 'address_Rua_Padre_Chico', 'address_Rua_Padre_Corrado_Stefani', 'address_Rua_Padre_Coutinho', 'address_Rua_Padre_Estevão_de_Oliveira', 'address_Rua_Padre_Feliciano_Domingues', 'address_Rua_Padre_Francisco_João_de_Azevedo', 'address_Rua_Padre_Gualberto_Lima', 'address_Rua_Padre_Guido_Del_Toro', 'address_Rua_Padre_Isidoro', 'address_Rua_Padre_Jerônimo_Machado', 'address_Rua_Padre_Jerônimo_Vermin', 'address_Rua_Padre_Joao_Manuel', 'address_Rua_Padre_José_Antônio_Romano', 'address_Rua_Padre_José_Vieira_de_Matos', 'address_Rua_Padre_José_de_Anchieta', 'address_Rua_Padre_João', 'address_Rua_Padre_João_Gualberto', 'address_Rua_Padre_João_Manuel', 'address_Rua_Padre_Landell_de_Moura', 'address_Rua_Padre_Lebret', 'address_Rua_Padre_Leonel_Franca', 'address_Rua_Padre_Leonel_França', 'address_Rua_Padre_Leão_Peruche', 'address_Rua_Padre_Luiz_da_Grã', 'address_Rua_Padre_Luís_Yeber', 'address_Rua_Padre_Machado', 'address_Rua_Padre_Manuel_Bernardes', 'address_Rua_Padre_Marcos_Simoni', 'address_Rua_Padre_Mariano_Ronchi', 'address_Rua_Padre_Maurício', 'address_Rua_Padre_Mário_Fontana', 'address_Rua_Padre_Paulo_Canelles', 'address_Rua_Padre_Raimundo_da_Silva', 'address_Rua_Padre_Raposo', 'address_Rua_Padre_Rodrigues_Fernandes', 'address_Rua_Padre_Sabóia_de_Medeiros', 'address_Rua_Padre_Venâncio_de_Resende', 'address_Rua_Padre_Viêira', 'address_Rua_Paes_de_Andrade', 'address_Rua_Paiaguás', 'address_Rua_Paim', 'address_Rua_Pais_Leme', 'address_Rua_Pais_de_Araújo', 'address_Rua_Pais_de_Linhares', 'address_Rua_Palacete_das_Águias', 'address_Rua_Palene', 'address_Rua_Palermo', 'address_Rua_Palestina', 'address_Rua_Palestra_Itália', 'address_Rua_Palmares', 'address_Rua_Pampa', 'address_Rua_Pamplona', 'address_Rua_Panamericana', 'address_Rua_Panaçu', 'address_Rua_Pangaré', 'address_Rua_Panhames', 'address_Rua_Pantaleão_Brás', 'address_Rua_Pantojo', 'address_Rua_Panônia', 'address_Rua_Paolo_Coviello', 'address_Rua_Paracatu', 'address_Rua_Paracuê', 'address_Rua_Paraguai', 'address_Rua_Paraguaçu', 'address_Rua_Paraibuna', 'address_Rua_Parambu', 'address_Rua_Paramu', 'address_Rua_Paranapanema', 'address_Rua_Paranapiacaba', 'address_Rua_Paranaubis', 'address_Rua_Paraná', 'address_Rua_Parapuã', 'address_Rua_Paratiba', 'address_Rua_Paraíba', 'address_Rua_Paraíba_do_Sul', 'address_Rua_Paris', 'address_Rua_Parnaíba_Paoliello', 'address_Rua_Parque_da_Fonte', 'address_Rua_Pascal', 'address_Rua_Paschoal_Garófalo', 'address_Rua_Paschoalina_Belloti', 'address_Rua_Pascoa_Campi', 'address_Rua_Pascoal_Moreira', 'address_Rua_Pascoal_Ranieri_Mazzilli', 'address_Rua_Pascoal_Vita', 'address_Rua_Pasquale_Gallupi', 'address_Rua_Passarola', 'address_Rua_Passo_da_Pátria', 'address_Rua_Patrick_Dimitruk', 'address_Rua_Patumi', \"address_Rua_Pau-d'arco-roxo\", 'address_Rua_Pau-d_Arco-roxo', 'address_Rua_Paula_Ney', 'address_Rua_Paulino_de_Brito', 'address_Rua_Paulistania', 'address_Rua_Paulistânia', 'address_Rua_Paulo', 'address_Rua_Paulo_Andrighetti', 'address_Rua_Paulo_Barreto', 'address_Rua_Paulo_Castaldelli', 'address_Rua_Paulo_Célso_Costa', 'address_Rua_Paulo_César', 'address_Rua_Paulo_Florence', 'address_Rua_Paulo_Ii', 'address_Rua_Paulo_Il', 'address_Rua_Paulo_Izzo', 'address_Rua_Paulo_Lício_Risso', 'address_Rua_Paulo_Lício_Rizzo', 'address_Rua_Paulo_Maldi', 'address_Rua_Paulo_Martinez', 'address_Rua_Paulo_Orozimbo', 'address_Rua_Paulo_Ribeiro_da_Luz', 'address_Rua_Paulo_Soares', 'address_Rua_Paulo_Sérgio_Oliveira_de_Aquino', 'address_Rua_Paulo_Vidigal_Vicente_de_Azevedo', 'address_Rua_Paulo_Virgínio', 'address_Rua_Paulo_de_Avelar', 'address_Rua_País_Natal', 'address_Rua_Pechi', 'address_Rua_Pederneiras', 'address_Rua_Pedralva', 'address_Rua_Pedro', 'address_Rua_Pedro_Aleixo', 'address_Rua_Pedro_Badra', 'address_Rua_Pedro_Bellegarde', 'address_Rua_Pedro_Bitolo', 'address_Rua_Pedro_Cacunda', 'address_Rua_Pedro_Colaço', 'address_Rua_Pedro_Cubas', 'address_Rua_Pedro_Doll', 'address_Rua_Pedro_Gomes_Cardim', 'address_Rua_Pedro_Inacio_de_Araujo', 'address_Rua_Pedro_Inácio_Araujo', 'address_Rua_Pedro_Machado_de_Mello', 'address_Rua_Pedro_Madureira', 'address_Rua_Pedro_Malaquias', 'address_Rua_Pedro_Melges_Sobrinho', 'address_Rua_Pedro_Nicolau_Bernardo', 'address_Rua_Pedro_Nunes', 'address_Rua_Pedro_Osório_Filho', 'address_Rua_Pedro_Pires', 'address_Rua_Pedro_Rendon', 'address_Rua_Pedro_Taques', 'address_Rua_Pedro_Vicente', 'address_Rua_Pedro_de_Castro_Velho', 'address_Rua_Pedro_de_Godói', 'address_Rua_Pedro_de_Melo_Sousa', 'address_Rua_Pedro_de_Resende', 'address_Rua_Pedro_de_Toledo', 'address_Rua_Pedroso', 'address_Rua_Pedroso_Alvarenga', 'address_Rua_Peirópolis', 'address_Rua_Peixoto_Gomide', 'address_Rua_Pelegrino', 'address_Rua_Pelopia', 'address_Rua_Pelotas', 'address_Rua_Pensilvânia', 'address_Rua_Pentecostes', 'address_Rua_Pequetita', 'address_Rua_Percílio_Neto', 'address_Rua_Pereira_Barreto', 'address_Rua_Pereira_Caldas', 'address_Rua_Pereira_Leite', 'address_Rua_Pereira_da_Nóbrega', 'address_Rua_Pereiras', 'address_Rua_Periatis', 'address_Rua_Pernambucana', 'address_Rua_Pero_Correia', 'address_Rua_Pero_Vidal', 'address_Rua_Pertigalete', 'address_Rua_Pestana', 'address_Rua_Petrobrás', 'address_Rua_Piancó', 'address_Rua_Piatá', 'address_Rua_Piauiense', 'address_Rua_Piauí', 'address_Rua_Pico_Negro', 'address_Rua_Piedade_de_Ponte_Nova', 'address_Rua_Pierre_Martin', 'address_Rua_Pierre_de_Beranger', 'address_Rua_Pinheirinho', 'address_Rua_Pinheiro_Preto', 'address_Rua_Pintassilgo', 'address_Rua_Pinto_Serva', 'address_Rua_Pinto_da_Luz', 'address_Rua_Pio_Xi', 'address_Rua_Pio_Xii', 'address_Rua_Piqueri', 'address_Rua_Piquinhu', 'address_Rua_Piracanguá', 'address_Rua_Piracicaba', 'address_Rua_Piracuama', 'address_Rua_Pirajá', 'address_Rua_Pirandello', 'address_Rua_Piratininga', 'address_Rua_Piraumbu', 'address_Rua_Piraçununga', 'address_Rua_Pires_da_Mota', 'address_Rua_Pires_de_Almeida', 'address_Rua_Pires_de_Campos', 'address_Rua_Pirineus', 'address_Rua_Pirizal', 'address_Rua_Pitinga', 'address_Rua_Pixibás', 'address_Rua_Planalto_dos_Acantilados', 'address_Rua_Planeta', 'address_Rua_Platina', 'address_Rua_Plínio_Colás', 'address_Rua_Plínio_Réis', 'address_Rua_Plínio_Salgado', 'address_Rua_Poconé', 'address_Rua_Poetisa_Colombina', 'address_Rua_Pompeu_Sobrinho', 'address_Rua_Ponta_Delgada', 'address_Rua_Ponta_Porã', 'address_Rua_Ponte_Pensa', 'address_Rua_Pontins', 'address_Rua_Por_do_Sol', 'address_Rua_Porcelana', 'address_Rua_Porfírio_do_Nascimento', 'address_Rua_Porto_Alegre', 'address_Rua_Porto_Calvo', 'address_Rua_Porto_de_Palos', 'address_Rua_Potomaque', 'address_Rua_Potsdam', 'address_Rua_Potá', 'address_Rua_Praia_do_Castelo', 'address_Rua_Praia_do_Cerejo', 'address_Rua_Prates', 'address_Rua_Prefeito_Rinaldo_Poli', 'address_Rua_Pretória', 'address_Rua_Primeira_Cruz', 'address_Rua_Primeiro_de_Março', 'address_Rua_Primícias', 'address_Rua_Princesa_Isabel', 'address_Rua_Professor_Alberto_Conte', 'address_Rua_Professor_Alexandre_Correia', 'address_Rua_Professor_Alves_Pedroso', 'address_Rua_Professor_Antônio_Filgueiras_de_Lima', 'address_Rua_Professor_Antônio_de_Paula_Santos', 'address_Rua_Professor_Aprígio_Gonzaga', 'address_Rua_Professor_Ari_Bouzan', 'address_Rua_Professor_Aristides_de_Macedo', 'address_Rua_Professor_Arnaldo_João_Semeraro', 'address_Rua_Professor_Athanassof', 'address_Rua_Professor_Atílio_Innocenti', 'address_Rua_Professor_Augusto_Mondin', 'address_Rua_Professor_Authos_Pagano', 'address_Rua_Professor_Bourhan_Helou', 'address_Rua_Professor_Bueno_dos_Reis', 'address_Rua_Professor_Campos_Almeida', 'address_Rua_Professor_Campos_de_Oliveira', 'address_Rua_Professor_Castro_Pereira', 'address_Rua_Professor_Celso_Quirino_dos_Santos', 'address_Rua_Professor_Ciridião_Buarque', 'address_Rua_Professor_Demóstenes_B._Figueira_Marques', 'address_Rua_Professor_Demóstenes_Batista_Figueira_Marques', 'address_Rua_Professor_Dias_Castejon', 'address_Rua_Professor_Djalma_Bento', 'address_Rua_Professor_Dorival_Dias_Minhoto', 'address_Rua_Professor_Doutor_José_Marques_da_Cruz', 'address_Rua_Professor_Egas_Moniz', 'address_Rua_Professor_Elías_Vita', 'address_Rua_Professor_Francisco_Accioly', 'address_Rua_Professor_Francisco_Pinheiro', 'address_Rua_Professor_Fábio_Fanucchi', 'address_Rua_Professor_Guilherme_Belfort_Sabino', 'address_Rua_Professor_Gustavo_Pires_de_Andrade', 'address_Rua_Professor_Henrique_Neves_Lefevre', 'address_Rua_Professor_Henrique_Neves_Lefévre', 'address_Rua_Professor_Hilário_Veiga_de_Carvalho', 'address_Rua_Professor_José_Azevedo_Minhoto', 'address_Rua_Professor_José_Ferraz_de_Arruda_Júnior', 'address_Rua_Professor_José_Geraldo_de_Lima', 'address_Rua_Professor_José_Horácio_Meirelles_Teixeira', 'address_Rua_Professor_José_Leite_E_Oiticica', 'address_Rua_Professor_José_Lourenço', 'address_Rua_Professor_José_Maria_Calazans_Nogueira', 'address_Rua_Professor_José_Miziara', 'address_Rua_Professor_José_Soares_de_Mello', 'address_Rua_Professor_João_Arruda', 'address_Rua_Professor_João_Machado', 'address_Rua_Professor_João_Simões', 'address_Rua_Professor_Leonídio_Allegretti', 'address_Rua_Professor_Luis_Eulálio_de_Bueno_Vidigal', 'address_Rua_Professor_Lúcio_Martins_Rodrigues', 'address_Rua_Professor_Macedo_Soares', 'address_Rua_Professor_Miguel_Maurício_da_Rocha', 'address_Rua_Professor_Miguel_Russiano', 'address_Rua_Professor_Máximo_Ribeiro_Nunes', 'address_Rua_Professor_Nova_Gomes', 'address_Rua_Professor_Oliveira_Fausto', 'address_Rua_Professor_Paulo_Pupo', 'address_Rua_Professor_Pedro_da_Cunha', 'address_Rua_Professor_Picarolo', 'address_Rua_Professor_Raul_Briquet', 'address_Rua_Professor_Raul_Pederneiras', 'address_Rua_Professor_Roberto_Cavalheiro_Brisolla', 'address_Rua_Professor_Rui_Bloem', 'address_Rua_Professor_Soriano_Magalhães', 'address_Rua_Professor_Sousa_Barros', 'address_Rua_Professor_Tamandare_Toledo', 'address_Rua_Professor_Tamandaré_Toledo', 'address_Rua_Professor_Thomaz_de_Aquino', 'address_Rua_Professor_Tranquilli', 'address_Rua_Professor_Tôrres_Filhos', 'address_Rua_Professor_Vahia_de_Abreu', 'address_Rua_Professor_Vasconcelos_Sarmento', 'address_Rua_Professor_Vital_Palma_E_Silva', 'address_Rua_Professora_Ana_de_Andrade_Santana', 'address_Rua_Professora_Gioconda_Mussolini', 'address_Rua_Professora_Haidée_Silva_Martins', 'address_Rua_Professora_Heloísa_Carneiro', 'address_Rua_Professora_Jessie_Martins_Valdrigue', 'address_Rua_Professora_Maria_Bitencourt_Petit', 'address_Rua_Professora_Maria_de_Lourdes_Souza_Nogueira', 'address_Rua_Professora_Nina_Stocco', 'address_Rua_Professora_Nícia_de_Paula', 'address_Rua_Professora_Penha', 'address_Rua_Professora_Romilde_Nogueira_de_Sá', 'address_Rua_Promotor_Gabriel_Nettuzzi_Perez', 'address_Rua_Promotor_Gabriel_Netuzzi_Perez', 'address_Rua_Protágoras', 'address_Rua_Próspero_Cesarino_Paoliello', 'address_Rua_Purpurina', 'address_Rua_Pérsia', 'address_Rua_Quararibéia', 'address_Rua_Quaritere', 'address_Rua_Quariteré', 'address_Rua_Quatiguá', 'address_Rua_Quatá', 'address_Rua_Quedas', 'address_Rua_Quedas_,_315', 'address_Rua_Quedas_315', 'address_Rua_Queluz', 'address_Rua_Queriri', 'address_Rua_Quilombo', 'address_Rua_Quintana', 'address_Rua_Quinze_de_Setembro', 'address_Rua_Quirino_de_Andrade', 'address_Rua_Quixadá', 'address_Rua_Quixere', 'address_Rua_Rafael_Carrozzo', 'address_Rua_Rafael_Ficondo', 'address_Rua_Rafael_Jurado_Navas', 'address_Rua_Rafael_de_Oliveira', 'address_Rua_Rafael_de_Proença', 'address_Rua_Raimundo_Mattiuzzo', 'address_Rua_Raimundo_Simão_de_Souza', 'address_Rua_Rainha_Vitória_Eugênia', 'address_Rua_Rainúnculos', 'address_Rua_Raiz_da_Serra', 'address_Rua_Raizal', 'address_Rua_Rangel_Pestana', 'address_Rua_Raul_Bispo_dos_Santos', 'address_Rua_Raul_Pompéia', 'address_Rua_Raulino_Galdino_da_Silva', 'address_Rua_Realce', 'address_Rua_Realengo', 'address_Rua_Realismo', 'address_Rua_Reboujo', 'address_Rua_Recanto_Feliz', 'address_Rua_Refinaria_Mataripe', 'address_Rua_Regino_Aragão', 'address_Rua_Rego_Barros', 'address_Rua_Rego_Freitas', 'address_Rua_Rei_Alberto', 'address_Rua_Rei_Vitório_Emanuel', 'address_Rua_Reims', 'address_Rua_Reinaldo_Ceschini', 'address_Rua_Relíquia', 'address_Rua_Relógio_de_Sol', 'address_Rua_Renascença', 'address_Rua_Renato_Rinaldi', 'address_Rua_Renea_Ferreira_de_Castilho', 'address_Rua_René_Zamlutti', 'address_Rua_Renéa_Ferreira_de_Castilho', 'address_Rua_República_do_Iraque', 'address_Rua_República_do_Togo', 'address_Rua_República_Árabe_Unida', 'address_Rua_Resedá', 'address_Rua_Retiro', 'address_Rua_Reverendo_José_Carlos_Nogueira', 'address_Rua_Riachuelo', 'address_Rua_Ribeiro_Marcondes', 'address_Rua_Ribeiro_de_Barros', 'address_Rua_Ribeiro_de_Lima', 'address_Rua_Ribeiro_do_Vale', 'address_Rua_Ribeirão_Bonito', 'address_Rua_Ribeirão_Branco', 'address_Rua_Ribeirão_Píres', 'address_Rua_Ribeirópolis', 'address_Rua_Ricardo_Abed', 'address_Rua_Ricardo_Avenarius', 'address_Rua_Ricardo_Biondi', 'address_Rua_Rifaina', 'address_Rua_Riga', 'address_Rua_Rio_Claro', 'address_Rua_Rio_Espera', 'address_Rua_Rio_Grande', 'address_Rua_Rio_Grande_do_Norte', 'address_Rua_Rio_Grande_do_Sul', 'address_Rua_Rio_Mamanguape', 'address_Rua_Rio_Paraná', 'address_Rua_Rio_Preto', 'address_Rua_Rio_Verde', 'address_Rua_Rio_de_Janeiro', 'address_Rua_Rishin_Matsuda', 'address_Rua_Riskallah_Jorge', 'address_Rua_Rita_Joana_de_Sousa', 'address_Rua_Rivadávia_Correia', 'address_Rua_Rizieri_Negrini', 'address_Rua_Roberto_Eduardo', 'address_Rua_Roberto_Valentino_de_Camargo', 'address_Rua_Robertson', 'address_Rua_Robério_Dias', 'address_Rua_Rocha', 'address_Rua_Rocha_Fraga', 'address_Rua_Rodesia', 'address_Rua_Rodolfo', 'address_Rua_Rodolfo_André', 'address_Rua_Rodovalho_Junior', 'address_Rua_Rodovalho_da_Fonseca', 'address_Rua_Rodrigo_Lobato', 'address_Rua_Rodrigues_Barbosa', 'address_Rua_Roger_Chaffee', 'address_Rua_Roma', 'address_Rua_Romeu_Zelanti', 'address_Rua_Romualdo_Gouveia_de_Castro', 'address_Rua_Romão_Freire', 'address_Rua_Romão_Puiggari', 'address_Rua_Ronaldo_de_Carvalho', 'address_Rua_Rondinha', 'address_Rua_Roque_Petrella', 'address_Rua_Roque_de_Morais', 'address_Rua_Rosa_E_Silva', 'address_Rua_Rosa_Gaeta_Lazara', 'address_Rua_Rosa_Honoria_de_Jesus', 'address_Rua_Rosa_Maria', 'address_Rua_Rosa_Mendes', 'address_Rua_Rosa_dos_Ventos', 'address_Rua_Rosacruz', 'address_Rua_Rosicler', 'address_Rua_Rosália_de_Castro', 'address_Rua_Rosária_Musarra', 'address_Rua_Rosário_do_Sul', 'address_Rua_Rubem_de_Souza', 'address_Rua_Rubens_Mattar', 'address_Rua_Rubens_Sverner', 'address_Rua_Rubens_de_Souza_Araújo', 'address_Rua_Rubiaceia', 'address_Rua_Rubéns_de_Souza_Araújo', 'address_Rua_Rui_Barbosa', 'address_Rua_Rumaica', 'address_Rua_Régis', 'address_Rua_Rêgo_Freitas', 'address_Rua_Rússia', 'address_Rua_Sabbado_D’ângelo', 'address_Rua_Sabiá', 'address_Rua_Sacalina', 'address_Rua_Sagrado_Coração_de_Jesus', 'address_Rua_Saguairu', 'address_Rua_Said_Aiach', 'address_Rua_Saigon', 'address_Rua_Saint_Hilaire', 'address_Rua_Sales_Júnior', 'address_Rua_Salete', 'address_Rua_Salgueiral', 'address_Rua_Salgueiro', 'address_Rua_Salim_Izar', 'address_Rua_Salomão_Karlik', 'address_Rua_Salto', 'address_Rua_Salto_Grande', 'address_Rua_Salvador_Bicudo', 'address_Rua_Salvador_Caruso', 'address_Rua_Salvador_Gaeta', 'address_Rua_Salvador_Gianetti', 'address_Rua_Salvador_Iacona', 'address_Rua_Salvador_Leme', 'address_Rua_Salvador_Mastropietro', 'address_Rua_Salvador_Mota', 'address_Rua_Salvador_Nunes', 'address_Rua_Salvador_Padilha_Gimenes', 'address_Rua_Salvador_Pedroso', 'address_Rua_Salvador_Peluso_Basile', 'address_Rua_Salvador_Romeu', 'address_Rua_Salvador_Rosa', 'address_Rua_Salvador_Sala', 'address_Rua_Salvador_Simões', 'address_Rua_Salvador_Tolezano', 'address_Rua_Salvador_de_Lima', 'address_Rua_Salém_Bechara', 'address_Rua_Samambaia', 'address_Rua_Samia_Haddad', 'address_Rua_Sampaio_Corrêa', 'address_Rua_Sampaio_Moreira', 'address_Rua_Sampaio_Viana', 'address_Rua_Sampson', 'address_Rua_Samuel_Palmer', 'address_Rua_Sanazar_Mardiros', 'address_Rua_Sansão_Alves_dos_Santos', 'address_Rua_Santa_Albina', 'address_Rua_Santa_Archélia', 'address_Rua_Santa_Carolina', 'address_Rua_Santa_Cruz', 'address_Rua_Santa_Cruz_do_Rio_Pardo', 'address_Rua_Santa_Donata', 'address_Rua_Santa_Flora', 'address_Rua_Santa_Fé_do_Sul', 'address_Rua_Santa_Germana', 'address_Rua_Santa_Gertrudes', 'address_Rua_Santa_Gregória', 'address_Rua_Santa_Isabel', 'address_Rua_Santa_Isabel_do_Rio_Negro', 'address_Rua_Santa_Izabel', 'address_Rua_Santa_Justina', 'address_Rua_Santa_Júlia', 'address_Rua_Santa_Leocádia', 'address_Rua_Santa_Luzia', 'address_Rua_Santa_Lúcia', 'address_Rua_Santa_Madalena', 'address_Rua_Santa_Marcela', 'address_Rua_Santa_Maria_Goretti', 'address_Rua_Santa_Maria_do_Cambuca', 'address_Rua_Santa_Matilde', 'address_Rua_Santa_Romana', 'address_Rua_Santa_Teresa_de_Jesus', 'address_Rua_Santa_Teresinha', 'address_Rua_Santa_Terezinha', 'address_Rua_Santa_Ângela', 'address_Rua_Santa_Úrsula', 'address_Rua_Santana_de_Cataguáses', 'address_Rua_Santina_da_Costa', 'address_Rua_Santo_Adriano', 'address_Rua_Santo_Amaro', 'address_Rua_Santo_André', 'address_Rua_Santo_Antônio', 'address_Rua_Santo_Egídio', 'address_Rua_Santo_Elias', 'address_Rua_Santo_Irineu', 'address_Rua_Santos', 'address_Rua_Santos_Reis', 'address_Rua_Sapetuba', 'address_Rua_Sapucaia', 'address_Rua_Sara_Bernhard', 'address_Rua_Saramenha', 'address_Rua_Sarandira', 'address_Rua_Saraíva', 'address_Rua_Sardeira', 'address_Rua_Sargento_Agostinho_Ferreira', 'address_Rua_Sargento_Estanislau_Custódio', 'address_Rua_Sargento_Jeter_Augusto_Pereira', 'address_Rua_Sargento_José_Spessoto', 'address_Rua_Sargento_Osvaldo', 'address_Rua_Sassaki', 'address_Rua_Saturnino_de_Meireles', 'address_Rua_Saturnino_dos_Santos', 'address_Rua_Saturno', 'address_Rua_Sava', 'address_Rua_Savério_Mercadante', 'address_Rua_Savério_Quadrio', 'address_Rua_Schilling', 'address_Rua_Scuvero', 'address_Rua_Sebastiana_Vieira', 'address_Rua_Sebastião_Alves_de_Sousa', 'address_Rua_Sebastião_Andrade_Bonani', 'address_Rua_Sebastião_Bach', 'address_Rua_Sebastião_Dias', 'address_Rua_Sebastião_Domingues', 'address_Rua_Sebastião_Gonçalves', 'address_Rua_Sebastião_Gonçalves_Silva', 'address_Rua_Sebastião_Mariano', 'address_Rua_Sebastião_Martins', 'address_Rua_Sebastião_Paes', 'address_Rua_Sebastião_Salgado', 'address_Rua_Sebastião_de_Andrade', 'address_Rua_Sebastião_de_Mello_Dias', 'address_Rua_Sebastião_de_Melo_Dias', 'address_Rua_Sedan', 'address_Rua_Seis_de_Junho', 'address_Rua_Sena_Madureira', 'address_Rua_Senador_Carlos_Teixeira_de_Carvalho', 'address_Rua_Senador_César_Lacerda_Vergueiro', 'address_Rua_Senador_Feijó', 'address_Rua_Senador_Felício_dos_Santos', 'address_Rua_Senador_Georgino_Avelino', 'address_Rua_Senador_Otávio_Mangabeira', 'address_Rua_Senador_Vergueiro', 'address_Rua_Sepetiba', 'address_Rua_Serafim_Gadelho', 'address_Rua_Serra_da_Bocaina', 'address_Rua_Serra_da_Mantiqueira', 'address_Rua_Serra_da_Piedade', 'address_Rua_Serra_da_Sentinela', 'address_Rua_Serra_de_Botucatu', 'address_Rua_Serra_de_Bragança', 'address_Rua_Serra_de_Jairé', 'address_Rua_Serra_de_Juréa', 'address_Rua_Serra_de_São_Domingos', 'address_Rua_Serra_do_Japi', 'address_Rua_Serranos', 'address_Rua_Sertões_de_Canindé', 'address_Rua_Sete_Barras', 'address_Rua_Sete_Barras,_268', 'address_Rua_Sete_de_Abril', 'address_Rua_Severino_Cardoso_da_Silva', 'address_Rua_Severino_Soares', 'address_Rua_Severínia', 'address_Rua_Sevilha', 'address_Rua_Shikazo_Myai', 'address_Rua_Silva', 'address_Rua_Silva_Bueno', 'address_Rua_Silva_Machado', 'address_Rua_Silva_Teles', 'address_Rua_Silva_Xavier', 'address_Rua_Silveira_Bueno', 'address_Rua_Silveira_Martins', 'address_Rua_Silveira_Rodrigues', 'address_Rua_Silvestre_Vasconcelos_Calmon', 'address_Rua_Silvia', 'address_Rua_Silvino_Machado', 'address_Rua_Silvino_de_Godoy', 'address_Rua_Silvio_Brant_Correia', 'address_Rua_Silvio_Maia', 'address_Rua_Simpatia', 'address_Rua_Simão_Jorge', 'address_Rua_Simão_Lopes', 'address_Rua_Simão_Velho', 'address_Rua_Simão_da_Matta', 'address_Rua_Simão_de_Toledo_Piza', 'address_Rua_Simão_de_Tolêdo_Piza', 'address_Rua_Simão_Álvares', 'address_Rua_Simões_Magro', 'address_Rua_Simões_Pinto', 'address_Rua_Sincorá', 'address_Rua_Sinimbu', 'address_Rua_Siqueira_Alves', 'address_Rua_Siqueira_Bueno', 'address_Rua_Soares_de_Avellar', 'address_Rua_Soares_de_Faria', 'address_Rua_Solar', 'address_Rua_Soldado_Abílio_Fernandes_dos_Santos', 'address_Rua_Soldado_José_Fernandes_da_Silva', 'address_Rua_Soldado_José_Rufino_Costa', 'address_Rua_Soldado_José_Vicente_de_Paula', 'address_Rua_Soldado_João_de_Oliveira', 'address_Rua_Soldado_Otto_Unger', 'address_Rua_Soldado_Paulo_Emídio_Pereira', 'address_Rua_Soldado_Paulo_Tansini', 'address_Rua_Soldado_Teodoro_Francisco_Ribeiro', 'address_Rua_Soldado_Thomás_Antônio_Machado', 'address_Rua_Solidônio_Leite', 'address_Rua_Solimões', 'address_Rua_Soror_Angélica', 'address_Rua_Soror_Maria_Celeste', 'address_Rua_Sousa_Coutinho', 'address_Rua_Sousa_Lima', 'address_Rua_Sousa_Reis', 'address_Rua_Sousa_Rocha', 'address_Rua_Stefan_Zweig', 'address_Rua_Stela_Marina', 'address_Rua_Sud_Menucci', 'address_Rua_Sumagre', 'address_Rua_Surucuás', 'address_Rua_Susana_Leger', 'address_Rua_Susana_Rodrigues', 'address_Rua_Suzano', 'address_Rua_Sylvio_Delduque', 'address_Rua_São_Benedito', 'address_Rua_São_Bernardo', 'address_Rua_São_Borja', 'address_Rua_São_Carlos_Borromeu', 'address_Rua_São_Cleto', 'address_Rua_São_Constâncio', 'address_Rua_São_Dario', 'address_Rua_São_Diogo', 'address_Rua_São_Domingos', 'address_Rua_São_Feliciano', 'address_Rua_São_Florêncio', 'address_Rua_São_Francisco', 'address_Rua_São_Francisco_de_Assis', 'address_Rua_São_Gabriel_Arcanjo', 'address_Rua_São_Gabriel_da_Palha', 'address_Rua_São_Gil', 'address_Rua_São_Januário', 'address_Rua_São_Jorge', 'address_Rua_São_José', 'address_Rua_São_José_de_Arimatéia', 'address_Rua_São_José_do_Barreiro', 'address_Rua_São_José_dos_Campos', 'address_Rua_São_João_Batista', 'address_Rua_São_João_Del_Rei', 'address_Rua_São_João_Gualberto', 'address_Rua_São_João_da_Bocaina', 'address_Rua_São_Lourenço', 'address_Rua_São_Lourenço_do_Sul', 'address_Rua_São_Luís', 'address_Rua_São_Manoel', 'address_Rua_São_Marcos', 'address_Rua_São_Maurício', 'address_Rua_São_Miguel', 'address_Rua_São_Miguel_Arcanjo', 'address_Rua_São_Nicolau', 'address_Rua_São_Paulo', 'address_Rua_São_Paulo_Antigo', 'address_Rua_São_Pedro', 'address_Rua_São_Pompeu', 'address_Rua_São_Procópio', 'address_Rua_São_Quirino', 'address_Rua_São_Sebastião', 'address_Rua_São_Serapião', 'address_Rua_São_Severiano', 'address_Rua_São_Silvestre', 'address_Rua_São_Ticiano', 'address_Rua_São_Tomé', 'address_Rua_São_Venceslau', 'address_Rua_São_Vicente_de_Paulo', 'address_Rua_São_Virgílio', 'address_Rua_São_Wenceslau', 'address_Rua_Sérgio_Ricardo_Andreoni', 'address_Rua_Sérgio_Tomás', 'address_Rua_Séttimo_Giannini', 'address_Rua_Sílvio_de_Sousa', 'address_Rua_Sócrates', 'address_Rua_Sônia_Ribeiro', 'address_Rua_Tabantinguera', 'address_Rua_Tabapuã', 'address_Rua_Tabatinguera', 'address_Rua_Tabor', 'address_Rua_Tabuaças', 'address_Rua_Taciba', 'address_Rua_Tacomaré', 'address_Rua_Tagipuru', 'address_Rua_Taguá', 'address_Rua_Taiaçupeba', 'address_Rua_Taipas', 'address_Rua_Tamandaré', 'address_Rua_Tamarataca', 'address_Rua_Tamboril', 'address_Rua_Tamoios', 'address_Rua_Tangará', 'address_Rua_Tanque_Velho', 'address_Rua_Tapari', 'address_Rua_Tapejara', 'address_Rua_Tapendi', 'address_Rua_Tapiraí', 'address_Rua_Tapuias', 'address_Rua_Tapuitinga', 'address_Rua_Taquarituba', 'address_Rua_Taquaruçu', 'address_Rua_Tasuke_Uematsu', 'address_Rua_Taubaté', 'address_Rua_Tavannes', 'address_Rua_Tavares_Bastos', 'address_Rua_Taváres_Bastos', 'address_Rua_Tebas', 'address_Rua_Teerã', 'address_Rua_Teffé', 'address_Rua_Teixeira_Leite', 'address_Rua_Teixeira_da_Silva', 'address_Rua_Teixeira_de_Abreu', 'address_Rua_Teixeira_de_Melo', 'address_Rua_Tejupá', 'address_Rua_Templários', 'address_Rua_Tenente-coronel_Antônio_Braga', 'address_Rua_Tenente-coronel_Soares_Neiva', 'address_Rua_Tenente_Azevedo', 'address_Rua_Tenente_Chantré', 'address_Rua_Tenente_Coronel_Antonio_Braga', 'address_Rua_Tenente_Coronel_José_Joaquim_Correia_de_Arruda', 'address_Rua_Tenente_Coronel_Soares_Neiva', 'address_Rua_Tenente_Gelás', 'address_Rua_Tenente_Heli_Câmara', 'address_Rua_Tenente_Inácio_da_Silveira', 'address_Rua_Tenente_Isaías_Branco_de_Araújo', 'address_Rua_Tenente_João_Claudino_de_Melo', 'address_Rua_Tenente_Mauro_de_Miranda', 'address_Rua_Tenente_Negrão', 'address_Rua_Tenente_Oswaldo_Antônio', 'address_Rua_Tenente_Otávio_Gomes', 'address_Rua_Tenente_Paulo_Alves', 'address_Rua_Tenente_Sebastião_Soares', 'address_Rua_Tenente_Sotomano', 'address_Rua_Tenente_Sylvio_Fleming', 'address_Rua_Tenente_Ubirajara_Monory', 'address_Rua_Tenente_Ângelo_Zampero', 'address_Rua_Teodorico_Guimarães', 'address_Rua_Teodorico_de_Almeida_Bessa', 'address_Rua_Teodoro_Sampaio', 'address_Rua_Teodureto_Souto', 'address_Rua_Teodósio_Nobre', 'address_Rua_Teofrasto', 'address_Rua_Teotônio_de_Oliveira', 'address_Rua_Terceiro-sargento_João_Soares_de_Faria', 'address_Rua_Teresa', 'address_Rua_Teresa_Veiga', 'address_Rua_Tereza_Ackel', 'address_Rua_Terra_Roxa', 'address_Rua_Tetsuaki_Misawa', 'address_Rua_Texas', 'address_Rua_Teófilo_Dias', 'address_Rua_Thomas_Carvalhal', 'address_Rua_Thomás_Deloney', 'address_Rua_Tiangua', 'address_Rua_Tiburtino', 'address_Rua_Tietê', 'address_Rua_Tijucas_do_Sul', 'address_Rua_Tijuco_Preto', 'address_Rua_Timbiras', 'address_Rua_Timboré', 'address_Rua_Timor', 'address_Rua_Tiquatira', 'address_Rua_Tito', 'address_Rua_Tito_Oliani', 'address_Rua_Tié', 'address_Rua_Tobias_Barreto', 'address_Rua_Tobias_Monteiro', 'address_Rua_Tocachi', 'address_Rua_Togo', 'address_Rua_Toledo_Barbosa', 'address_Rua_Tomaz_Paulino_de_Almeida', 'address_Rua_Tomaz_da_Mota', 'address_Rua_Tomás_Ramos_Jordão', 'address_Rua_Tomás_Velasco', 'address_Rua_Tomé_Portes', 'address_Rua_Tomé_de_Lara', 'address_Rua_Tomé_de_Souza', 'address_Rua_Tonelero', 'address_Rua_Topázio', 'address_Rua_Topázio,_701_-_Vila_Mariana,_São_Paulo_-_Sp,_Brasil', 'address_Rua_Torquato_Neto', 'address_Rua_Torquato_Tasso', 'address_Rua_Torres_da_Barra', 'address_Rua_Torrinha', 'address_Rua_Torroselas', 'address_Rua_Traituba', 'address_Rua_Trajano_Reis', 'address_Rua_Trajano_de_Faria', 'address_Rua_Trapiche', 'address_Rua_Tremembé', 'address_Rua_Treze_de_Maio', 'address_Rua_Treze_de_Outubro', 'address_Rua_Tristão_de_Campos', 'address_Rua_Tristão_de_Oliveira', 'address_Rua_Três_Lagoas', 'address_Rua_Três_Rios', 'address_Rua_Três_de_Maio', 'address_Rua_Tubarana', 'address_Rua_Tubuna', 'address_Rua_Tucuna', 'address_Rua_Tucunduva', 'address_Rua_Tuim', 'address_Rua_Tuiucuê', 'address_Rua_Tuiuti', 'address_Rua_Tupanaci', 'address_Rua_Tupi', 'address_Rua_Tupinambás', 'address_Rua_Turiassu', 'address_Rua_Turiassú', 'address_Rua_Turiuba,_114,_Água_Fria', 'address_Rua_Turmalina', 'address_Rua_Turumãs', 'address_Rua_Tutóia', 'address_Rua_Tília', 'address_Rua_Tóquio', 'address_Rua_Túnis', 'address_Rua_Uacari', 'address_Rua_Uberlândia', 'address_Rua_Ugo_Taddei', 'address_Rua_Uhland', 'address_Rua_Uicó', 'address_Rua_Ulisses_Cruz', 'address_Rua_Ulisses_Paschoal', 'address_Rua_Umburanas', 'address_Rua_Umburetama', 'address_Rua_Umuarama', 'address_Rua_Upaiama', 'address_Rua_Urano', 'address_Rua_Uratinga', 'address_Rua_Urbanizadora', 'address_Rua_Urbano_Duarte', 'address_Rua_Urbano_da_Silva', 'address_Rua_Urimonduba', 'address_Rua_Uruguai', 'address_Rua_Urussuí', 'address_Rua_Utupeva', 'address_Rua_Uxi', 'address_Rua_Vacaria', 'address_Rua_Val_de_Palmas', 'address_Rua_Valdir_Niemeyer', 'address_Rua_Valdomiro_Lôbo_da_Costa', 'address_Rua_Vale-verde', 'address_Rua_Vale_Formoso', 'address_Rua_Vale_da_Perdiz', 'address_Rua_Vale_do_Alva', 'address_Rua_Valentim_Bitolo', 'address_Rua_Valentim_Magalhães', 'address_Rua_Valson_Lopes', 'address_Rua_Vapabussu', 'address_Rua_Varzelândia', 'address_Rua_Vasconcelos_Drumond', 'address_Rua_Veneza', 'address_Rua_Venezuela', 'address_Rua_Ventura_Carneiro', 'address_Rua_Ventura_Ladalardo', 'address_Rua_Venâncio_Aires', 'address_Rua_Venâncio_Diniz_Junqueira', 'address_Rua_Vera', 'address_Rua_Vera_Cruz', 'address_Rua_Verbo_Divino', 'address_Rua_Vereador_Pedro_Brasil_Bandecchi', 'address_Rua_Vergel', 'address_Rua_Vergueiro', 'address_Rua_Verinha_Darcy', 'address_Rua_Verona', 'address_Rua_Veríssimo_Cardoso', 'address_Rua_Verônica', 'address_Rua_Vespasiano', 'address_Rua_Vespasiano_de_Oliveira', 'address_Rua_Viana_do_Castelo', 'address_Rua_Vianópolis', 'address_Rua_Viaza', 'address_Rua_Vicente_Alves_da_Silva', 'address_Rua_Vicente_Amato_Sobrinho', 'address_Rua_Vicente_Biondo', 'address_Rua_Vicente_Felix', 'address_Rua_Vicente_Fernandes_Pinto', 'address_Rua_Vicente_Ferreira_Leite', 'address_Rua_Vicente_Félix', 'address_Rua_Vicente_Leporace', 'address_Rua_Vicente_Pereira_de_Assunção', 'address_Rua_Vicente_Prado', 'address_Rua_Vicente_de_Carvalho', 'address_Rua_Vicente_de_Sabóia', 'address_Rua_Vicente_de_Souza_Barros', 'address_Rua_Vicentina_Gomes', 'address_Rua_Vicenza', 'address_Rua_Vicenzo_Paciullo', 'address_Rua_Vicenzo_Paciulo', 'address_Rua_Vichy', 'address_Rua_Vieira_de_Morais', 'address_Rua_Viela', 'address_Rua_Viena', 'address_Rua_Vigário_Albernaz', 'address_Rua_Vigário_Taques_Bitencourt', 'address_Rua_Vila_Prudente', 'address_Rua_Vilar_de_Figos', 'address_Rua_Vilarinho', 'address_Rua_Vilela', 'address_Rua_Vinte_E_Cinco_de_Dezembro', 'address_Rua_Vinte_E_Cinco_de_Janeiro', 'address_Rua_Vinte_E_Cinco_de_Março', 'address_Rua_Vinte_E_Dois_de_Agosto', 'address_Rua_Vinte_E_Nove_de_Outubro', 'address_Rua_Vinte_E_Oito_de_Setembro', 'address_Rua_Vinte_E_Quatro_de_Dezembro', 'address_Rua_Vinte_E_Quatro_de_Maio', 'address_Rua_Vinte_E_Quatro_de_Maio_188', 'address_Rua_Vinte_E_Quatro_de_Outubro', 'address_Rua_Vinte_E_Três_de_Outubro', 'address_Rua_Viradouro', 'address_Rua_Virgil_Grissom', 'address_Rua_Virginópolis', 'address_Rua_Virgílio_Várzea', 'address_Rua_Virgínia', 'address_Rua_Visconde_Parnaíba', 'address_Rua_Visconde_da_Luz', 'address_Rua_Visconde_de_Aguiar_Toledo', 'address_Rua_Visconde_de_Alcântara', 'address_Rua_Visconde_de_Inhaúma', 'address_Rua_Visconde_de_Inhomerim', 'address_Rua_Visconde_de_Itaboraí', 'address_Rua_Visconde_de_Ourem', 'address_Rua_Visconde_de_Parnaíba', 'address_Rua_Vitalina_Moura', 'address_Rua_Vitoantonio_Del_Vecchio', 'address_Rua_Vitoantônio_Del_Vecchio', 'address_Rua_Vitor_Costa', 'address_Rua_Vitor_de_Queiroz_Matos', 'address_Rua_Vitoriana', 'address_Rua_Vitória', 'address_Rua_Vitória_Régia', 'address_Rua_Vitório_Ramalho', 'address_Rua_Vitório_Tafarello', 'address_Rua_Viçosa_do_Ceará', 'address_Rua_Viêira_Pinto', 'address_Rua_Viêira_de_Carvalho', 'address_Rua_Volta_Redonda', 'address_Rua_Voltolino', 'address_Rua_Voluntários_Paulistas', 'address_Rua_Voluntários_da_Pátria', 'address_Rua_Votupoca', 'address_Rua_Vuturuna', 'address_Rua_Várzea_Grande', 'address_Rua_Vênus', 'address_Rua_Vítor_Dubugras', 'address_Rua_Wagih_Assad_Abdalla', 'address_Rua_Waldir_Azevedo_-_Morumbi', 'address_Rua_Wandenkolk', 'address_Rua_Washington_Luís', 'address_Rua_Werner_Goldberg', 'address_Rua_William_Speers', 'address_Rua_Willis_Roberto_Banks', 'address_Rua_Wilson_Crisnel_de_Almeida', 'address_Rua_Wilson_Ribeiro_Bonfim', 'address_Rua_Wilson_Vallim', 'address_Rua_Winifred', 'address_Rua_Xambicá', 'address_Rua_Xapanã', 'address_Rua_Xavier_Gouveia', 'address_Rua_Xavier_Gouvêia', 'address_Rua_Xavier_Krauss', 'address_Rua_Xavier_da_Veiga', 'address_Rua_Xerentes', 'address_Rua_Xingu', 'address_Rua_Xiró', 'address_Rua_Yayá', 'address_Rua_Yvorne', 'address_Rua_Zacarias_Alves_de_Melo', 'address_Rua_Zacarias_de_Gois', 'address_Rua_Zanzibar', 'address_Rua_Zike_Tuma', 'address_Rua_Zulmira', 'address_Rua_Zuma_de_Sá_Fernandes', 'address_Rua_Zurich', 'address_Rua_da_Bonança', 'address_Rua_da_Chibata', 'address_Rua_da_Consolacao', 'address_Rua_da_Consolação', 'address_Rua_da_Economia', 'address_Rua_da_Esperança', 'address_Rua_da_Fonte', 'address_Rua_da_Glória', 'address_Rua_da_Grota', 'address_Rua_da_Gávea', 'address_Rua_da_Imprensa', 'address_Rua_da_Mata', 'address_Rua_da_Matriz', 'address_Rua_da_Meação', 'address_Rua_da_Mooca', 'address_Rua_da_Padroeira', 'address_Rua_da_Paz', 'address_Rua_da_União', 'address_Rua_das_Ameixas', 'address_Rua_das_Ameixeiras', 'address_Rua_das_Aningas', 'address_Rua_das_Aroeiras', 'address_Rua_das_Baunilhas', 'address_Rua_das_Camélias', 'address_Rua_das_Caneleiras', 'address_Rua_das_Carmelitas', 'address_Rua_das_Cerejeiras', 'address_Rua_das_Dálias', 'address_Rua_das_Fiandeiras', 'address_Rua_das_Figueiras', 'address_Rua_das_Flechas', 'address_Rua_das_Gamboas', 'address_Rua_das_Giestas', 'address_Rua_das_Gilias', 'address_Rua_das_Gloxíneas', 'address_Rua_das_Grumixamas', 'address_Rua_das_Gueixas', 'address_Rua_das_Heras', 'address_Rua_das_Hortênsias', 'address_Rua_das_Imbiras', 'address_Rua_das_Jabuticabeiras', 'address_Rua_das_Jóias', 'address_Rua_das_Laranjeiras', 'address_Rua_das_Lobélias', 'address_Rua_das_Magnólias', 'address_Rua_das_Margaridas', 'address_Rua_das_Monções', 'address_Rua_das_Municipalidades', 'address_Rua_das_Nogueiras', 'address_Rua_das_Paineiras', 'address_Rua_das_Palmeiras', 'address_Rua_das_Perdizes', 'address_Rua_das_Perobas', 'address_Rua_das_Pitangueiras', 'address_Rua_das_Pitombeiras', 'address_Rua_das_Rosas', 'address_Rua_das_Sempre-vivas', 'address_Rua_das_Seringueiras', 'address_Rua_das_Tambaíbas', 'address_Rua_das_Tâmaras', 'address_Rua_das_Uvaias', 'address_Rua_das_Verbenas', 'address_Rua_das_Vertentes', 'address_Rua_das_Violetas', 'address_Rua_das_Águias_Reais', 'address_Rua_do_Aclamado', 'address_Rua_do_Acre', 'address_Rua_do_Almirantado', 'address_Rua_do_Arouche', 'address_Rua_do_Arraial', 'address_Rua_do_Boqueirão', 'address_Rua_do_Bosque', 'address_Rua_do_Boticário', 'address_Rua_do_Carreiro_de_Pedra', 'address_Rua_do_Chico_Nunes', 'address_Rua_do_Córrego', 'address_Rua_do_Direito', 'address_Rua_do_Erário', 'address_Rua_do_Estilo_Barroco', 'address_Rua_do_Gasômetro', 'address_Rua_do_Golfinho', 'address_Rua_do_Lavapés', 'address_Rua_do_Lucas', 'address_Rua_do_Manifesto', 'address_Rua_do_Oratório', 'address_Rua_do_Paraíso', 'address_Rua_do_Rocio', 'address_Rua_do_Símbolo', 'address_Rua_do_Tatuapé', 'address_Rua_do_Tramway', 'address_Rua_do_Valo_Velho', 'address_Rua_dos_Aliados', 'address_Rua_dos_Americanos', 'address_Rua_dos_Andradas', 'address_Rua_dos_Banqueiros', 'address_Rua_dos_Buritis', 'address_Rua_dos_Caciques', 'address_Rua_dos_Caciques_A', 'address_Rua_dos_Cafezais', 'address_Rua_dos_Camarés', 'address_Rua_dos_Capuchinhos', 'address_Rua_dos_Carmelitas', 'address_Rua_dos_Comerciários', 'address_Rua_dos_Congregados', 'address_Rua_dos_Curupiás', 'address_Rua_dos_Democratas', 'address_Rua_dos_Donatários', 'address_Rua_dos_Estudantes', 'address_Rua_dos_Ferreiras', 'address_Rua_dos_Franceses', 'address_Rua_dos_Guaianazes', 'address_Rua_dos_Guaxins', 'address_Rua_dos_Guedes', 'address_Rua_dos_Gusmões', 'address_Rua_dos_Heliotrópios', 'address_Rua_dos_Ingleses', 'address_Rua_dos_Italianos', 'address_Rua_dos_Ituanos', 'address_Rua_dos_Jacintos', 'address_Rua_dos_Jatobás', 'address_Rua_dos_Jequitibás', 'address_Rua_dos_Jornalistas', 'address_Rua_dos_Macaxás', 'address_Rua_dos_Marapés', 'address_Rua_dos_Navegantes', 'address_Rua_dos_Parecis', 'address_Rua_dos_Patis', 'address_Rua_dos_Patriotas', 'address_Rua_dos_Paulistanos', 'address_Rua_dos_Pinheiros', 'address_Rua_dos_Poetas_Guarulhenses', 'address_Rua_dos_Povoadores', 'address_Rua_dos_Timbiras', 'address_Rua_dos_Trilhos', 'address_Rua_dos_Três_Irmãos', 'address_Rua_dos_Turumãs', 'address_Rua_dos_Viajantes', 'address_Rua_Água_Rasa', 'address_Rua_Águas_Claras', 'address_Rua_Águas_Formosas', 'address_Rua_Águas_da_Prata', 'address_Rua_Álvares_Afonso', 'address_Rua_Álvaro_Afonso', 'address_Rua_Álvaro_Alvin', 'address_Rua_Álvaro_Anes', 'address_Rua_Álvaro_Guimarães', 'address_Rua_Álvaro_Luís_Roberto_de_Assumpção', 'address_Rua_Álvaro_Martins_Ferreira', 'address_Rua_Álvaro_Nunes', 'address_Rua_Álvaro_Rodrigues', 'address_Rua_Álvaro_de_Abreu', 'address_Rua_Álvaro_de_Carvalho', 'address_Rua_Ática', 'address_Rua_Áurea_Batista_dos_Santos', 'address_Rua_Áureliano_Guimarães', 'address_Rua_Ângela_Tomé', 'address_Rua_Ângelo_Aloísio', 'address_Rua_Ângelo_Bertini', 'address_Rua_Ângelo_David_Thomé', 'address_Rua_Ângelo_Franchini', 'address_Rua_Ângelo_Mendes_de_Almeida', 'address_Rua_Ângelo_Pereira', 'address_Rua_Ângelo_Perobelli', 'address_Rua_Ângelo_Ricchiutti', 'address_Rua_Ângelo_Sangirardi', 'address_Rua_Ângelo_Santi', 'address_Rua_Ângelo_Viêira_de_Brito', 'address_Rua_Ângelo_Zanini', 'address_Rua_Édison', 'address_Rua_Épiro', 'address_Rua_Íon_Andresco', 'address_Rudge', 'address_Santa_Ifigênia,_São_Paulo_-_Sp,_01208-001,_Brasil', 'address_Santa_Maria,_Osasco_-_Sp,_06150-740,_Brasil', 'address_Santo_Amaro,_São_Paulo_-_Sp,_04741-178,_Brasil', 'address_Santo_Egídio', 'address_Simão_Velho', 'address_Sp-270_Km_15', 'address_São_José', 'address_Travessa_Acácio_João_Magalhães', 'address_Travessa_Angelina_Fernandes', 'address_Travessa_Antônio_Barroca', 'address_Travessa_Antônio_Bernacchi', 'address_Travessa_Antônio_da_Silva', 'address_Travessa_Armando_Rivir', 'address_Travessa_Barra_do_Barão', 'address_Travessa_Buenópolis', 'address_Travessa_Caldeira_Filho', 'address_Travessa_Carlos_Antônio_Sussmann', 'address_Travessa_Carlos_Domingos_de_Oliveira', 'address_Travessa_Carlos_Ramirez', 'address_Travessa_Catarina_Vazem', 'address_Travessa_Cleto_da_Silva', 'address_Travessa_Doralice', 'address_Travessa_Doutor_José_Corrêa_de_Meira', 'address_Travessa_Ernesto_Cavallini', 'address_Travessa_Ferdinando_Vaders', 'address_Travessa_Fernandes', 'address_Travessa_Ferreira_Guimarães', 'address_Travessa_Francisco_Benetti', 'address_Travessa_Gaspar_Brebos', 'address_Travessa_Geraldo_Ferraz', 'address_Travessa_Gonçalo_Lizardo', 'address_Travessa_Jerônimo_Bobadilha', 'address_Travessa_Leon_Berry', 'address_Travessa_Limoeiro', 'address_Travessa_Lorenzo_Spena', 'address_Travessa_Luís_Gonçalves', 'address_Travessa_Manuela', 'address_Travessa_Maria_Bela_Rodrigues', 'address_Travessa_Mário_Antônio_Correia', 'address_Travessa_Nossa_Senhora_das_Neves', 'address_Travessa_Nívia_Maria_Dombi', 'address_Travessa_Ode_Marcial', 'address_Travessa_Primeiro-sargento-polícia_Militar_Raul_Fernandes_das_Neves_Neto', 'address_Travessa_Píres', 'address_Travessa_Rosa_Rodrigues_Zerbini', 'address_Travessa_Santa_Joaquina', 'address_Travessa_Severo_Garcia', 'address_Travessa_Tacomaré', 'address_Travessa_Três_de_Outubro', 'address_Travessa_Victório_Gnan', 'address_Travessa_dos_Manacás', 'address_Travessa_Álvaro_Medina', 'address_Vespasiano', 'address_Via_Transversal_Sul', 'address_Viaduto_Dona_Paulina', 'address_Viaduto_Nove_de_Julho', 'address_Vieira_de_Morais', 'address_Viela_Altair', 'address_Viela_José_Antônio_Ferreira_da_Costa', 'address_Viela_Maria_Barcera_Gamera', 'address_Viela_Renaldo_Laporta', 'address_Vila_Guarani,_São_Paulo_-_Sp,_04317-180,_Brasil', 'address_Vila_Rio_de_Janeiro,_Guarulhos_-_Sp,_07082-610,_Brasil', 'address_Vila_da_Saúde,_São_Paulo_-_Sp,_04055-040,_Brasil', 'address_Vp_Mangarataia', 'address_dos_Pinheiros', 'district_Aclimação', 'district_Adalgisa', 'district_Agua_Branca', 'district_Alphaville', 'district_Alphaville_Centro_Industrial_E_Empresarial/alphaville.', 'district_Alphaville_Conde_Ii', 'district_Alphaville_Empresarial', 'district_Alphaville_Industrial', 'district_Alphaville_Residencial_Dois', 'district_Alphaville_Residencial_Plus', 'district_Alphaville_Residencial_Um', 'district_Alto_da_Boa_Vista', 'district_Alto_da_Lapa', 'district_Alto_da_Mooca', 'district_Alto_de_Pinheiros', 'district_Alto_do_Pari', 'district_Americanópolis', 'district_Anchieta', 'district_Aricanduva', 'district_Artur_Alvim', 'district_Ayrosa', 'district_Bandeiras', 'district_Barra_Funda', 'district_Barro_Branco_(zona_Norte)', 'district_Bela_Aliança', 'district_Bela_Vista', 'district_Belenzinho', 'district_Belém', 'district_Bethaville_I', 'district_Boa_Vista', 'district_Boaçava', 'district_Bolsão_do_Interlagos', 'district_Bom_Retiro', 'district_Bonfim', 'district_Bortolândia', 'district_Bosque_da_Saúde', 'district_Bosque_da_Saúde.', 'district_Bras', 'district_Brasilândia', 'district_Brooklin', 'district_Brooklin_Novo', 'district_Brooklin_Paulista', 'district_Brás', 'district_Burgo_Paulista', 'district_Bussocaba', 'district_Butantã', 'district_Cambuci', 'district_Campanário', 'district_Campestre', 'district_Campininha', 'district_Campo_Belo', 'district_Campo_Grande', 'district_Campos_Elíseos', 'district_Cangaiba', 'district_Cangaíba', 'district_Canhema', 'district_Canindé', 'district_Capela_do_Socorro', 'district_Carandiru', 'district_Casa_Branca', 'district_Casa_Verde', 'district_Casa_Verde_Alta', 'district_Casa_Verde_Média', 'district_Catumbi', 'district_Caxingui', 'district_Centro', 'district_Centro_Capital', 'district_Centro_Comercial_Jubran', 'district_Centro_Empresarial_Tamboré', 'district_Centro_Histórico_de_São_Paulo', 'district_Centro_de_Apoio_I_(alphaville)', 'district_Cerqueira_César', 'district_Chora_Menino', 'district_Chácara_Agrindus', 'district_Chácara_Belenzinho', 'district_Chácara_Califórnia', 'district_Chácara_Cruzeiro_do_Sul', 'district_Chácara_Inglesa', 'district_Chácara_Itaim', 'district_Chácara_Mafalda', 'district_Chácara_Meyer', 'district_Chácara_Monte_Alegre', 'district_Chácara_Nossa_Senhora_do_Bom_Conselho', 'district_Chácara_Santo_Antônio', 'district_Chácara_Santo_Antônio_(Zona_Sul)', 'district_Chácara_Santo_Antônio_(zona_Leste)', 'district_Chácara_Santo_Antônio_(zona_Sul)', 'district_Chácara_Seis_de_Outubro', 'district_Chácara_São_João', 'district_Chácara_Tatuapé', 'district_Chácara_do_Vovó', 'district_Cidade_Ademar', 'district_Cidade_Antônio_Estevão_de_Carvalho', 'district_Cidade_Antônio_Estêvão_de_Carvalho', 'district_Cidade_Brasil', 'district_Cidade_Continental', 'district_Cidade_Domitila', 'district_Cidade_Dutra', 'district_Cidade_Intercap', 'district_Cidade_Jardim', 'district_Cidade_Luz', 'district_Cidade_Líder', 'district_Cidade_Maia', 'district_Cidade_Monções', 'district_Cidade_Mãe_do_Céu', 'district_Cidade_Nova_São_Miguel', 'district_Cidade_Patriarca', 'district_Cidade_Satelite_Santa_Barbara', 'district_Cidade_São_Francisco', 'district_Cidade_São_Mateus', 'district_Cidade_Vargas', 'district_Cidade_das_Flores', 'district_Cidade_dos_Bandeirantes', 'district_Cipava', 'district_City_América', 'district_City_Bussocaba', 'district_Cocaia', 'district_Colônia_(zona_Leste)', 'district_Conceicao', 'district_Conceição', 'district_Conjunto_City_Jaragua', 'district_Conjunto_Habitacional_Padre_Manoel_da_Nobrega', 'district_Conjunto_Habitacional_Padre_Manoel_da_Nóbrega', 'district_Conjunto_Habitacional_Teotonio_Vilela', 'district_Conjunto_Promorar_Sapopemba', 'district_Conjunto_Residencial_Butantã', 'district_Conjunto_Residencial_Jardim_Canaã', 'district_Conjunto_Residencial_José_Bonifácio', 'district_Conjunto_Residencial_Vista_Verde', 'district_Consolação', 'district_Continental', 'district_Cupecê', 'district_Cursino', 'district_Empresarial_18_do_Forte', 'district_Engenheiro_Goulart', 'district_Ermelino_Matarazzo', 'district_Fazenda_Aricanduva', 'district_Fazenda_Morumbi', 'district_Ferreira', 'district_Freguesia_do_Ó', 'district_Fundação', 'district_Gopouva', 'district_Gopoúva', 'district_Guaianazes', 'district_Guaiaúna', 'district_Guapira', 'district_Helena_Maria', 'district_Higienópolis', 'district_Horto_Florestal', 'district_I.a.p.i.', 'district_Imirim', 'district_Indianópolis', 'district_Industrial_Autonomistas', 'district_Instituto_de_Previdencia', 'district_Instituto_de_Previdência', 'district_Interlagos', 'district_Ipiranga', 'district_Itaberaba', 'district_Itaim_Bibi', 'district_Itaquaciara', 'district_Itaquera', 'district_Jabaquara', 'district_Jaguaribe', 'district_Jaguará', 'district_Jaguaré', 'district_Jaraguá', 'district_Jardim', 'district_Jardim_Adhemar_de_Barros', 'district_Jardim_Adriana', 'district_Jardim_Adutora', 'district_Jardim_Aeroporto', 'district_Jardim_Agu', 'district_Jardim_Aida', 'district_Jardim_Alfredo', 'district_Jardim_Almanara', 'district_Jardim_Almeida_Prado', 'district_Jardim_Alvorada_(zona_Oeste)', 'district_Jardim_Alzira', 'district_Jardim_Amaralina', 'district_Jardim_America', 'district_Jardim_America_da_Penha', 'district_Jardim_Ampliacao', 'district_Jardim_Ampliação', 'district_Jardim_América', 'district_Jardim_América_da_Penha', 'district_Jardim_Ana_Lúcia', 'district_Jardim_Ana_Rosa', 'district_Jardim_Analia_Franco', 'district_Jardim_Andarai', 'district_Jardim_Andaraí', 'district_Jardim_Angela_(zona_Leste)', 'district_Jardim_Anny', 'district_Jardim_Antartica', 'district_Jardim_Antártica', 'district_Jardim_Anália_Franco', 'district_Jardim_Aricanduva', 'district_Jardim_Arize', 'district_Jardim_Arizona', 'district_Jardim_Arpoador', 'district_Jardim_Ataliba_Leonel', 'district_Jardim_Aurelia', 'district_Jardim_Avelino', 'district_Jardim_Bandeirantes_(zona_Norte)', 'district_Jardim_Barbosa', 'district_Jardim_Baruch', 'district_Jardim_Barueri', 'district_Jardim_Bela_Vista', 'district_Jardim_Belém', 'district_Jardim_Boa_Vista_(zona_Oeste)', 'district_Jardim_Bom_Clima', 'district_Jardim_Bonfiglioli', 'district_Jardim_Botucatu', 'district_Jardim_Brasil', 'district_Jardim_Brasil_(zona_Norte)', 'district_Jardim_Brasil_(zona_Sul)', 'district_Jardim_Brasília_(zona_Leste)', 'district_Jardim_Brasília_(zona_Norte)', 'district_Jardim_Bélgica', 'district_Jardim_Caboré', 'district_Jardim_Cachoeira', 'district_Jardim_Campanario', 'district_Jardim_Campo_Grande', 'district_Jardim_Caner', 'district_Jardim_Canhema', 'district_Jardim_Caravelas', 'district_Jardim_Carlu', 'district_Jardim_Casablanca', 'district_Jardim_Castelo', 'district_Jardim_Catanduva', 'district_Jardim_Celeste', 'district_Jardim_Centenario', 'district_Jardim_Centenário', 'district_Jardim_Cidade_Pirituba', 'district_Jardim_Cidalia', 'district_Jardim_Cidália', 'district_Jardim_Cirino', 'district_Jardim_City', 'district_Jardim_Clímax', 'district_Jardim_Cocaia', 'district_Jardim_Colombo', 'district_Jardim_Colorado', 'district_Jardim_Consorcio', 'district_Jardim_Consórcio', 'district_Jardim_Cordeiro', 'district_Jardim_Cotiana', 'district_Jardim_Cristal', 'district_Jardim_Cristin_Alice', 'district_Jardim_Danfer', 'district_Jardim_Denise', 'district_Jardim_Dinorah', 'district_Jardim_Divinolandia', 'district_Jardim_Dom_Bosco', 'district_Jardim_Dona_Sinha', 'district_Jardim_Dona_Sinhá', 'district_Jardim_Dourado', 'district_Jardim_Dracena', 'district_Jardim_D’abril', 'district_Jardim_Elvira', 'district_Jardim_Ernestina', 'district_Jardim_Esmeralda', 'district_Jardim_Ester', 'district_Jardim_Ester_Yolanda', 'district_Jardim_Europa', 'district_Jardim_Felicidade_(zona_Oeste)', 'district_Jardim_Filhos_da_Terra', 'district_Jardim_Flor_da_Montanha', 'district_Jardim_Fonte_do_Morumbi', 'district_Jardim_Franca', 'district_Jardim_Frei_Galvao', 'district_Jardim_Frei_Galvão', 'district_Jardim_Gilda_Maria', 'district_Jardim_Glória', 'district_Jardim_Gracinda', 'district_Jardim_Graziela', 'district_Jardim_Guairaca', 'district_Jardim_Guanca', 'district_Jardim_Guarapiranga', 'district_Jardim_Guarau', 'district_Jardim_Guarulhos', 'district_Jardim_Gumercindo', 'district_Jardim_Haia_do_Carrao', 'district_Jardim_Helena', 'district_Jardim_Helian', 'district_Jardim_Hercilia', 'district_Jardim_Ibitirama', 'district_Jardim_Imperador_(zona_Leste)', 'district_Jardim_Independência', 'district_Jardim_Independência_(são_Paulo)', 'district_Jardim_Inga', 'district_Jardim_Ipanema_(zona_Sul)', 'district_Jardim_Iporanga', 'district_Jardim_Iracema', 'district_Jardim_Iris', 'district_Jardim_Itapeva', 'district_Jardim_Iva', 'district_Jardim_Ivana', 'district_Jardim_Jabaquara', 'district_Jardim_Jamaica', 'district_Jardim_Japao', 'district_Jardim_Japão', 'district_Jardim_Jaqueline', 'district_Jardim_Jaçanã', 'district_Jardim_Jaú_(Zona_Leste)', 'district_Jardim_Jaú_(zona_Leste)', 'district_Jardim_João_Xxiii', 'district_Jardim_Jua', 'district_Jardim_Julieta', 'district_Jardim_Jussara', 'district_Jardim_Kuabara', 'district_Jardim_Lallo', 'district_Jardim_Lar_Sao_Paulo', 'district_Jardim_Las_Vegas', 'district_Jardim_Leonor', 'district_Jardim_Leonor_Mendes_de_Barros', 'district_Jardim_Libano', 'district_Jardim_Lideranca', 'district_Jardim_Londrina', 'district_Jardim_Los_Angeles', 'district_Jardim_Lourdes', 'district_Jardim_Luanda', 'district_Jardim_Lucia', 'district_Jardim_Luísa', 'district_Jardim_Líbano', 'district_Jardim_Maia', 'district_Jardim_Mangalot', 'district_Jardim_Maraba', 'district_Jardim_Marajoara', 'district_Jardim_Maria_Aparecida', 'district_Jardim_Maria_Duarte', 'district_Jardim_Maria_Estela', 'district_Jardim_Maria_Luiza', 'district_Jardim_Maria_Rita', 'district_Jardim_Maria_Rosa', 'district_Jardim_Mariliza', 'district_Jardim_Marilu', 'district_Jardim_Maringa', 'district_Jardim_Maringá', 'district_Jardim_Maristela', 'district_Jardim_Marília', 'district_Jardim_Mimar', 'district_Jardim_Mirante', 'district_Jardim_Miriam', 'district_Jardim_Modelo', 'district_Jardim_Monjolo', 'district_Jardim_Monte_Alegre', 'district_Jardim_Monte_Azul', 'district_Jardim_Monte_Kemel', 'district_Jardim_Monte_Libano', 'district_Jardim_Montreal', 'district_Jardim_Moreira', 'district_Jardim_Morro_Verde', 'district_Jardim_Morumbi', 'district_Jardim_Munhoz_Junior', 'district_Jardim_Nadir', 'district_Jardim_Nordeste', 'district_Jardim_Norma', 'district_Jardim_Nossa_Senhora_Aparecida', 'district_Jardim_Nosso_Lar', 'district_Jardim_Nova_Cidade', 'district_Jardim_Nova_Germania', 'district_Jardim_Nova_Taboao', 'district_Jardim_Novo_Santo_Amaro', 'district_Jardim_Novo_Taboao', 'district_Jardim_Odete', 'district_Jardim_Olinda', 'district_Jardim_Olympia', 'district_Jardim_Oriental', 'district_Jardim_Palmares_(zona_Sul)', 'district_Jardim_Palmira', 'district_Jardim_Panorama_(zona_Leste)', 'district_Jardim_Paraiso', 'district_Jardim_Paramount', 'district_Jardim_Paraventi', 'district_Jardim_Paraíso', 'district_Jardim_Parque_Morumbi', 'district_Jardim_Patente', 'district_Jardim_Patente_Novo', 'district_Jardim_Paulista', 'district_Jardim_Paulistano', 'district_Jardim_Pazini', 'district_Jardim_Pedro_José_Nunes', 'district_Jardim_Penha', 'district_Jardim_Pereira_Leite', 'district_Jardim_Peri', 'district_Jardim_Peri_Peri', 'district_Jardim_Petropolis', 'district_Jardim_Pinhal', 'district_Jardim_Pinheiros', 'district_Jardim_Piqueroby', 'district_Jardim_Piracuama', 'district_Jardim_Piratininga', 'district_Jardim_Pirituba', 'district_Jardim_Planalto', 'district_Jardim_Popular', 'district_Jardim_Previdencia', 'district_Jardim_Previdência', 'district_Jardim_Primavera_(zona_Norte)', 'district_Jardim_Primavera_(zona_Sul)', 'district_Jardim_Primeiro_de_Maio_(chacara_Fazendinha)', 'district_Jardim_Promissão', 'district_Jardim_Prudência', 'district_Jardim_Raposo_Tavares', 'district_Jardim_Regina', 'district_Jardim_Regina_Alice', 'district_Jardim_Regis', 'district_Jardim_Rizzo', 'district_Jardim_Roberto', 'district_Jardim_Rosa_Maria', 'district_Jardim_Rosa_de_Franca', 'district_Jardim_Rosana', 'district_Jardim_Sabara', 'district_Jardim_Sabará', 'district_Jardim_Santa_Bárbara', 'district_Jardim_Santa_Cecília', 'district_Jardim_Santa_Clara', 'district_Jardim_Santa_Cruz', 'district_Jardim_Santa_Cruz_(campo_Grande)', 'district_Jardim_Santa_Cruz_(sacomã)', 'district_Jardim_Santa_Edwiges_(capela_do_Socorro)', 'district_Jardim_Santa_Edwirges', 'district_Jardim_Santa_Efigenia', 'district_Jardim_Santa_Emilia', 'district_Jardim_Santa_Emília', 'district_Jardim_Santa_Helena', 'district_Jardim_Santa_Inês', 'district_Jardim_Santa_Maria', 'district_Jardim_Santa_Mena', 'district_Jardim_Santa_Monica', 'district_Jardim_Santa_Mônica', 'district_Jardim_Santa_Rosa', 'district_Jardim_Santa_Terezinha', 'district_Jardim_Santa_Terezinha_(zona_Leste)', 'district_Jardim_Santo_Amaro', 'district_Jardim_Santo_Antoninho', 'district_Jardim_Santo_Antonio', 'district_Jardim_Santo_Antônio', 'district_Jardim_Santo_Elias', 'district_Jardim_Santos_Dumont', 'district_Jardim_Sao_Bento', 'district_Jardim_Sao_Francisco_(zona_Leste)', 'district_Jardim_Sao_Gabriel', 'district_Jardim_Sao_Joao_(jaragua)', 'district_Jardim_Sao_Jose', 'district_Jardim_Sao_Jose_(sao_Mateus)', 'district_Jardim_Sao_Judas_Tadeu', 'district_Jardim_Sao_Paulo(zona_Norte)', 'district_Jardim_Sao_Saverio', 'district_Jardim_Sarah', 'district_Jardim_Satelite', 'district_Jardim_Seckler', 'district_Jardim_Silvestre', 'district_Jardim_Silvia', 'district_Jardim_Sul_São_Paulo', 'district_Jardim_São_Caetano', 'district_Jardim_São_Francisco_(zona_Leste)', 'district_Jardim_São_José_(zona_Norte)', 'district_Jardim_São_Judas_Tadeu', 'district_Jardim_São_Luís', 'district_Jardim_São_Paulo', 'district_Jardim_São_Paulo(zona_Norte)', 'district_Jardim_São_Saverio', 'district_Jardim_São_Savério', 'district_Jardim_São_Silvestre', 'district_Jardim_Sílvia', 'district_Jardim_Sônia_Maria', 'district_Jardim_Tabatinga', 'district_Jardim_Taboao', 'district_Jardim_Taboão', 'district_Jardim_Taquaral', 'district_Jardim_Teresa', 'district_Jardim_Terezópolis', 'district_Jardim_Testae', 'district_Jardim_Tietê', 'district_Jardim_Tijuco', 'district_Jardim_Toscana', 'district_Jardim_Tranqüilidade', 'district_Jardim_Trussardi', 'district_Jardim_Três_Marias', 'district_Jardim_Tupanci', 'district_Jardim_Ubirajara', 'district_Jardim_Umarizal', 'district_Jardim_Umuarama', 'district_Jardim_Utinga', 'district_Jardim_Valeria', 'district_Jardim_Valéria', 'district_Jardim_Vazani', 'district_Jardim_Vera_Cruz', 'district_Jardim_Vergueiro', 'district_Jardim_Vergueiro_(sacoma)', 'district_Jardim_Vergueiro_(sacomã)', 'district_Jardim_Vila_Carrao', 'district_Jardim_Vila_Formosa', 'district_Jardim_Vila_Galvão', 'district_Jardim_Vila_Mariana', 'district_Jardim_Vista_Alegre', 'district_Jardim_Vista_Linda', 'district_Jardim_Vitoria_Regia', 'district_Jardim_Vitoria_Regia_(zona_Oeste)', 'district_Jardim_Vitória_Régia', 'district_Jardim_Vivan', 'district_Jardim_Zaira', 'district_Jardim_da_Campina', 'district_Jardim_da_Gloria', 'district_Jardim_da_Glória', 'district_Jardim_da_Mamãe', 'district_Jardim_da_Saúde', 'district_Jardim_das_Acacias', 'district_Jardim_das_Acácias', 'district_Jardim_das_Bandeiras', 'district_Jardim_das_Esmeraldas', 'district_Jardim_das_Flores', 'district_Jardim_das_Gracas', 'district_Jardim_das_Graças', 'district_Jardim_das_Laranjeiras', 'district_Jardim_das_Maravilhas', 'district_Jardim_das_Nações', 'district_Jardim_das_Perdizes', 'district_Jardim_das_Vertentes', 'district_Jardim_de_Lorenzo', 'district_Jardim_do_Carmo', 'district_Jardim_do_Colégio_(zona_Norte)', 'district_Jardim_do_Mar', 'district_Jardim_do_Papai', 'district_Jardim_do_Tiro', 'district_Jardim_dos_Camargos', 'district_Jardim_dos_Estados', 'district_Jardim_dos_Lagos', 'district_Jardim_dos_Prados', 'district_Jardim_Ângela_(zona_Leste)', 'district_Jardim_Íris', 'district_Jardins', 'district_Jaçanã', 'district_Jd._Rio_Pequeno', 'district_Jd_Tranquilidade', 'district_Jordanópolis', 'district_Jurubatuba', 'district_Km_18', 'district_Lajeado', 'district_Lapa', 'district_Lapa_de_Baixo', 'district_Lar_São_Paulo', 'district_Lauzane_Paulista', 'district_Liberdade', 'district_Limão', 'district_Loteamento_City_Jaragua', 'district_Luz', 'district_Macedo', 'district_Mandaqui', 'district_Maranhão', 'district_Mauá', 'district_Melville_Empresarial_I_E_Ii', 'district_Melville_Empresarial_Ii', 'district_Mirandópolis', 'district_Moema', 'district_Moinho_Velho', 'district_Mooca', 'district_Morro_dos_Ingleses', 'district_Morumbi', 'district_Mutinga', 'district_Nossa_Senhora_do_O', 'district_Nossa_Senhora_do_Ó', 'district_Nova_Aldeinha', 'district_Nova_Gerti', 'district_Nova_Gerty', 'district_Nova_Piraju', 'district_Novo_Osasco', 'district_Olímpico', 'district_Osvaldo_Cruz', 'district_Pacaembu', 'district_Pacaembu.', 'district_Padroeira', 'district_Panamby', 'district_Parada_Inglesa', 'district_Parada_Xv_de_Novembro', 'district_Paraisópolis', 'district_Paraíso', 'district_Paraíso.', 'district_Paraíso_do_Morumbi', 'district_Pari', 'district_Parque_Alves_de_Lima', 'district_Parque_Arariba', 'district_Parque_Artur_Alvim', 'district_Parque_Assunção', 'district_Parque_Bairro_Morumbi', 'district_Parque_Boturussu', 'district_Parque_Bristol', 'district_Parque_Casa_de_Pedra', 'district_Parque_Cecap', 'district_Parque_Cisper', 'district_Parque_Colonial', 'district_Parque_Continental', 'district_Parque_Continental_I', 'district_Parque_Continental_Ii', 'district_Parque_Cruzeiro_do_Sul', 'district_Parque_Cruzeiro_do_Sul_(vila_Formosa)', 'district_Parque_Edu_Chaves', 'district_Parque_Esmeralda', 'district_Parque_Fongaro', 'district_Parque_Guarani', 'district_Parque_Imperial', 'district_Parque_Independencia', 'district_Parque_Industrial_Tomas_Edson', 'district_Parque_Ipe', 'district_Parque_Ipê', 'district_Parque_Itaberaba', 'district_Parque_Jabaquara', 'district_Parque_João_Ramalho', 'district_Parque_Mandaqui', 'district_Parque_Mandi', 'district_Parque_Maria_Domitila', 'district_Parque_Maria_Luiza', 'district_Parque_Monte_Alegre', 'district_Parque_Monteiro_Soares', 'district_Parque_Munhoz', 'district_Parque_Nações_Unidas', 'district_Parque_Novo_Mundo', 'district_Parque_Oratorio', 'district_Parque_Oratório', 'district_Parque_Paineiras', 'district_Parque_Panamericano', 'district_Parque_Penha', 'district_Parque_Peruche', 'district_Parque_Ramos_Freitas', 'district_Parque_Reboucas', 'district_Parque_Regina', 'district_Parque_Renato_Maia', 'district_Parque_Residencial_Julia', 'district_Parque_Residencial_da_Lapa', 'district_Parque_Santa_Luzia', 'district_Parque_Santa_Madalena', 'district_Parque_Santo_Antônio', 'district_Parque_Santos_Dumont', 'district_Parque_Sao_Domingos', 'district_Parque_Sao_Francisco', 'district_Parque_Sao_Luis', 'district_Parque_Sevilha', 'district_Parque_São_Domingos', 'district_Parque_São_Jorge', 'district_Parque_São_Lucas', 'district_Parque_São_Luís', 'district_Parque_Tomas_Saraiva', 'district_Parque_Vitoria', 'district_Parque_Vitória', 'district_Parque_da_Lapa', 'district_Parque_da_Mooca', 'district_Parque_da_Vila_Prudente', 'district_Parque_das_Nações', 'district_Parque_das_Paineiras', 'district_Parque_do_Estado', 'district_Parque_do_Morumbi', 'district_Parque_dos_Bancários', 'district_Parque_dos_Principes', 'district_Paulicéia', 'district_Pedreira', 'district_Penha_de_França', 'district_Perdizes', 'district_Pestana', 'district_Picanço', 'district_Pinheiros', 'district_Piqueri', 'district_Piratininga', 'district_Pirituba', 'district_Planalto_Paulista', 'district_Pompeia', 'district_Ponte_Grande', 'district_Ponte_Pequena', 'district_Portal_dos_Gramados', 'district_Presidente_Altino', 'district_Quarta_Parada', 'district_Quinta_da_Paineira', 'district_Quitaúna', 'district_Raposo_Tavares', 'district_Real_Parque', 'district_Recanto_Morumbi', 'district_Recanto_Paraíso', 'district_Recanto_das_Rosas', 'district_Republica', 'district_República', 'district_Residencial_Cinco_(alphaville)', 'district_Residencial_Seis_(alphaville)', 'district_Residencial_Tres_(tambore)', 'district_Retiro_Morumbi', 'district_Rio_Pequeno', 'district_Rolinópolis', 'district_Rudge_Ramos', 'district_Sacoma', 'district_Sacomã', 'district_Santa_Cecilia', 'district_Santa_Cecília', 'district_Santa_Efigênia', 'district_Santa_Ifigênia', 'district_Santa_Inês', 'district_Santa_Maria', 'district_Santa_Paula', 'district_Santa_Rita', 'district_Santa_Teresinha', 'district_Santa_Terezinha', 'district_Santana', 'district_Santo_Amaro', 'district_Santo_Antônio', 'district_Sapopemba', 'district_Saúde', 'district_Siciliano', 'district_Silveira', 'district_Socorro', 'district_Suiço', 'district_Sumarezinho', 'district_Sumaré', 'district_Super_Quadra_Morumbi', 'district_Suísso', 'district_São_Domingos', 'district_São_José', 'district_São_João_Climaco', 'district_São_João_Clímaco', 'district_São_Judas', 'district_São_Lucas', 'district_São_Miguel_Paulista', 'district_São_Pedro', 'district_Sé', 'district_Sítio_Morro_Grande', 'district_Sítio_Pinheirinho', 'district_Sítio_da_Figueira', 'district_Sítio_do_Mandaqui', 'district_Sítio_do_Morro', 'district_Sítio_do_Piqueri', 'district_Taboão', 'district_Tamboré', 'district_Tatuapé', 'district_Terceira_Divisão_de_Interlagos', 'district_Tremembé', 'district_Tucuruvi', 'district_Umuarama', 'district_Usina_Piratininga', 'district_Utinga', 'district_Varzea_do_Glicerio', 'district_Veleiros', 'district_Veloso', 'district_Vila_Adalgisa', 'district_Vila_Albano', 'district_Vila_Albertina', 'district_Vila_Alexandria', 'district_Vila_Algusta', 'district_Vila_Alianca', 'district_Vila_Alice', 'district_Vila_Alpina', 'district_Vila_Alto_de_Santo_André', 'district_Vila_Alzira', 'district_Vila_Amalia_(zona_Leste)', 'district_Vila_Amalia_(zona_Norte)', 'district_Vila_America', 'district_Vila_Amália_(zona_Norte)', 'district_Vila_Amélia', 'district_Vila_América', 'district_Vila_Anadir', 'district_Vila_Anastácio', 'district_Vila_Andrade', 'district_Vila_Anglo_Brasileira', 'district_Vila_Anhanguera', 'district_Vila_Anhangüera', 'district_Vila_Antonieta', 'district_Vila_Antonina', 'district_Vila_Antonio', 'district_Vila_Antônio', 'district_Vila_Antônio_dos_Santos', 'district_Vila_Araguaia', 'district_Vila_Arapua', 'district_Vila_Arapuã', 'district_Vila_Arcadia', 'district_Vila_Arcádia', 'district_Vila_Aricanduva', 'district_Vila_Arriete', 'district_Vila_Arruda', 'district_Vila_Assunção', 'district_Vila_Augusta', 'district_Vila_Aurora_(Zona_Norte)', 'district_Vila_Aurora_(zona_Norte)', 'district_Vila_Azevedo', 'district_Vila_Babilonia', 'district_Vila_Babilônia', 'district_Vila_Bancaria', 'district_Vila_Bancária', 'district_Vila_Bandeirantes', 'district_Vila_Barbosa', 'district_Vila_Barreto', 'district_Vila_Barros', 'district_Vila_Baruel', 'district_Vila_Basileia', 'district_Vila_Bastos', 'district_Vila_Beatriz', 'district_Vila_Bela', 'district_Vila_Bela_Vista_(zona_Norte)', 'district_Vila_Bertioga', 'district_Vila_Boa_Vista', 'district_Vila_Boacava', 'district_Vila_Bonilha', 'district_Vila_Bonilha_Nova', 'district_Vila_Brasil', 'district_Vila_Brasilandia', 'district_Vila_Brasilina', 'district_Vila_Brasilio_Machado', 'district_Vila_Brasilândia', 'district_Vila_Brasílio_Machado', 'district_Vila_Bremen', 'district_Vila_Bruna', 'district_Vila_Buarque', 'district_Vila_Buenos_Aires', 'district_Vila_Butantã', 'district_Vila_Cachoeira', 'district_Vila_California', 'district_Vila_California(zona_Sul)', 'district_Vila_Califórnia', 'district_Vila_Califórnia(zona_Sul)', 'district_Vila_Camilopolis', 'district_Vila_Camilópolis', 'district_Vila_Caminho_do_Mar', 'district_Vila_Campanela', 'district_Vila_Campesina', 'district_Vila_Campestre', 'district_Vila_Campo_Grande', 'district_Vila_Canero', 'district_Vila_Capitao_Rabelo', 'district_Vila_Caraguata', 'district_Vila_Caraguatá', 'district_Vila_Carbone', 'district_Vila_Cardoso_Franco', 'district_Vila_Carlos_de_Campos', 'district_Vila_Carmem', 'district_Vila_Carmosina', 'district_Vila_Carolina', 'district_Vila_Carrao', 'district_Vila_Carrão', 'district_Vila_Castelo', 'district_Vila_Catupia', 'district_Vila_Cavaton', 'district_Vila_Celeste', 'district_Vila_Centenário', 'district_Vila_Clarice', 'district_Vila_Clementino', 'district_Vila_Cleonice', 'district_Vila_Cláudia', 'district_Vila_Comercial', 'district_Vila_Conceição', 'district_Vila_Congonhas', 'district_Vila_Constanca', 'district_Vila_Constancia', 'district_Vila_Constança', 'district_Vila_Continental', 'district_Vila_Cordeiro', 'district_Vila_Cosmopolita', 'district_Vila_Costa_Melo', 'district_Vila_Cristalia', 'district_Vila_Cristália', 'district_Vila_Cruz_das_Almas', 'district_Vila_Cruzeiro', 'district_Vila_Curuca', 'district_Vila_Curuçá', 'district_Vila_Dalila', 'district_Vila_Dalva', 'district_Vila_Deodoro', 'district_Vila_Dinorah', 'district_Vila_Dionisia', 'district_Vila_Diva', 'district_Vila_Diva_(zona_Leste)', 'district_Vila_Diva_(zona_Norte)', 'district_Vila_Divina_Pastora', 'district_Vila_Dom_Pedro_I', 'district_Vila_Dom_Pedro_Ii', 'district_Vila_Domitila', 'district_Vila_Dora', 'district_Vila_Ede', 'district_Vila_Eldízia', 'district_Vila_Elvira', 'district_Vila_Elze', 'district_Vila_Ema', 'district_Vila_Emir', 'district_Vila_Endres', 'district_Vila_Engenho_Novo', 'district_Vila_Erna', 'district_Vila_Ernesto', 'district_Vila_Esperança', 'district_Vila_Esplanada', 'district_Vila_Ester', 'district_Vila_Ester_(zona_Norte)', 'district_Vila_Euthalia', 'district_Vila_Fachini', 'district_Vila_Fernandes', 'district_Vila_Fiat_Lux', 'district_Vila_Fidalgo', 'district_Vila_Fidelis_Ribeiro', 'district_Vila_Firmiano_Pinto', 'district_Vila_Fiuza', 'district_Vila_Floresta', 'district_Vila_Flórida', 'district_Vila_Formosa', 'district_Vila_Franci', 'district_Vila_Francisco_Matarazzo', 'district_Vila_Friburgo', 'district_Vila_Fátima', 'district_Vila_Gabriel', 'district_Vila_Galvão', 'district_Vila_Gea', 'district_Vila_Germinal', 'district_Vila_Gertrudes', 'district_Vila_Gilda', 'district_Vila_Gomes', 'district_Vila_Gomes_Cardim', 'district_Vila_Gopouva', 'district_Vila_Graciosa', 'district_Vila_Granada', 'district_Vila_Guaca', 'district_Vila_Guarani', 'district_Vila_Guarani(zona_Leste)', 'district_Vila_Guarani_(Zona_Sul)', 'district_Vila_Guarani_(z_Sul)', 'district_Vila_Guarani_(zona_Sul)', 'district_Vila_Guedes', 'district_Vila_Guilherme', 'district_Vila_Guilhermina', 'district_Vila_Guiomar', 'district_Vila_Gumercindo', 'district_Vila_Gustavo', 'district_Vila_Hamburguesa', 'district_Vila_Harmonia', 'district_Vila_Hebe', 'district_Vila_Helena', 'district_Vila_Hermínia', 'district_Vila_Hulda', 'district_Vila_Humaitá', 'district_Vila_Inah', 'district_Vila_Independencia', 'district_Vila_Independência', 'district_Vila_Indiana', 'district_Vila_Industrial', 'district_Vila_Inglesa', 'district_Vila_Invernada', 'district_Vila_Ipojuca', 'district_Vila_Irmaos_Arnoni', 'district_Vila_Irmãos_Arnoni', 'district_Vila_Isa', 'district_Vila_Isolina_Mazzei', 'district_Vila_Ivone', 'district_Vila_Iório', 'district_Vila_Jacuí', 'district_Vila_Jaguara', 'district_Vila_Lageado', 'district_Vila_Lais', 'district_Vila_Laís', 'district_Vila_Leonor', 'district_Vila_Leopoldina', 'district_Vila_Libanesa', 'district_Vila_Liviero', 'district_Vila_Londrina', 'district_Vila_Lucia', 'district_Vila_Lucia_Elvira', 'district_Vila_Lucinda', 'district_Vila_Lúcia', 'district_Vila_Lúcia_Elvira', 'district_Vila_Madalena', 'district_Vila_Mafra', 'district_Vila_Mangalot', 'district_Vila_Maracanã', 'district_Vila_Marari', 'district_Vila_Margarida', 'district_Vila_Maria', 'district_Vila_Maria_Alta', 'district_Vila_Maria_Baixa', 'district_Vila_Maria_Trindade', 'district_Vila_Maria_Zélia', 'district_Vila_Mariana', 'district_Vila_Maricy', 'district_Vila_Marieta', 'district_Vila_Marina', 'district_Vila_Mariza_Mazzei', 'district_Vila_Marte', 'district_Vila_Mascote', 'district_Vila_Matiilde', 'district_Vila_Matilde', 'district_Vila_Mazzei', 'district_Vila_Medeiros', 'district_Vila_Mendes', 'district_Vila_Mercedes', 'district_Vila_Mesquita', 'district_Vila_Metalurgica', 'district_Vila_Metalúrgica', 'district_Vila_Milton', 'district_Vila_Mira', 'district_Vila_Miriam', 'district_Vila_Moinho_Velho', 'district_Vila_Monte_Alegre', 'district_Vila_Monumento', 'district_Vila_Moraes', 'district_Vila_Moreira', 'district_Vila_Morellato', 'district_Vila_Morse', 'district_Vila_Morumbi', 'district_Vila_N_Sra_de_Fatima', 'district_Vila_Nair', 'district_Vila_Nancy', 'district_Vila_Natalia', 'district_Vila_Natália', 'district_Vila_Nelson', 'district_Vila_Nhocune', 'district_Vila_Nilo', 'district_Vila_Nivi', 'district_Vila_Nogueira', 'district_Vila_Nossa_Senhora_de_Fátima', 'district_Vila_Nova', 'district_Vila_Nova_Alba', 'district_Vila_Nova_Cachoeirinha', 'district_Vila_Nova_Caledonia', 'district_Vila_Nova_Caledônia', 'district_Vila_Nova_Carolina', 'district_Vila_Nova_Conceição', 'district_Vila_Nova_Curuçá', 'district_Vila_Nova_Esperança', 'district_Vila_Nova_Manchester', 'district_Vila_Nova_Mazzei', 'district_Vila_Nova_Pauliceia', 'district_Vila_Nova_Santa_Luzia', 'district_Vila_Nova_Savoia', 'district_Vila_Nova_York', 'district_Vila_Nova_das_Belezas', 'district_Vila_Olinda', 'district_Vila_Olímpia', 'district_Vila_Oratorio', 'district_Vila_Oratório', 'district_Vila_Osasco', 'district_Vila_Paiva', 'district_Vila_Palmares', 'district_Vila_Palmeiras', 'district_Vila_Paranagua', 'district_Vila_Paranaguá', 'district_Vila_Parapuã', 'district_Vila_Parque_Jabaquara', 'district_Vila_Pauliceia', 'district_Vila_Paulicéia', 'district_Vila_Paulista', 'district_Vila_Paulistania', 'district_Vila_Paulo_Silas', 'district_Vila_Pedra_Branca', 'district_Vila_Pedro_Moreira', 'district_Vila_Penteado', 'district_Vila_Pereira_Barreto', 'district_Vila_Pereira_Cerca', 'district_Vila_Picinin', 'district_Vila_Pierina', 'district_Vila_Pires', 'district_Vila_Pirituba', 'district_Vila_Pita', 'district_Vila_Plana', 'district_Vila_Planalto', 'district_Vila_Polopoli', 'district_Vila_Pompéia', 'district_Vila_Portugal', 'district_Vila_Portuguesa', 'district_Vila_Pouso_Alegre', 'district_Vila_Prado', 'district_Vila_Praia', 'district_Vila_Prel', 'district_Vila_Primavera', 'district_Vila_Princesa_Isabel', 'district_Vila_Principe_de_Gales', 'district_Vila_Progredior', 'district_Vila_Progresso', 'district_Vila_Progresso_(zona_Norte)', 'district_Vila_Prudente', 'district_Vila_Príncipe_de_Gales', 'district_Vila_Ramos', 'district_Vila_Regente_Feijó', 'district_Vila_Regina', 'district_Vila_Renata', 'district_Vila_Rio', 'district_Vila_Rio_Branco', 'district_Vila_Rio_de_Janeiro', 'district_Vila_Romana', 'district_Vila_Romano', 'district_Vila_Romero', 'district_Vila_Roque', 'district_Vila_Rosalia', 'district_Vila_Rosália', 'district_Vila_Rui_Barbosa', 'district_Vila_Ré', 'district_Vila_Sabrina', 'district_Vila_Sacadura_Cabral', 'district_Vila_Salete', 'district_Vila_Santa_Catarina', 'district_Vila_Santa_Clara', 'district_Vila_Santa_Edwiges', 'district_Vila_Santa_Isabel', 'district_Vila_Santa_Luzia', 'district_Vila_Santa_Maria', 'district_Vila_Santa_Teresa', 'district_Vila_Santa_Teresa_(zona_Leste)', 'district_Vila_Santa_Teresa_(zona_Sul)', 'district_Vila_Santa_Terezinha', 'district_Vila_Santa_Terezinha_(zona_Norte)', 'district_Vila_Santa_Virginia', 'district_Vila_Santana', 'district_Vila_Santista', 'district_Vila_Santo_Antônio', 'district_Vila_Santo_Estefano', 'district_Vila_Santo_Estevão', 'district_Vila_Santo_Estéfano', 'district_Vila_Santos', 'district_Vila_Sao_Domingos', 'district_Vila_Sao_Francisco_(zona_Sul)', 'district_Vila_Sao_Geraldo', 'district_Vila_Sao_Luis(zona_Oeste)', 'district_Vila_Sao_Luiz_(valparaizo)', 'district_Vila_Sao_Nicolau', 'district_Vila_Sao_Paulo', 'district_Vila_Sao_Pedro', 'district_Vila_Sao_Vicente', 'district_Vila_Sargento_José_de_Paula', 'district_Vila_Scarpelli', 'district_Vila_Serralheiro', 'district_Vila_Silveira', 'district_Vila_Silvia', 'district_Vila_Siqueira_(zona_Norte)', 'district_Vila_Sirene', 'district_Vila_Socorro', 'district_Vila_Sofia', 'district_Vila_Sonia', 'district_Vila_Souza', 'district_Vila_Suzana', 'district_Vila_São_Domingos', 'district_Vila_São_Francisco', 'district_Vila_São_Francisco_(zona_Leste)', 'district_Vila_São_Francisco_(zona_Sul)', 'district_Vila_São_Geraldo', 'district_Vila_São_José', 'district_Vila_São_José_(ipiranga)', 'district_Vila_São_João', 'district_Vila_São_João_Batista', 'district_Vila_São_Judas_Tadeu', 'district_Vila_São_Luís(zona_Oeste)', 'district_Vila_São_Paulo', 'district_Vila_São_Pedro', 'district_Vila_São_Ricardo', 'district_Vila_São_Silvestre', 'district_Vila_São_Vicente', 'district_Vila_Sônia', 'district_Vila_Talarico', 'district_Vila_Tijuco', 'district_Vila_Tiradentes', 'district_Vila_Tolstoi', 'district_Vila_Trabalhista', 'district_Vila_Tramontano', 'district_Vila_Uberabinha', 'district_Vila_União', 'district_Vila_União_(zona_Leste)', 'district_Vila_Valparaiso', 'district_Vila_Valparaíso', 'district_Vila_Venditti', 'district_Vila_Vera', 'district_Vila_Vermelha', 'district_Vila_Virginia', 'district_Vila_Vivaldi', 'district_Vila_Yara', 'district_Vila_Yolanda', 'district_Vila_Zamataro', 'district_Vila_Zat', 'district_Vila_Zelina', 'district_Vila_Zilda', 'district_Vila_da_Paz', 'district_Vila_da_Saúde', 'district_Vila_das_Bandeiras', 'district_Vila_das_Belezas', 'district_Vila_das_Merces', 'district_Vila_das_Mercês', 'district_Vila_das_Palmeiras', 'district_Vila_do_Bosque', 'district_Vila_do_Castelo', 'district_Vila_do_Encontro', 'district_Vila_dos_Andrades', 'district_Vila_Água_Funda', 'district_Várzea_da_Barra_Funda', 'district_Água_Branca', 'district_Água_Fria', 'district_Água_Funda', 'district_Água_Rasa', 'type_Apartamento', 'type_Casa', 'type_Casa_em_condomínio', 'type_Studio_e_kitnet', 'bedrooms_0', 'bedrooms_1', 'bedrooms_2', 'bedrooms_3', 'bedrooms_4', 'bedrooms_5', 'bedrooms_6', 'garage_0', 'garage_1', 'garage_2', 'garage_3', 'garage_4', 'garage_5', 'garage_6']\n"
     ]
    }
   ],
   "source": [
    "# Define o nome das novas colunas criadas\n",
    "colunas_novas = (\n",
    "      [f\"{col}_scaled\" for col in cols_numericas] +\n",
    "          list(preprocessador.named_transformers_['cat'].get_feature_names_out(col_categoricas))\n",
    "          )\n",
    "\n",
    "print(colunas_novas)"
   ]
  },
  {
   "cell_type": "code",
   "execution_count": 93,
   "id": "700127b1",
   "metadata": {},
   "outputs": [],
   "source": [
    "# Convertendo Matriz Espassa (CSR)\n",
    "matriz_densa = matriz_csr.toarray()"
   ]
  },
  {
   "cell_type": "code",
   "execution_count": 94,
   "id": "f81de3c5",
   "metadata": {},
   "outputs": [
    {
     "name": "stdout",
     "output_type": "stream",
     "text": [
      "<class 'pandas.core.frame.DataFrame'>\n",
      "RangeIndex: 11527 entries, 0 to 11526\n",
      "Columns: 6506 entries, area_scaled to garage_6\n",
      "dtypes: float64(6506)\n",
      "memory usage: 572.2 MB\n"
     ]
    }
   ],
   "source": [
    "# Gerar DataFrame final\n",
    "df_transformado = pd.DataFrame(matriz_densa, columns=colunas_novas)\n",
    "df_transformado.info()"
   ]
  },
  {
   "cell_type": "code",
   "execution_count": 95,
   "id": "31f2b574",
   "metadata": {},
   "outputs": [
    {
     "data": {
      "text/plain": [
       "array([-0.87013424, -0.00931452, -0.00931452, ..., -0.16924943,\n",
       "       -0.09905378, -0.08619032])"
      ]
     },
     "execution_count": 95,
     "metadata": {},
     "output_type": "execute_result"
    }
   ],
   "source": [
    "# Escalonamento do dataframe\n",
    "from sklearn.preprocessing import StandardScaler\n",
    "scaler = StandardScaler()\n",
    "X_df_transformado = scaler.fit_transform(df_transformado)\n",
    "X_df_transformado[0]"
   ]
  },
  {
   "cell_type": "markdown",
   "id": "7f007a88",
   "metadata": {},
   "source": [
    "## Balanceamento dos dados/Divisão da Base em treinamento, teste"
   ]
  },
  {
   "cell_type": "code",
   "execution_count": 96,
   "id": "f99d4bfe",
   "metadata": {},
   "outputs": [
    {
     "data": {
      "application/vnd.microsoft.datawrangler.viewer.v0+json": {
       "columns": [
        {
         "name": "index",
         "rawType": "object",
         "type": "string"
        },
        {
         "name": "total",
         "rawType": "float64",
         "type": "float"
        }
       ],
       "ref": "41f3b42c-03ef-4e5a-83a6-1f9b80094b63",
       "rows": [
        [
         "count",
         "11527.0"
        ],
        [
         "mean",
         "4102.887308059339"
        ],
        [
         "std",
         "3358.231752929911"
        ],
        [
         "min",
         "509.0"
        ],
        [
         "25%",
         "2010.0"
        ],
        [
         "50%",
         "3076.0"
        ],
        [
         "75%",
         "4812.0"
        ],
        [
         "max",
         "28700.0"
        ]
       ],
       "shape": {
        "columns": 1,
        "rows": 8
       }
      },
      "text/plain": [
       "count    11527.000000\n",
       "mean      4102.887308\n",
       "std       3358.231753\n",
       "min        509.000000\n",
       "25%       2010.000000\n",
       "50%       3076.000000\n",
       "75%       4812.000000\n",
       "max      28700.000000\n",
       "Name: total, dtype: float64"
      ]
     },
     "execution_count": 96,
     "metadata": {},
     "output_type": "execute_result"
    }
   ],
   "source": [
    "y_imoveis.describe()"
   ]
  },
  {
   "cell_type": "code",
   "execution_count": 97,
   "id": "3969cb61",
   "metadata": {},
   "outputs": [
    {
     "data": {
      "image/png": "[encoded data removed]",
      "text/plain": [
       "<Figure size 800x550 with 1 Axes>"
      ]
     },
     "metadata": {},
     "output_type": "display_data"
    }
   ],
   "source": [
    "plt.hist(y_imoveis, bins=100, edgecolor='black', color='skyblue')\n",
    "\n",
    "# Adicione rótulos e título\n",
    "plt.title('Histograma da Distribuição de Valores de Aluguel')\n",
    "plt.xlabel('Valor de Aluguel')\n",
    "plt.ylabel('Frequência')\n",
    "\n",
    "# Exiba o gráfico\n",
    "plt.show()"
   ]
  },
  {
   "cell_type": "code",
   "execution_count": 98,
   "id": "e7911123",
   "metadata": {},
   "outputs": [],
   "source": [
    "from sklearn.model_selection import train_test_split\n",
    "X_treinamento, X_teste, y_treinamento, y_teste = train_test_split(X_df_transformado, y_imoveis, \n",
    "                                                                              test_size = 0.25, random_state =7)"
   ]
  },
  {
   "cell_type": "code",
   "execution_count": 99,
   "id": "ecb8daea",
   "metadata": {},
   "outputs": [
    {
     "name": "stdout",
     "output_type": "stream",
     "text": [
      "Shape Treinamento ( X, y)\n",
      "(8645, 6506) (8645,)\n",
      "Shape Teste (X, y)\n",
      "(2882, 6506) (2882,)\n"
     ]
    }
   ],
   "source": [
    "print('Shape Treinamento ( X, y)')\n",
    "print(X_treinamento.shape, y_treinamento.shape)\n",
    "print('Shape Teste (X, y)')\n",
    "print(X_teste.shape, y_teste.shape)"
   ]
  },
  {
   "cell_type": "code",
   "execution_count": 100,
   "id": "75d75122",
   "metadata": {},
   "outputs": [
    {
     "data": {
      "text/plain": [
       "array([[-0.61358323, -0.00931452, -0.00931452, ..., -0.16924943,\n",
       "        -0.09905378, -0.08619032],\n",
       "       [-0.58657786, -0.00931452, -0.00931452, ..., -0.16924943,\n",
       "        -0.09905378, -0.08619032],\n",
       "       [-0.54606981, -0.00931452, -0.00931452, ..., -0.16924943,\n",
       "        -0.09905378, -0.08619032],\n",
       "       ...,\n",
       "       [ 0.53414499, -0.00931452, -0.00931452, ..., -0.16924943,\n",
       "        -0.09905378, -0.08619032],\n",
       "       [-0.78911814, -0.00931452, -0.00931452, ..., -0.16924943,\n",
       "        -0.09905378, -0.08619032],\n",
       "       [ 0.29109666, -0.00931452, -0.00931452, ..., -0.16924943,\n",
       "        -0.09905378, -0.08619032]])"
      ]
     },
     "execution_count": 100,
     "metadata": {},
     "output_type": "execute_result"
    }
   ],
   "source": [
    "X_treinamento"
   ]
  },
  {
   "cell_type": "markdown",
   "id": "b1fabe6f",
   "metadata": {},
   "source": [
    "## Treinamento de Modelos"
   ]
  },
  {
   "cell_type": "code",
   "execution_count": 101,
   "id": "d748cf8f",
   "metadata": {},
   "outputs": [],
   "source": [
    "from yellowbrick.classifier import ConfusionMatrix\n",
    "from sklearn.metrics import classification_report, accuracy_score\n",
    "\n",
    "def model_analyser(modelo, X_treinamento, y_treinamento, X_teste, y_teste):\n",
    "    modelo.fit(X_treinamento, y_treinamento)\n",
    "    previsoes = modelo.predict(X_teste)\n",
    "    print('Previsões:')\n",
    "    print(f'{previsoes = }\\n')\n",
    "    print(f'{y_teste = }\\n\\n')\n",
    "\n",
    "    print('Relatório de Classificação:')\n",
    "    print(classification_report(y_teste, previsoes))\n",
    "\n",
    "    accuracy = accuracy_score(y_teste, previsoes)\n",
    "    print(f'Acurácia: {accuracy}')\n",
    "\n",
    "    print('Matriz de Confusão:')\n",
    "    cm = ConfusionMatrix(modelo)\n",
    "    cm.fit(X_treinamento, y_treinamento)\n",
    "    cm.score(X_teste, y_teste)\n",
    "\n",
    "    return accuracy"
   ]
  },
  {
   "cell_type": "markdown",
   "id": "737df5e8",
   "metadata": {},
   "source": [
    "### Naïve Bayes"
   ]
  },
  {
   "cell_type": "code",
   "execution_count": 102,
   "id": "7eea7d6c",
   "metadata": {},
   "outputs": [
    {
     "ename": "KeyboardInterrupt",
     "evalue": "",
     "output_type": "error",
     "traceback": [
      "\u001b[31m---------------------------------------------------------------------------\u001b[39m",
      "\u001b[31mKeyboardInterrupt\u001b[39m                         Traceback (most recent call last)",
      "\u001b[36mCell\u001b[39m\u001b[36m \u001b[39m\u001b[32mIn[102]\u001b[39m\u001b[32m, line 3\u001b[39m\n\u001b[32m      1\u001b[39m \u001b[38;5;28;01mfrom\u001b[39;00m\u001b[38;5;250m \u001b[39m\u001b[34;01msklearn\u001b[39;00m\u001b[34;01m.\u001b[39;00m\u001b[34;01mnaive_bayes\u001b[39;00m\u001b[38;5;250m \u001b[39m\u001b[38;5;28;01mimport\u001b[39;00m GaussianNB\n\u001b[32m      2\u001b[39m modelo_naive_bayes = GaussianNB()\n\u001b[32m----> \u001b[39m\u001b[32m3\u001b[39m nb_acc = \u001b[43mmodel_analyser\u001b[49m\u001b[43m(\u001b[49m\u001b[43mmodelo_naive_bayes\u001b[49m\u001b[43m,\u001b[49m\u001b[43m \u001b[49m\u001b[43mX_treinamento\u001b[49m\u001b[43m,\u001b[49m\u001b[43m \u001b[49m\u001b[43my_treinamento\u001b[49m\u001b[43m,\u001b[49m\u001b[43m \u001b[49m\u001b[43mX_teste\u001b[49m\u001b[43m,\u001b[49m\u001b[43m \u001b[49m\u001b[43my_teste\u001b[49m\u001b[43m)\u001b[49m\n",
      "\u001b[36mCell\u001b[39m\u001b[36m \u001b[39m\u001b[32mIn[101]\u001b[39m\u001b[32m, line 6\u001b[39m, in \u001b[36mmodel_analyser\u001b[39m\u001b[34m(modelo, X_treinamento, y_treinamento, X_teste, y_teste)\u001b[39m\n\u001b[32m      4\u001b[39m \u001b[38;5;28;01mdef\u001b[39;00m\u001b[38;5;250m \u001b[39m\u001b[34mmodel_analyser\u001b[39m(modelo, X_treinamento, y_treinamento, X_teste, y_teste):\n\u001b[32m      5\u001b[39m     modelo.fit(X_treinamento, y_treinamento)\n\u001b[32m----> \u001b[39m\u001b[32m6\u001b[39m     previsoes = \u001b[43mmodelo\u001b[49m\u001b[43m.\u001b[49m\u001b[43mpredict\u001b[49m\u001b[43m(\u001b[49m\u001b[43mX_teste\u001b[49m\u001b[43m)\u001b[49m\n\u001b[32m      7\u001b[39m     \u001b[38;5;28mprint\u001b[39m(\u001b[33m'\u001b[39m\u001b[33mPrevisões:\u001b[39m\u001b[33m'\u001b[39m)\n\u001b[32m      8\u001b[39m     \u001b[38;5;28mprint\u001b[39m(\u001b[33mf\u001b[39m\u001b[33m'\u001b[39m\u001b[38;5;132;01m{\u001b[39;00mprevisoes\u001b[38;5;250m \u001b[39m\u001b[38;5;132;01m= }\u001b[39;00m\u001b[38;5;130;01m\\n\u001b[39;00m\u001b[33m'\u001b[39m)\n",
      "\u001b[36mFile \u001b[39m\u001b[32m~/.pyenv/versions/.notebooks/lib/python3.12/site-packages/sklearn/naive_bayes.py:106\u001b[39m, in \u001b[36m_BaseNB.predict\u001b[39m\u001b[34m(self, X)\u001b[39m\n\u001b[32m    104\u001b[39m check_is_fitted(\u001b[38;5;28mself\u001b[39m)\n\u001b[32m    105\u001b[39m X = \u001b[38;5;28mself\u001b[39m._check_X(X)\n\u001b[32m--> \u001b[39m\u001b[32m106\u001b[39m jll = \u001b[38;5;28;43mself\u001b[39;49m\u001b[43m.\u001b[49m\u001b[43m_joint_log_likelihood\u001b[49m\u001b[43m(\u001b[49m\u001b[43mX\u001b[49m\u001b[43m)\u001b[49m\n\u001b[32m    107\u001b[39m \u001b[38;5;28;01mreturn\u001b[39;00m \u001b[38;5;28mself\u001b[39m.classes_[np.argmax(jll, axis=\u001b[32m1\u001b[39m)]\n",
      "\u001b[36mFile \u001b[39m\u001b[32m~/.pyenv/versions/.notebooks/lib/python3.12/site-packages/sklearn/naive_bayes.py:514\u001b[39m, in \u001b[36mGaussianNB._joint_log_likelihood\u001b[39m\u001b[34m(self, X)\u001b[39m\n\u001b[32m    512\u001b[39m     jointi = np.log(\u001b[38;5;28mself\u001b[39m.class_prior_[i])\n\u001b[32m    513\u001b[39m     n_ij = -\u001b[32m0.5\u001b[39m * np.sum(np.log(\u001b[32m2.0\u001b[39m * np.pi * \u001b[38;5;28mself\u001b[39m.var_[i, :]))\n\u001b[32m--> \u001b[39m\u001b[32m514\u001b[39m     n_ij -= \u001b[32m0.5\u001b[39m * \u001b[43mnp\u001b[49m\u001b[43m.\u001b[49m\u001b[43msum\u001b[49m\u001b[43m(\u001b[49m\u001b[43m(\u001b[49m\u001b[43m(\u001b[49m\u001b[43mX\u001b[49m\u001b[43m \u001b[49m\u001b[43m-\u001b[49m\u001b[43m \u001b[49m\u001b[38;5;28;43mself\u001b[39;49m\u001b[43m.\u001b[49m\u001b[43mtheta_\u001b[49m\u001b[43m[\u001b[49m\u001b[43mi\u001b[49m\u001b[43m,\u001b[49m\u001b[43m \u001b[49m\u001b[43m:\u001b[49m\u001b[43m]\u001b[49m\u001b[43m)\u001b[49m\u001b[43m \u001b[49m\u001b[43m*\u001b[49m\u001b[43m*\u001b[49m\u001b[43m \u001b[49m\u001b[32;43m2\u001b[39;49m\u001b[43m)\u001b[49m\u001b[43m \u001b[49m\u001b[43m/\u001b[49m\u001b[43m \u001b[49m\u001b[43m(\u001b[49m\u001b[38;5;28;43mself\u001b[39;49m\u001b[43m.\u001b[49m\u001b[43mvar_\u001b[49m\u001b[43m[\u001b[49m\u001b[43mi\u001b[49m\u001b[43m,\u001b[49m\u001b[43m \u001b[49m\u001b[43m:\u001b[49m\u001b[43m]\u001b[49m\u001b[43m)\u001b[49m\u001b[43m,\u001b[49m\u001b[43m \u001b[49m\u001b[32;43m1\u001b[39;49m\u001b[43m)\u001b[49m\n\u001b[32m    515\u001b[39m     joint_log_likelihood.append(jointi + n_ij)\n\u001b[32m    517\u001b[39m joint_log_likelihood = np.array(joint_log_likelihood).T\n",
      "\u001b[36mFile \u001b[39m\u001b[32m~/.pyenv/versions/.notebooks/lib/python3.12/site-packages/numpy/_core/fromnumeric.py:2344\u001b[39m, in \u001b[36m_sum_dispatcher\u001b[39m\u001b[34m(a, axis, dtype, out, keepdims, initial, where)\u001b[39m\n\u001b[32m   2338\u001b[39m         \u001b[38;5;28;01mraise\u001b[39;00m \u001b[38;5;167;01mValueError\u001b[39;00m(\u001b[33m\"\u001b[39m\u001b[33mPassing `min` or `max` keyword argument when \u001b[39m\u001b[33m\"\u001b[39m\n\u001b[32m   2339\u001b[39m                          \u001b[33m\"\u001b[39m\u001b[33m`a_min` and `a_max` are provided is forbidden.\u001b[39m\u001b[33m\"\u001b[39m)\n\u001b[32m   2341\u001b[39m     \u001b[38;5;28;01mreturn\u001b[39;00m _wrapfunc(a, \u001b[33m'\u001b[39m\u001b[33mclip\u001b[39m\u001b[33m'\u001b[39m, a_min, a_max, out=out, **kwargs)\n\u001b[32m-> \u001b[39m\u001b[32m2344\u001b[39m \u001b[38;5;28;01mdef\u001b[39;00m\u001b[38;5;250m \u001b[39m\u001b[34m_sum_dispatcher\u001b[39m(a, axis=\u001b[38;5;28;01mNone\u001b[39;00m, dtype=\u001b[38;5;28;01mNone\u001b[39;00m, out=\u001b[38;5;28;01mNone\u001b[39;00m, keepdims=\u001b[38;5;28;01mNone\u001b[39;00m,\n\u001b[32m   2345\u001b[39m                     initial=\u001b[38;5;28;01mNone\u001b[39;00m, where=\u001b[38;5;28;01mNone\u001b[39;00m):\n\u001b[32m   2346\u001b[39m     \u001b[38;5;28;01mreturn\u001b[39;00m (a, out)\n\u001b[32m   2349\u001b[39m \u001b[38;5;129m@array_function_dispatch\u001b[39m(_sum_dispatcher)\n\u001b[32m   2350\u001b[39m \u001b[38;5;28;01mdef\u001b[39;00m\u001b[38;5;250m \u001b[39m\u001b[34msum\u001b[39m(a, axis=\u001b[38;5;28;01mNone\u001b[39;00m, dtype=\u001b[38;5;28;01mNone\u001b[39;00m, out=\u001b[38;5;28;01mNone\u001b[39;00m, keepdims=np._NoValue,\n\u001b[32m   2351\u001b[39m         initial=np._NoValue, where=np._NoValue):\n",
      "\u001b[31mKeyboardInterrupt\u001b[39m: "
     ]
    }
   ],
   "source": [
    "from sklearn.naive_bayes import GaussianNB\n",
    "modelo_naive_bayes = GaussianNB()\n",
    "nb_acc = model_analyser(modelo_naive_bayes, X_treinamento, y_treinamento, X_teste, y_teste)"
   ]
  },
  {
   "cell_type": "code",
   "execution_count": 112,
   "id": "24144a93",
   "metadata": {},
   "outputs": [],
   "source": [
    "#Salvando previsores e classe\n",
    "# salvar X_df e y_df\n",
    "import pickle\n",
    "with open('./dados/imoveis.pkl', mode = 'wb') as f:\n",
    "  pickle.dump([X_imoveis, y_imoveis], f)"
   ]
  },
  {
   "cell_type": "code",
   "execution_count": null,
   "id": "db4158f8",
   "metadata": {},
   "outputs": [],
   "source": [
    "#Carrega dos dados salvos\n",
    "import pickle\n",
    "with open('./dados/imoveis.pkl', mode='rb') as f:\n",
    "    previsores, classe = pickle.load(f)"
   ]
  }
 ],
 "metadata": {
  "kernelspec": {
   "display_name": ".notebooks",
   "language": "python",
   "name": "python3"
  },
  "language_info": {
   "codemirror_mode": {
    "name": "ipython",
    "version": 3
   },
   "file_extension": ".py",
   "mimetype": "text/x-python",
   "name": "python",
   "nbconvert_exporter": "python",
   "pygments_lexer": "ipython3",
   "version": "3.12.9"
  }
 },
 "nbformat": 4,
 "nbformat_minor": 5
}
